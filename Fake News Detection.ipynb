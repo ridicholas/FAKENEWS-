{
 "cells": [
  {
   "cell_type": "markdown",
   "metadata": {},
   "source": [
    "# Fake News Detection"
   ]
  },
  {
   "cell_type": "markdown",
   "metadata": {},
   "source": [
    "## Introduction"
   ]
  },
  {
   "cell_type": "markdown",
   "metadata": {},
   "source": [
    "Fake news detection is a subject that has been getting a lot of press coverage in recent years. People make decisions based on the news they digest, and fake news gets in the way of the public making well-informed decisions. The community is overwhelmed with information and is unsure of what can be trusted. Often, the public ends up trusting inaccurate information. Many social media companies are currently trying to solve the issue of fake news spreading rapidly throughout their platforms. A reliable tool to identify untrustworthy news is needed to filter the information we receive.\n",
    "\n",
    "We are trying to see if we can use text mining to classify news articles as real or fake based on the text in the article body and/or headline."
   ]
  },
  {
   "cell_type": "markdown",
   "metadata": {},
   "source": [
    "## The Data"
   ]
  },
  {
   "cell_type": "markdown",
   "metadata": {},
   "source": [
    "We will make use of 2 main datasets, one of which will be used for training and the other for testing. \n",
    "\n",
    "Of course, the definition of \"fake\" news is not entirely straightforward. News is made up of many lines of text, some of which may contain bias, satire, exageration, and have some lines that are objectively false and some that are objectively true. \n",
    "\n",
    "For the purpose of this project, we will assume (or rather hope) that the datasets used somewhat accurately categorized news into \"unreliable\" and \"reliable,\" meaning that the news classified as \"unreliable\" is primarily made of statements that are objectively false.  "
   ]
  },
  {
   "cell_type": "code",
   "execution_count": 2,
   "metadata": {},
   "outputs": [],
   "source": [
    "import matplotlib.pyplot as plt; plt.rcdefaults()\n",
    "import matplotlib.pyplot as plt\n",
    "import pandas as pd\n",
    "import numpy as np\n",
    "import scipy"
   ]
  },
  {
   "cell_type": "code",
   "execution_count": 3,
   "metadata": {},
   "outputs": [],
   "source": [
    "train = pd.read_csv(\"train1.csv\",encoding='utf_8') ## read in train data\n",
    "test = pd.read_csv(\"train2.csv\",encoding='utf_8') ## read in test data\n",
    "\n",
    "\n",
    "train = train.drop_duplicates(subset = ['title'], keep = 'first'); ##dedup train data\n",
    "test = test.drop_duplicates(subset = ['title'], keep = 'first'); ##dedup test data\n",
    "\n",
    "train = train.drop_duplicates(subset = ['text'], keep = 'first'); ##dedup train data\n",
    "test = test.drop_duplicates(subset = ['text'], keep = 'first'); ##dedup test data\n",
    "\n",
    "train.text = [str(text) for text in train.text]\n",
    "test.text = [str(text) for text in test.text]\n",
    "train.title = [str(title) for title in train.title]\n",
    "test.title = [str(title) for title in test.title]\n"
   ]
  },
  {
   "cell_type": "markdown",
   "metadata": {},
   "source": [
    "The training dataset was taken from a recent [kaggle competition on spotting fake news](https://www.kaggle.com/c/fake-news/data) (train.csv). \n",
    "\n",
    "The dataset contains 19510 instances and has the following features:\n",
    "\n",
    "- ID\n",
    "- Title\n",
    "- Author\n",
    "- Text\n",
    "- Label (1 = \"Unreliable\", 0 = \"Reliable\")\n",
    "\n",
    "We will only be using Title and Text as features to try and learn the concept of reliable vs unreliable news. We will not be using the author because we want to judge the documents on their content, rather than on their source. Further reasoning for this is that even historically reliable sources might public unreliable news, and vice-versa. \n",
    "\n",
    "Below is a sample set of the first 10 instances of data as an example:"
   ]
  },
  {
   "cell_type": "code",
   "execution_count": 4,
   "metadata": {},
   "outputs": [
    {
     "data": {
      "text/html": [
       "<div>\n",
       "<style scoped>\n",
       "    .dataframe tbody tr th:only-of-type {\n",
       "        vertical-align: middle;\n",
       "    }\n",
       "\n",
       "    .dataframe tbody tr th {\n",
       "        vertical-align: top;\n",
       "    }\n",
       "\n",
       "    .dataframe thead th {\n",
       "        text-align: right;\n",
       "    }\n",
       "</style>\n",
       "<table border=\"1\" class=\"dataframe\">\n",
       "  <thead>\n",
       "    <tr style=\"text-align: right;\">\n",
       "      <th></th>\n",
       "      <th>id</th>\n",
       "      <th>title</th>\n",
       "      <th>author</th>\n",
       "      <th>text</th>\n",
       "      <th>label</th>\n",
       "    </tr>\n",
       "  </thead>\n",
       "  <tbody>\n",
       "    <tr>\n",
       "      <th>0</th>\n",
       "      <td>0</td>\n",
       "      <td>House Dem Aide: We Didn’t Even See Comey’s Let...</td>\n",
       "      <td>Darrell Lucus</td>\n",
       "      <td>House Dem Aide: We Didn’t Even See Comey’s Let...</td>\n",
       "      <td>1</td>\n",
       "    </tr>\n",
       "    <tr>\n",
       "      <th>1</th>\n",
       "      <td>1</td>\n",
       "      <td>FLYNN: Hillary Clinton, Big Woman on Campus - ...</td>\n",
       "      <td>Daniel J. Flynn</td>\n",
       "      <td>Ever get the feeling your life circles the rou...</td>\n",
       "      <td>0</td>\n",
       "    </tr>\n",
       "    <tr>\n",
       "      <th>2</th>\n",
       "      <td>2</td>\n",
       "      <td>Why the Truth Might Get You Fired</td>\n",
       "      <td>Consortiumnews.com</td>\n",
       "      <td>Why the Truth Might Get You Fired October 29, ...</td>\n",
       "      <td>1</td>\n",
       "    </tr>\n",
       "    <tr>\n",
       "      <th>3</th>\n",
       "      <td>3</td>\n",
       "      <td>15 Civilians Killed In Single US Airstrike Hav...</td>\n",
       "      <td>Jessica Purkiss</td>\n",
       "      <td>Videos 15 Civilians Killed In Single US Airstr...</td>\n",
       "      <td>1</td>\n",
       "    </tr>\n",
       "    <tr>\n",
       "      <th>4</th>\n",
       "      <td>4</td>\n",
       "      <td>Iranian woman jailed for fictional unpublished...</td>\n",
       "      <td>Howard Portnoy</td>\n",
       "      <td>Print \\nAn Iranian woman has been sentenced to...</td>\n",
       "      <td>1</td>\n",
       "    </tr>\n",
       "    <tr>\n",
       "      <th>5</th>\n",
       "      <td>5</td>\n",
       "      <td>Jackie Mason: Hollywood Would Love Trump if He...</td>\n",
       "      <td>Daniel Nussbaum</td>\n",
       "      <td>In these trying times, Jackie Mason is the Voi...</td>\n",
       "      <td>0</td>\n",
       "    </tr>\n",
       "    <tr>\n",
       "      <th>6</th>\n",
       "      <td>6</td>\n",
       "      <td>Life: Life Of Luxury: Elton John’s 6 Favorite ...</td>\n",
       "      <td>NaN</td>\n",
       "      <td>Ever wonder how Britain’s most iconic pop pian...</td>\n",
       "      <td>1</td>\n",
       "    </tr>\n",
       "    <tr>\n",
       "      <th>7</th>\n",
       "      <td>7</td>\n",
       "      <td>Benoît Hamon Wins French Socialist Party’s Pre...</td>\n",
       "      <td>Alissa J. Rubin</td>\n",
       "      <td>PARIS  —   France chose an idealistic, traditi...</td>\n",
       "      <td>0</td>\n",
       "    </tr>\n",
       "    <tr>\n",
       "      <th>8</th>\n",
       "      <td>8</td>\n",
       "      <td>Excerpts From a Draft Script for Donald Trump’...</td>\n",
       "      <td>NaN</td>\n",
       "      <td>Donald J. Trump is scheduled to make a highly ...</td>\n",
       "      <td>0</td>\n",
       "    </tr>\n",
       "    <tr>\n",
       "      <th>9</th>\n",
       "      <td>9</td>\n",
       "      <td>A Back-Channel Plan for Ukraine and Russia, Co...</td>\n",
       "      <td>Megan Twohey and Scott Shane</td>\n",
       "      <td>A week before Michael T. Flynn resigned as nat...</td>\n",
       "      <td>0</td>\n",
       "    </tr>\n",
       "  </tbody>\n",
       "</table>\n",
       "</div>"
      ],
      "text/plain": [
       "   id                                              title  \\\n",
       "0   0  House Dem Aide: We Didn’t Even See Comey’s Let...   \n",
       "1   1  FLYNN: Hillary Clinton, Big Woman on Campus - ...   \n",
       "2   2                  Why the Truth Might Get You Fired   \n",
       "3   3  15 Civilians Killed In Single US Airstrike Hav...   \n",
       "4   4  Iranian woman jailed for fictional unpublished...   \n",
       "5   5  Jackie Mason: Hollywood Would Love Trump if He...   \n",
       "6   6  Life: Life Of Luxury: Elton John’s 6 Favorite ...   \n",
       "7   7  Benoît Hamon Wins French Socialist Party’s Pre...   \n",
       "8   8  Excerpts From a Draft Script for Donald Trump’...   \n",
       "9   9  A Back-Channel Plan for Ukraine and Russia, Co...   \n",
       "\n",
       "                         author  \\\n",
       "0                 Darrell Lucus   \n",
       "1               Daniel J. Flynn   \n",
       "2            Consortiumnews.com   \n",
       "3               Jessica Purkiss   \n",
       "4                Howard Portnoy   \n",
       "5               Daniel Nussbaum   \n",
       "6                           NaN   \n",
       "7               Alissa J. Rubin   \n",
       "8                           NaN   \n",
       "9  Megan Twohey and Scott Shane   \n",
       "\n",
       "                                                text  label  \n",
       "0  House Dem Aide: We Didn’t Even See Comey’s Let...      1  \n",
       "1  Ever get the feeling your life circles the rou...      0  \n",
       "2  Why the Truth Might Get You Fired October 29, ...      1  \n",
       "3  Videos 15 Civilians Killed In Single US Airstr...      1  \n",
       "4  Print \\nAn Iranian woman has been sentenced to...      1  \n",
       "5  In these trying times, Jackie Mason is the Voi...      0  \n",
       "6  Ever wonder how Britain’s most iconic pop pian...      1  \n",
       "7  PARIS  —   France chose an idealistic, traditi...      0  \n",
       "8  Donald J. Trump is scheduled to make a highly ...      0  \n",
       "9  A week before Michael T. Flynn resigned as nat...      0  "
      ]
     },
     "execution_count": 4,
     "metadata": {},
     "output_type": "execute_result"
    }
   ],
   "source": [
    "train.head(10) ##show first 10 instances"
   ]
  },
  {
   "cell_type": "code",
   "execution_count": 5,
   "metadata": {},
   "outputs": [
    {
     "data": {
      "text/plain": [
       "(19510, 5)"
      ]
     },
     "execution_count": 5,
     "metadata": {},
     "output_type": "execute_result"
    }
   ],
   "source": [
    "train.shape ##shows # instances and features"
   ]
  },
  {
   "cell_type": "markdown",
   "metadata": {},
   "source": [
    "The testing dataset was taken from another [project found on github](https://github.com/GeorgeMcIntire/fake_real_news_dataset)). This dataset was labeled using the chrome \"BS Detector Extension). \n",
    "\n",
    "The dataset contains 6011 instances and has the following features:\n",
    "\n",
    "- ID\n",
    "- Title\n",
    "- Text\n",
    "- Label (\"Fake\" & \"Real\")\n",
    "\n",
    "We will only be using Title and Text as features to try and test our understanding of the concept of reliable vs unreliable news. \n",
    "Below is a sample set of the first 10 instances of data as an example:"
   ]
  },
  {
   "cell_type": "code",
   "execution_count": 6,
   "metadata": {},
   "outputs": [
    {
     "data": {
      "text/html": [
       "<div>\n",
       "<style scoped>\n",
       "    .dataframe tbody tr th:only-of-type {\n",
       "        vertical-align: middle;\n",
       "    }\n",
       "\n",
       "    .dataframe tbody tr th {\n",
       "        vertical-align: top;\n",
       "    }\n",
       "\n",
       "    .dataframe thead th {\n",
       "        text-align: right;\n",
       "    }\n",
       "</style>\n",
       "<table border=\"1\" class=\"dataframe\">\n",
       "  <thead>\n",
       "    <tr style=\"text-align: right;\">\n",
       "      <th></th>\n",
       "      <th>Unnamed: 0</th>\n",
       "      <th>title</th>\n",
       "      <th>text</th>\n",
       "      <th>label</th>\n",
       "    </tr>\n",
       "  </thead>\n",
       "  <tbody>\n",
       "    <tr>\n",
       "      <th>0</th>\n",
       "      <td>8476</td>\n",
       "      <td>You Can Smell Hillary’s Fear</td>\n",
       "      <td>Daniel Greenfield, a Shillman Journalism Fello...</td>\n",
       "      <td>FAKE</td>\n",
       "    </tr>\n",
       "    <tr>\n",
       "      <th>1</th>\n",
       "      <td>10294</td>\n",
       "      <td>Watch The Exact Moment Paul Ryan Committed Pol...</td>\n",
       "      <td>Google Pinterest Digg Linkedin Reddit Stumbleu...</td>\n",
       "      <td>FAKE</td>\n",
       "    </tr>\n",
       "    <tr>\n",
       "      <th>2</th>\n",
       "      <td>3608</td>\n",
       "      <td>Kerry to go to Paris in gesture of sympathy</td>\n",
       "      <td>U.S. Secretary of State John F. Kerry said Mon...</td>\n",
       "      <td>REAL</td>\n",
       "    </tr>\n",
       "    <tr>\n",
       "      <th>3</th>\n",
       "      <td>10142</td>\n",
       "      <td>Bernie supporters on Twitter erupt in anger ag...</td>\n",
       "      <td>— Kaydee King (@KaydeeKing) November 9, 2016 T...</td>\n",
       "      <td>FAKE</td>\n",
       "    </tr>\n",
       "    <tr>\n",
       "      <th>4</th>\n",
       "      <td>875</td>\n",
       "      <td>The Battle of New York: Why This Primary Matters</td>\n",
       "      <td>It's primary day in New York and front-runners...</td>\n",
       "      <td>REAL</td>\n",
       "    </tr>\n",
       "    <tr>\n",
       "      <th>5</th>\n",
       "      <td>6903</td>\n",
       "      <td>Tehran, USA</td>\n",
       "      <td>\\nI’m not an immigrant, but my grandparents ...</td>\n",
       "      <td>FAKE</td>\n",
       "    </tr>\n",
       "    <tr>\n",
       "      <th>6</th>\n",
       "      <td>7341</td>\n",
       "      <td>Girl Horrified At What She Watches Boyfriend D...</td>\n",
       "      <td>Share This Baylee Luciani (left), Screenshot o...</td>\n",
       "      <td>FAKE</td>\n",
       "    </tr>\n",
       "    <tr>\n",
       "      <th>7</th>\n",
       "      <td>95</td>\n",
       "      <td>‘Britain’s Schindler’ Dies at 106</td>\n",
       "      <td>A Czech stockbroker who saved more than 650 Je...</td>\n",
       "      <td>REAL</td>\n",
       "    </tr>\n",
       "    <tr>\n",
       "      <th>8</th>\n",
       "      <td>4869</td>\n",
       "      <td>Fact check: Trump and Clinton at the 'commande...</td>\n",
       "      <td>Hillary Clinton and Donald Trump made some ina...</td>\n",
       "      <td>REAL</td>\n",
       "    </tr>\n",
       "    <tr>\n",
       "      <th>9</th>\n",
       "      <td>2909</td>\n",
       "      <td>Iran reportedly makes new push for uranium con...</td>\n",
       "      <td>Iranian negotiators reportedly have made a las...</td>\n",
       "      <td>REAL</td>\n",
       "    </tr>\n",
       "  </tbody>\n",
       "</table>\n",
       "</div>"
      ],
      "text/plain": [
       "   Unnamed: 0                                              title  \\\n",
       "0        8476                       You Can Smell Hillary’s Fear   \n",
       "1       10294  Watch The Exact Moment Paul Ryan Committed Pol...   \n",
       "2        3608        Kerry to go to Paris in gesture of sympathy   \n",
       "3       10142  Bernie supporters on Twitter erupt in anger ag...   \n",
       "4         875   The Battle of New York: Why This Primary Matters   \n",
       "5        6903                                        Tehran, USA   \n",
       "6        7341  Girl Horrified At What She Watches Boyfriend D...   \n",
       "7          95                  ‘Britain’s Schindler’ Dies at 106   \n",
       "8        4869  Fact check: Trump and Clinton at the 'commande...   \n",
       "9        2909  Iran reportedly makes new push for uranium con...   \n",
       "\n",
       "                                                text label  \n",
       "0  Daniel Greenfield, a Shillman Journalism Fello...  FAKE  \n",
       "1  Google Pinterest Digg Linkedin Reddit Stumbleu...  FAKE  \n",
       "2  U.S. Secretary of State John F. Kerry said Mon...  REAL  \n",
       "3  — Kaydee King (@KaydeeKing) November 9, 2016 T...  FAKE  \n",
       "4  It's primary day in New York and front-runners...  REAL  \n",
       "5    \\nI’m not an immigrant, but my grandparents ...  FAKE  \n",
       "6  Share This Baylee Luciani (left), Screenshot o...  FAKE  \n",
       "7  A Czech stockbroker who saved more than 650 Je...  REAL  \n",
       "8  Hillary Clinton and Donald Trump made some ina...  REAL  \n",
       "9  Iranian negotiators reportedly have made a las...  REAL  "
      ]
     },
     "execution_count": 6,
     "metadata": {},
     "output_type": "execute_result"
    }
   ],
   "source": [
    "test.head(10)"
   ]
  },
  {
   "cell_type": "code",
   "execution_count": 7,
   "metadata": {},
   "outputs": [
    {
     "data": {
      "text/plain": [
       "(6011, 4)"
      ]
     },
     "execution_count": 7,
     "metadata": {},
     "output_type": "execute_result"
    }
   ],
   "source": [
    "test.shape"
   ]
  },
  {
   "cell_type": "markdown",
   "metadata": {},
   "source": [
    "For clarity and consistency between the two datasets, we will replace the 1 and \"Fake\" label values with \"Unreliable\" and the 0 and \"Real\" values with \"Reliable.\""
   ]
  },
  {
   "cell_type": "code",
   "execution_count": 8,
   "metadata": {},
   "outputs": [],
   "source": [
    "train['label'] = train['label'].replace(1, 'Unreliable')\n",
    "train['label'] = train['label'].replace(0, 'Reliable')\n",
    "test['label'] = test['label'].replace('FAKE', 'Unreliable')\n",
    "test['label'] = test['label'].replace('REAL', 'Reliable')"
   ]
  },
  {
   "cell_type": "markdown",
   "metadata": {},
   "source": [
    "Let's make sure our labels are evenly distributed within our two datasets: "
   ]
  },
  {
   "cell_type": "code",
   "execution_count": 9,
   "metadata": {},
   "outputs": [
    {
     "data": {
      "text/plain": [
       "<function matplotlib.pyplot.show(*args, **kw)>"
      ]
     },
     "execution_count": 9,
     "metadata": {},
     "output_type": "execute_result"
    },
    {
     "data": {
      "image/png": "[encoded data removed]",
      "text/plain": [
       "<Figure size 432x288 with 1 Axes>"
      ]
     },
     "metadata": {
      "needs_background": "light"
     },
     "output_type": "display_data"
    }
   ],
   "source": [
    "%matplotlib inline\n",
    "counts = train['label'].value_counts();\n",
    "labels = np.unique(train['label']);\n",
    "y_pos = np.arange(len(labels));\n",
    "plt.bar(y_pos, counts, align='center', alpha=0.5);\n",
    "plt.xticks(y_pos, labels);\n",
    "plt.title('Training Label Distribution');\n",
    "plt.show"
   ]
  },
  {
   "cell_type": "code",
   "execution_count": 10,
   "metadata": {},
   "outputs": [
    {
     "data": {
      "text/plain": [
       "<function matplotlib.pyplot.show(*args, **kw)>"
      ]
     },
     "execution_count": 10,
     "metadata": {},
     "output_type": "execute_result"
    },
    {
     "data": {
      "image/png": "[encoded data removed]",
      "text/plain": [
       "<Figure size 432x288 with 1 Axes>"
      ]
     },
     "metadata": {
      "needs_background": "light"
     },
     "output_type": "display_data"
    }
   ],
   "source": [
    "counts = test['label'].value_counts();\n",
    "labels = np.unique(test['label']);\n",
    "y_pos = np.arange(len(labels));\n",
    "plt.bar(y_pos, counts, align='center', alpha=0.5);\n",
    "plt.xticks(y_pos, labels);\n",
    "plt.title('Label Distribution');\n",
    "plt.show"
   ]
  },
  {
   "cell_type": "markdown",
   "metadata": {},
   "source": [
    "Looks like labels are equally distributed in both the training and testing datasets, so we don't need to worry about problems caused by unequal label distributions. "
   ]
  },
  {
   "cell_type": "markdown",
   "metadata": {},
   "source": [
    "### Label Preprocessing"
   ]
  },
  {
   "cell_type": "markdown",
   "metadata": {},
   "source": [
    "Although setting labels as \"Reliable\" and \"Unreliable\" is easier for a human understand, we should convert our labels to arrays with 0 and 1 values so that they can work with the ML packages, the below code will do this for us. "
   ]
  },
  {
   "cell_type": "code",
   "execution_count": 11,
   "metadata": {},
   "outputs": [],
   "source": [
    "from sklearn import preprocessing ### Importing a preprocessor to convert the labels in the target class."
   ]
  },
  {
   "cell_type": "code",
   "execution_count": 12,
   "metadata": {},
   "outputs": [],
   "source": [
    "class_y = ['Unreliable','Reliable']\n",
    "le = preprocessing.LabelEncoder()\n",
    "le.fit(class_y);"
   ]
  },
  {
   "cell_type": "code",
   "execution_count": 13,
   "metadata": {},
   "outputs": [],
   "source": [
    "train_y = le.transform(train['label']) \n",
    "test_y = le.transform(test['label'])"
   ]
  },
  {
   "cell_type": "code",
   "execution_count": 14,
   "metadata": {},
   "outputs": [
    {
     "name": "stdout",
     "output_type": "stream",
     "text": [
      "[1 0 0]\n",
      "[1 0 1 ... 0 0 1]\n",
      "[1 1 0 ... 1 0 0]\n"
     ]
    }
   ],
   "source": [
    "## check if it worked:\n",
    "\n",
    "print(le.transform(['Unreliable','Reliable','Reliable']))\n",
    "print(train_y)\n",
    "print(test_y)"
   ]
  },
  {
   "cell_type": "markdown",
   "metadata": {},
   "source": [
    "## Feature Engineering"
   ]
  },
  {
   "cell_type": "markdown",
   "metadata": {},
   "source": [
    "#### General Reasoning\n",
    "\n",
    "The feature selection process will be the primary focus of this project. The different classification algorithms do similar things in slightly different ways, so we will just choose an algorithm (logistic regression for example) and stick with it. The way we choose to represent our data will have a much greater impact on our model performance and on our understanding of what works and what does not. \n",
    "\n",
    "To drive home the point, say we choose a poor feature representation. It will be almost impossible to classify news as real or fake, no matter which algorithm we choose. On the other hand, if we choose a feature representation that contains signal that is useful for classifying news as fake, any of the common classification algorithms should be able to correctly extract the relationship. \n",
    "\n",
    "\n",
    "\n"
   ]
  },
  {
   "cell_type": "markdown",
   "metadata": {},
   "source": [
    "#### Working with the Title"
   ]
  },
  {
   "cell_type": "markdown",
   "metadata": {},
   "source": [
    "When looking for indicators of fake news, we should consider the possibility that if certain words appear in the title they might be more indicative of the article being fake than if they appeared in the body text, or vice-versa. To account for this, we must ensure that a word that appears in the title is treated as a seperate feature from the same word appearing in the text. \n",
    "\n",
    "We will create such features by appending \"title_\" to all words that appear in the title, and later merging the newly created titles with the text body into a single string. "
   ]
  },
  {
   "cell_type": "code",
   "execution_count": 15,
   "metadata": {},
   "outputs": [],
   "source": [
    "train_title = np.array(train['title'].astype('U'))\n",
    "test_title = np.array(test['title'].astype('U'))"
   ]
  },
  {
   "cell_type": "code",
   "execution_count": 16,
   "metadata": {},
   "outputs": [],
   "source": [
    "##function takes an array and a string and returns a new array with string_ appended to every word in the array\n",
    "\n",
    "def word_appender(array, to_append):\n",
    "    new_list = list()\n",
    "    for row in array:\n",
    "        new_row = \"\"\n",
    "        for word in str.split(row):\n",
    "            new_row = new_row + word.replace(word, to_append+\"_\"+word+\" \")\n",
    "        new_list.append(new_row)\n",
    "    return np.asarray(new_list)"
   ]
  },
  {
   "cell_type": "code",
   "execution_count": 17,
   "metadata": {},
   "outputs": [],
   "source": [
    "##convert title to new version \n",
    "\n",
    "train_title = word_appender(train_title, \"title\")\n",
    "test_title = word_appender(test_title, \"title\")"
   ]
  },
  {
   "cell_type": "code",
   "execution_count": 18,
   "metadata": {},
   "outputs": [],
   "source": [
    "##function will take 2 arrays of strings and combine the strings \n",
    "##(make sure last word ends in a space of first array for this to work properly, also arrays have to be same size)\n",
    "\n",
    "def text_merger(array1, array2):\n",
    "    new_list = list()\n",
    "    for i in range(0,len(array2)):\n",
    "        new_list.append(array1[i]+array2[i])    \n",
    "    return np.asarray(new_list)"
   ]
  },
  {
   "cell_type": "code",
   "execution_count": 19,
   "metadata": {},
   "outputs": [],
   "source": [
    "##run merger on train and test data\n",
    "\n",
    "train_text = text_merger(train_title, np.array(train['text'].astype('U')))\n",
    "test_text = text_merger(test_title, np.array(test['text'].astype('U')))"
   ]
  },
  {
   "cell_type": "code",
   "execution_count": 20,
   "metadata": {},
   "outputs": [
    {
     "data": {
      "text/plain": [
       "'title_FLYNN: title_Hillary title_Clinton, title_Big title_Woman title_on title_Campus title_- title_Breitbart Ever get the feeling your life circles the roundabout rather than heads in a straight line toward the intended destination? [Hillary Clinton remains the big woman on campus in leafy, liberal Wellesley, Massachusetts. Everywhere else votes her most likely to don her inauguration dress for the remainder of her days the way Miss Havisham forever wore that wedding dress.  Speaking of Great E'"
      ]
     },
     "execution_count": 20,
     "metadata": {},
     "output_type": "execute_result"
    }
   ],
   "source": [
    "train_text[1][0:500] ##look at first 500 characters of random example to see if it worked"
   ]
  },
  {
   "cell_type": "markdown",
   "metadata": {},
   "source": [
    "#### Checking for URLs\n",
    "\n",
    "Another potential indicator for whether an article is reliable or not is the number of hyperlinks that are included in the title/text. For example, articles that contain many hyperlinks might be more reliable because they are providing sources. Another possibility is that mostly fake news articles contain urls in the title/text as they try to point you to other fake news sources (such as clickbait articles). \n",
    "\n",
    "Below is some code that will help us work with urls."
   ]
  },
  {
   "cell_type": "code",
   "execution_count": 21,
   "metadata": {},
   "outputs": [],
   "source": [
    "import re"
   ]
  },
  {
   "cell_type": "code",
   "execution_count": 22,
   "metadata": {},
   "outputs": [],
   "source": [
    "##writing function that will return # of urls in each instance, and the urls themselves\n",
    "\n",
    "def url_finder(text_array):\n",
    "    url_list = list()\n",
    "    urlcount_list = list()\n",
    "    for row in text_array: \n",
    "        urls = re.findall(\"(?P<url>https?://[^\\s]+)\", row)\n",
    "        urlcount = len(urls)\n",
    "        url_list.append(urls)\n",
    "        urlcount_list.append(urlcount)\n",
    "    return np.asarray(url_list), np.asarray(urlcount_list)"
   ]
  },
  {
   "cell_type": "code",
   "execution_count": 23,
   "metadata": {},
   "outputs": [],
   "source": [
    "train_urls, train_urlcount = url_finder(train_text)\n",
    "test_urls, test_urlcount = url_finder(test_text)"
   ]
  },
  {
   "cell_type": "code",
   "execution_count": 24,
   "metadata": {},
   "outputs": [
    {
     "name": "stdout",
     "output_type": "stream",
     "text": [
      "[list([]) list(['https://t.co/VyTT49YvoE']) list([]) ... list([]) list([])\n",
      " list([])]\n",
      "[0 1 0 ... 0 0 0]\n",
      "(19510,)\n",
      "(6011,)\n"
     ]
    }
   ],
   "source": [
    "##lets see if worked\n",
    "print(test_urls) \n",
    "print(test_urlcount)\n",
    "\n",
    "print(train_urlcount.shape)\n",
    "print(test_urlcount.shape)"
   ]
  },
  {
   "cell_type": "code",
   "execution_count": 25,
   "metadata": {},
   "outputs": [
    {
     "data": {
      "text/plain": [
       "<matplotlib.axes._subplots.AxesSubplot at 0x1141b1208>"
      ]
     },
     "execution_count": 25,
     "metadata": {},
     "output_type": "execute_result"
    },
    {
     "data": {
      "image/png": "[encoded data removed]",
      "text/plain": [
       "<Figure size 360x360 with 1 Axes>"
      ]
     },
     "metadata": {
      "needs_background": "light"
     },
     "output_type": "display_data"
    }
   ],
   "source": [
    "##Let's see whether there is any apparent relationship between # of URLs and Fake/Real News\n",
    "\n",
    "%matplotlib inline\n",
    "\n",
    "plots = pd.DataFrame({\"urlcount\": train_urlcount,\n",
    "                        'label': np.asarray(train.label)})\n",
    "\n",
    "\n",
    "plots.boxplot('urlcount', by='label', figsize = (5,5))"
   ]
  },
  {
   "cell_type": "markdown",
   "metadata": {},
   "source": [
    "Interesting! It looks like reliable articles rarely contain URLs (the training dataset did not have any reliable articles with a url, while plenty of unreliable articles had many URLs). This makes sense, credible news sources want to claim credit for their news and would not want to link out to another page, while fake news sources might feel that links build credibility, or they just want users to continue clicking through to other fake news sources/clickbait links. "
   ]
  },
  {
   "cell_type": "markdown",
   "metadata": {},
   "source": [
    "#### Checking Article Length"
   ]
  },
  {
   "cell_type": "markdown",
   "metadata": {},
   "source": [
    "The length of an article could also be indicative of whether it is likely to be real or fake, the following code creates the feature array (each entry is the # of characters in the text). We will also look to see if there is an obvious relationship using boxplots. "
   ]
  },
  {
   "cell_type": "code",
   "execution_count": 26,
   "metadata": {},
   "outputs": [
    {
     "name": "stdout",
     "output_type": "stream",
     "text": [
      "[4930 4160 7692 ... 6059 4799 1773]\n",
      "[ 7518  2646  2543 ... 11974  6991  4818]\n"
     ]
    }
   ],
   "source": [
    "def length_maker(text_array):\n",
    "    lengths = list()\n",
    "    for row in text_array:\n",
    "        lengths.append(len(str(row)))\n",
    "    return np.asarray(lengths)\n",
    "\n",
    "train_lengths = length_maker(train['text'])\n",
    "test_lengths = length_maker(test['text'])\n",
    "\n",
    "print(train_lengths)\n",
    "print(test_lengths)"
   ]
  },
  {
   "cell_type": "code",
   "execution_count": 27,
   "metadata": {},
   "outputs": [
    {
     "data": {
      "text/plain": [
       "<matplotlib.axes._subplots.AxesSubplot at 0x11420f080>"
      ]
     },
     "execution_count": 27,
     "metadata": {},
     "output_type": "execute_result"
    },
    {
     "data": {
      "image/png": "[encoded data removed]",
      "text/plain": [
       "<Figure size 360x360 with 1 Axes>"
      ]
     },
     "metadata": {
      "needs_background": "light"
     },
     "output_type": "display_data"
    }
   ],
   "source": [
    "plots['lengths'] = train_lengths\n",
    "\n",
    "%matplotlib inline\n",
    "plots.boxplot('lengths', by='label', figsize = (5,5))"
   ]
  },
  {
   "cell_type": "markdown",
   "metadata": {},
   "source": [
    "Not as a significant difference between the labels as with URLs. Unreliable news is a tiny bit shorter on average but has greater variance. "
   ]
  },
  {
   "cell_type": "markdown",
   "metadata": {},
   "source": [
    "#### Readability Index\n",
    "\n",
    "How \"readable\" is each article. The package used to assess readability was taken from a public online source. \"Readability\" of an article is how \"easy\" it is to read (how complex is the article). It could be that fake news articles are written with a lower complexity than real news in order for them to be easy to understand (and more likely to go viral). The higher the \"readability\" score, the more complex the article text. \n",
    "\n"
   ]
  },
  {
   "cell_type": "code",
   "execution_count": 28,
   "metadata": {},
   "outputs": [
    {
     "name": "stdout",
     "output_type": "stream",
     "text": [
      "CPU times: user 3min 1s, sys: 750 ms, total: 3min 2s\n",
      "Wall time: 3min 3s\n",
      "CPU times: user 1min, sys: 370 ms, total: 1min\n",
      "Wall time: 1min\n"
     ]
    }
   ],
   "source": [
    "## https://github.com/shivam5992/textstat\n",
    "## test the gunning fog index for each instance\n",
    "## evaluate the readability\n",
    "from textblob import TextBlob\n",
    "from textstat.textstat import textstat\n",
    "\n",
    "%time train['readability_index'] = [textstat.gunning_fog(text) for text in train.text]\n",
    "%time test['readability_index'] = [textstat.gunning_fog(text) for text in test.text]"
   ]
  },
  {
   "cell_type": "code",
   "execution_count": 29,
   "metadata": {},
   "outputs": [
    {
     "name": "stdout",
     "output_type": "stream",
     "text": [
      "8349.6\n"
     ]
    },
    {
     "data": {
      "image/png": "[encoded data removed]",
      "text/plain": [
       "<Figure size 360x360 with 1 Axes>"
      ]
     },
     "metadata": {
      "needs_background": "light"
     },
     "output_type": "display_data"
    }
   ],
   "source": [
    "plots['Readability'] = train.readability_index\n",
    "\n",
    "%matplotlib inline\n",
    "plots.boxplot('Readability', by='label', figsize = (5,5))\n",
    "\n",
    "print(max(train.readability_index))"
   ]
  },
  {
   "cell_type": "markdown",
   "metadata": {},
   "source": [
    "Although there might be some slight differences in the distributions, it is hard to tell with just this boxplot."
   ]
  },
  {
   "cell_type": "markdown",
   "metadata": {},
   "source": [
    "#### Article Polarity & Subjectivity"
   ]
  },
  {
   "cell_type": "markdown",
   "metadata": {},
   "source": [
    "The articles polarity (how strong is the articles stance) and subjectivity (how much opinion is in the article) could also be indicative of whether the article is reliable or not reliable. The algorithms for identifying article subjectivity and polarity are taken from an online source, and for the purposes of this project we will assume that the code accurately identifies article polarity and subjectivity as we defined it. "
   ]
  },
  {
   "cell_type": "code",
   "execution_count": 30,
   "metadata": {},
   "outputs": [],
   "source": [
    "## helper method to calculate polarity and subjectivity\n",
    "def polarity(text):\n",
    "    processed = TextBlob(text)\n",
    "    polarity = processed.sentiment.polarity\n",
    "    return polarity\n",
    "\n",
    "def subj(text):\n",
    "    processed = TextBlob(text)\n",
    "    subj = processed.sentiment.subjectivity\n",
    "    return subj"
   ]
  },
  {
   "cell_type": "code",
   "execution_count": 31,
   "metadata": {},
   "outputs": [
    {
     "name": "stdout",
     "output_type": "stream",
     "text": [
      "CPU times: user 1min 44s, sys: 204 ms, total: 1min 44s\n",
      "Wall time: 1min 44s\n"
     ]
    }
   ],
   "source": [
    "%time train['polarity'] = train.text.apply(polarity)"
   ]
  },
  {
   "cell_type": "code",
   "execution_count": 32,
   "metadata": {},
   "outputs": [
    {
     "name": "stdout",
     "output_type": "stream",
     "text": [
      "CPU times: user 1min 44s, sys: 177 ms, total: 1min 44s\n",
      "Wall time: 1min 45s\n"
     ]
    }
   ],
   "source": [
    "%time train['subjectivity'] = train.text.apply(subj)"
   ]
  },
  {
   "cell_type": "code",
   "execution_count": 33,
   "metadata": {},
   "outputs": [
    {
     "name": "stdout",
     "output_type": "stream",
     "text": [
      "CPU times: user 31.8 s, sys: 49 ms, total: 31.9 s\n",
      "Wall time: 31.9 s\n"
     ]
    }
   ],
   "source": [
    "%time test['polarity'] = test.text.apply(polarity)"
   ]
  },
  {
   "cell_type": "code",
   "execution_count": 34,
   "metadata": {},
   "outputs": [
    {
     "name": "stdout",
     "output_type": "stream",
     "text": [
      "CPU times: user 32.1 s, sys: 56.2 ms, total: 32.2 s\n",
      "Wall time: 32.2 s\n"
     ]
    }
   ],
   "source": [
    "%time test['subjectivity'] = test.text.apply(subj)"
   ]
  },
  {
   "cell_type": "code",
   "execution_count": 35,
   "metadata": {},
   "outputs": [
    {
     "name": "stdout",
     "output_type": "stream",
     "text": [
      "[ 0.00677736  0.10088016  0.0562578  ...  0.05029713  0.11253968\n",
      " -0.01942641]\n",
      "[0.48221596 0.49511031 0.40510745 ... 0.41382649 0.46638889 0.20963203]\n"
     ]
    }
   ],
   "source": [
    "##Create arrays of our newly created features\n",
    "\n",
    "train_polarity = np.asarray(train.polarity)\n",
    "train_subjectivity = np.asarray(train.subjectivity)\n",
    "train_readability = np.asarray(train.readability_index)\n",
    "\n",
    "\n",
    "test_polarity = np.asarray(test.polarity)\n",
    "test_subjectivity = np.asarray(test.subjectivity)\n",
    "test_readability = np.asarray(test.readability_index)\n",
    "\n",
    "\n",
    "print(train_polarity)\n",
    "print(train_subjectivity)\n"
   ]
  },
  {
   "cell_type": "code",
   "execution_count": 36,
   "metadata": {},
   "outputs": [
    {
     "data": {
      "text/plain": [
       "<matplotlib.axes._subplots.AxesSubplot at 0x1d60e62128>"
      ]
     },
     "execution_count": 36,
     "metadata": {},
     "output_type": "execute_result"
    },
    {
     "data": {
      "image/png": "[encoded data removed]",
      "text/plain": [
       "<Figure size 360x360 with 1 Axes>"
      ]
     },
     "metadata": {
      "needs_background": "light"
     },
     "output_type": "display_data"
    }
   ],
   "source": [
    "plots['Polarity'] = train.polarity\n",
    "\n",
    "%matplotlib inline\n",
    "plots.boxplot('Polarity', by='label', figsize = (5,5))"
   ]
  },
  {
   "cell_type": "code",
   "execution_count": 37,
   "metadata": {},
   "outputs": [
    {
     "data": {
      "text/plain": [
       "<matplotlib.axes._subplots.AxesSubplot at 0x1d63394128>"
      ]
     },
     "execution_count": 37,
     "metadata": {},
     "output_type": "execute_result"
    },
    {
     "data": {
      "image/png": "[encoded data removed]",
      "text/plain": [
       "<Figure size 360x360 with 1 Axes>"
      ]
     },
     "metadata": {
      "needs_background": "light"
     },
     "output_type": "display_data"
    }
   ],
   "source": [
    "plots['Subjectivity'] = train.subjectivity\n",
    "\n",
    "%matplotlib inline\n",
    "plots.boxplot('Subjectivity', by='label', figsize = (5,5))"
   ]
  },
  {
   "cell_type": "markdown",
   "metadata": {},
   "source": [
    "Again, it does not seem like there is a strong relationship between the reliability of an article and either its polarity or subjectivity that can be gleaned from the above box plots."
   ]
  },
  {
   "cell_type": "markdown",
   "metadata": {},
   "source": [
    "#### Word Vectorization\n",
    "\n",
    "The main types of word vectorizers we will be trying out will be the bag of words and tfidf weighting (on the combined text + title attribute) in addition to the URL count, article length, text readability, text polarization, and text subjectivity). \n",
    "\n",
    "Both the bag of words and TFIDF weighting approaches convert the entire corpus into a set of features. The bag of words approach counts the number of times each word appears in an instance and assigns that count as the value for that feature in that instance. The TFIDF weights on the other hand do not just use the count of the word in the instance as the feature value, give greater weight to words that appear more in the instance but in less instances. The TFIDF approach should place greater emphasis on words that are uniquely important to each instance. \n",
    "\n",
    "We will definitely process all text with: \n",
    "\n",
    "- downcasing\n",
    "- tokenizing (on spaces and removing punctuation)\n",
    "\n",
    "We will not be stemming, since modified words are a choice of writing style that might be relevant, so we want to take differences between words such as \"run\" and \"running\" into account. \n",
    "\n",
    "Additionally, we will not be explicitly removing stop words (using the stop words feature). TFIDF should weigh stop words lightly anyway based on how it works. Certain selections of max_df for the bag of words and TFIDF representations should also remove most stop words. \n",
    "\n",
    "##### Parameters\n",
    "\n",
    "For both TFIDF and Bag of Words we will be trying out a few different parameter selections:\n",
    "\n",
    "- N-Grams (we will try 1-grams, 1-2grams, and 2 grams. We know that individual words used can be indicative of whether an article is real or fake, but so can phrases of varying lengths, so we will try everything that is reasonable with our computing power)\n",
    "\n",
    "- min_df, max_df (try different cutoff values for % of instances that words appear in). We will start with the largest set and iterate by cutting equal percentage from each side. We want to see what happens when we shrink the feature set.  "
   ]
  },
  {
   "cell_type": "code",
   "execution_count": 38,
   "metadata": {},
   "outputs": [],
   "source": [
    "from sklearn.feature_extraction.text import TfidfVectorizer\n",
    "from sklearn.feature_extraction.text import CountVectorizer\n",
    "from scipy.sparse import hstack"
   ]
  },
  {
   "cell_type": "code",
   "execution_count": 39,
   "metadata": {},
   "outputs": [],
   "source": [
    "##initiate parameter values through which we will iterate\n",
    "\n",
    "df_iter = [[.05,.95],[.1,.9],[.2,.8]]"
   ]
  },
  {
   "cell_type": "markdown",
   "metadata": {},
   "source": [
    "The following code consists of two functions that will work together in order to create several feature arrays by iterating through various n-gram settings and df ranges (as initialized in cell above). So the final output would be a dataframe with a different feature arrays for different combinations of n_gram and df range parameters. Additionally, each iteration will have a count representation and a TFIDF weighting representation. The previously engineered features (urlcount, length, readability, polarity, and subjectivity) will be appended to the end of each word vector array as the final 5 features. "
   ]
  },
  {
   "cell_type": "code",
   "execution_count": 40,
   "metadata": {},
   "outputs": [],
   "source": [
    "def feature_maker(text, vectorizers, url, length, text_readability, text_polarity, text_subjectivity):\n",
    "    features = list()\n",
    "    sizes = list()\n",
    "        \n",
    "    for vectorizer in vectorizers:\n",
    "        features.append(hstack((vectorizer.fit_transform(text),\n",
    "                                url[:,None],\n",
    "                                length[:,None],\n",
    "                                text_polarity[:,None],\n",
    "                                text_subjectivity[:,None],\n",
    "                                text_readability[:,None])).toarray())\n",
    "        sizes.append(features[-1].shape)\n",
    "        \n",
    "    return features, sizes\n",
    "\n",
    "def vectorizer_maker(text, df_iter, n_gram_max, url, length, text_readability, text_polarity, text_subjectivity):\n",
    "    vectorizers = list()\n",
    "    dfs = list()\n",
    "    gram = list()\n",
    "    Type = list()\n",
    "    for t in ['count', 'tfidf']:\n",
    "        for low in range(1,n_gram_max+1):\n",
    "            for high in range(low,n_gram_max+1):\n",
    "                for df in df_iter:\n",
    "                    dfs.append(df)\n",
    "                    gram.append(str(low) + \"-\" + str(high))\n",
    "                    Type.append(t)\n",
    "                    if t == 'count':\n",
    "                        vectorizers.append(CountVectorizer(min_df = df[0], \n",
    "                                                           max_df = df[1], \n",
    "                                                           max_features = 5000, \n",
    "                                                           ngram_range= (low,high)))\n",
    "                        \n",
    "                    else: \n",
    "                        vectorizers.append(TfidfVectorizer(min_df = df[0], \n",
    "                                                           max_df = df[1], \n",
    "                                                           max_features = 5000, \n",
    "                                                           ngram_range= (low,high)))\n",
    "                        \n",
    "    features, shape = feature_maker(text, vectorizers, url, length, text_readability, text_polarity, text_subjectivity)\n",
    "    frame = pd.DataFrame({'grams': gram,\n",
    "                         'dfs': dfs,\n",
    "                         'vectorizers': vectorizers,\n",
    "                          'features': features,\n",
    "                          'shape': shape,\n",
    "                          'type': Type\n",
    "                         }\n",
    "                        )\n",
    "    return frame\n",
    "\n"
   ]
  },
  {
   "cell_type": "code",
   "execution_count": 41,
   "metadata": {},
   "outputs": [
    {
     "name": "stdout",
     "output_type": "stream",
     "text": [
      "CPU times: user 12min 25s, sys: 1min 33s, total: 13min 58s\n",
      "Wall time: 13min 56s\n"
     ]
    }
   ],
   "source": [
    "%time feature_set = vectorizer_maker(train_text, df_iter, 2, train_urlcount, train_lengths, train_readability, train_polarity, train_subjectivity)"
   ]
  },
  {
   "cell_type": "code",
   "execution_count": 42,
   "metadata": {},
   "outputs": [
    {
     "data": {
      "text/html": [
       "<div>\n",
       "<style scoped>\n",
       "    .dataframe tbody tr th:only-of-type {\n",
       "        vertical-align: middle;\n",
       "    }\n",
       "\n",
       "    .dataframe tbody tr th {\n",
       "        vertical-align: top;\n",
       "    }\n",
       "\n",
       "    .dataframe thead th {\n",
       "        text-align: right;\n",
       "    }\n",
       "</style>\n",
       "<table border=\"1\" class=\"dataframe\">\n",
       "  <thead>\n",
       "    <tr style=\"text-align: right;\">\n",
       "      <th></th>\n",
       "      <th>grams</th>\n",
       "      <th>dfs</th>\n",
       "      <th>vectorizers</th>\n",
       "      <th>features</th>\n",
       "      <th>shape</th>\n",
       "      <th>type</th>\n",
       "    </tr>\n",
       "  </thead>\n",
       "  <tbody>\n",
       "    <tr>\n",
       "      <th>0</th>\n",
       "      <td>1-1</td>\n",
       "      <td>[0.05, 0.95]</td>\n",
       "      <td>CountVectorizer(analyzer='word', binary=False,...</td>\n",
       "      <td>[[0.0, 0.0, 0.0, 0.0, 0.0, 0.0, 0.0, 0.0, 0.0,...</td>\n",
       "      <td>(19510, 1261)</td>\n",
       "      <td>count</td>\n",
       "    </tr>\n",
       "    <tr>\n",
       "      <th>1</th>\n",
       "      <td>1-1</td>\n",
       "      <td>[0.1, 0.9]</td>\n",
       "      <td>CountVectorizer(analyzer='word', binary=False,...</td>\n",
       "      <td>[[0.0, 0.0, 0.0, 0.0, 0.0, 0.0, 0.0, 0.0, 2.0,...</td>\n",
       "      <td>(19510, 560)</td>\n",
       "      <td>count</td>\n",
       "    </tr>\n",
       "    <tr>\n",
       "      <th>2</th>\n",
       "      <td>1-1</td>\n",
       "      <td>[0.2, 0.8]</td>\n",
       "      <td>CountVectorizer(analyzer='word', binary=False,...</td>\n",
       "      <td>[[0.0, 0.0, 2.0, 7.0, 3.0, 0.0, 5.0, 0.0, 2.0,...</td>\n",
       "      <td>(19510, 210)</td>\n",
       "      <td>count</td>\n",
       "    </tr>\n",
       "    <tr>\n",
       "      <th>3</th>\n",
       "      <td>1-2</td>\n",
       "      <td>[0.05, 0.95]</td>\n",
       "      <td>CountVectorizer(analyzer='word', binary=False,...</td>\n",
       "      <td>[[0.0, 0.0, 0.0, 0.0, 0.0, 0.0, 0.0, 0.0, 0.0,...</td>\n",
       "      <td>(19510, 1894)</td>\n",
       "      <td>count</td>\n",
       "    </tr>\n",
       "    <tr>\n",
       "      <th>4</th>\n",
       "      <td>1-2</td>\n",
       "      <td>[0.1, 0.9]</td>\n",
       "      <td>CountVectorizer(analyzer='word', binary=False,...</td>\n",
       "      <td>[[0.0, 0.0, 0.0, 0.0, 0.0, 0.0, 0.0, 0.0, 2.0,...</td>\n",
       "      <td>(19510, 764)</td>\n",
       "      <td>count</td>\n",
       "    </tr>\n",
       "    <tr>\n",
       "      <th>5</th>\n",
       "      <td>1-2</td>\n",
       "      <td>[0.2, 0.8]</td>\n",
       "      <td>CountVectorizer(analyzer='word', binary=False,...</td>\n",
       "      <td>[[0.0, 0.0, 2.0, 7.0, 0.0, 3.0, 3.0, 0.0, 5.0,...</td>\n",
       "      <td>(19510, 270)</td>\n",
       "      <td>count</td>\n",
       "    </tr>\n",
       "    <tr>\n",
       "      <th>6</th>\n",
       "      <td>2-2</td>\n",
       "      <td>[0.05, 0.95]</td>\n",
       "      <td>CountVectorizer(analyzer='word', binary=False,...</td>\n",
       "      <td>[[0.0, 0.0, 0.0, 3.0, 0.0, 0.0, 3.0, 0.0, 2.0,...</td>\n",
       "      <td>(19510, 638)</td>\n",
       "      <td>count</td>\n",
       "    </tr>\n",
       "    <tr>\n",
       "      <th>7</th>\n",
       "      <td>2-2</td>\n",
       "      <td>[0.1, 0.9]</td>\n",
       "      <td>CountVectorizer(analyzer='word', binary=False,...</td>\n",
       "      <td>[[0.0, 0.0, 3.0, 0.0, 2.0, 0.0, 0.0, 0.0, 1.0,...</td>\n",
       "      <td>(19510, 209)</td>\n",
       "      <td>count</td>\n",
       "    </tr>\n",
       "    <tr>\n",
       "      <th>8</th>\n",
       "      <td>2-2</td>\n",
       "      <td>[0.2, 0.8]</td>\n",
       "      <td>CountVectorizer(analyzer='word', binary=False,...</td>\n",
       "      <td>[[0.0, 3.0, 2.0, 0.0, 0.0, 0.0, 1.0, 0.0, 0.0,...</td>\n",
       "      <td>(19510, 65)</td>\n",
       "      <td>count</td>\n",
       "    </tr>\n",
       "    <tr>\n",
       "      <th>9</th>\n",
       "      <td>1-1</td>\n",
       "      <td>[0.05, 0.95]</td>\n",
       "      <td>TfidfVectorizer(analyzer='word', binary=False,...</td>\n",
       "      <td>[[0.0, 0.0, 0.0, 0.0, 0.0, 0.0, 0.0, 0.0, 0.0,...</td>\n",
       "      <td>(19510, 1261)</td>\n",
       "      <td>tfidf</td>\n",
       "    </tr>\n",
       "    <tr>\n",
       "      <th>10</th>\n",
       "      <td>1-1</td>\n",
       "      <td>[0.1, 0.9]</td>\n",
       "      <td>TfidfVectorizer(analyzer='word', binary=False,...</td>\n",
       "      <td>[[0.0, 0.0, 0.0, 0.0, 0.0, 0.0, 0.0, 0.0, 0.05...</td>\n",
       "      <td>(19510, 560)</td>\n",
       "      <td>tfidf</td>\n",
       "    </tr>\n",
       "    <tr>\n",
       "      <th>11</th>\n",
       "      <td>1-1</td>\n",
       "      <td>[0.2, 0.8]</td>\n",
       "      <td>TfidfVectorizer(analyzer='word', binary=False,...</td>\n",
       "      <td>[[0.0, 0.0, 0.07876054319498127, 0.18793676577...</td>\n",
       "      <td>(19510, 210)</td>\n",
       "      <td>tfidf</td>\n",
       "    </tr>\n",
       "    <tr>\n",
       "      <th>12</th>\n",
       "      <td>1-2</td>\n",
       "      <td>[0.05, 0.95]</td>\n",
       "      <td>TfidfVectorizer(analyzer='word', binary=False,...</td>\n",
       "      <td>[[0.0, 0.0, 0.0, 0.0, 0.0, 0.0, 0.0, 0.0, 0.0,...</td>\n",
       "      <td>(19510, 1894)</td>\n",
       "      <td>tfidf</td>\n",
       "    </tr>\n",
       "    <tr>\n",
       "      <th>13</th>\n",
       "      <td>1-2</td>\n",
       "      <td>[0.1, 0.9]</td>\n",
       "      <td>TfidfVectorizer(analyzer='word', binary=False,...</td>\n",
       "      <td>[[0.0, 0.0, 0.0, 0.0, 0.0, 0.0, 0.0, 0.0, 0.05...</td>\n",
       "      <td>(19510, 764)</td>\n",
       "      <td>tfidf</td>\n",
       "    </tr>\n",
       "    <tr>\n",
       "      <th>14</th>\n",
       "      <td>1-2</td>\n",
       "      <td>[0.2, 0.8]</td>\n",
       "      <td>TfidfVectorizer(analyzer='word', binary=False,...</td>\n",
       "      <td>[[0.0, 0.0, 0.07526863666353792, 0.17960445122...</td>\n",
       "      <td>(19510, 270)</td>\n",
       "      <td>tfidf</td>\n",
       "    </tr>\n",
       "    <tr>\n",
       "      <th>15</th>\n",
       "      <td>2-2</td>\n",
       "      <td>[0.05, 0.95]</td>\n",
       "      <td>TfidfVectorizer(analyzer='word', binary=False,...</td>\n",
       "      <td>[[0.0, 0.0, 0.0, 0.2534921877503276, 0.0, 0.0,...</td>\n",
       "      <td>(19510, 638)</td>\n",
       "      <td>tfidf</td>\n",
       "    </tr>\n",
       "    <tr>\n",
       "      <th>16</th>\n",
       "      <td>2-2</td>\n",
       "      <td>[0.1, 0.9]</td>\n",
       "      <td>TfidfVectorizer(analyzer='word', binary=False,...</td>\n",
       "      <td>[[0.0, 0.0, 0.25255648918174584, 0.0, 0.196837...</td>\n",
       "      <td>(19510, 209)</td>\n",
       "      <td>tfidf</td>\n",
       "    </tr>\n",
       "    <tr>\n",
       "      <th>17</th>\n",
       "      <td>2-2</td>\n",
       "      <td>[0.2, 0.8]</td>\n",
       "      <td>TfidfVectorizer(analyzer='word', binary=False,...</td>\n",
       "      <td>[[0.0, 0.39599019685398773, 0.3086264190430014...</td>\n",
       "      <td>(19510, 65)</td>\n",
       "      <td>tfidf</td>\n",
       "    </tr>\n",
       "  </tbody>\n",
       "</table>\n",
       "</div>"
      ],
      "text/plain": [
       "   grams           dfs                                        vectorizers  \\\n",
       "0    1-1  [0.05, 0.95]  CountVectorizer(analyzer='word', binary=False,...   \n",
       "1    1-1    [0.1, 0.9]  CountVectorizer(analyzer='word', binary=False,...   \n",
       "2    1-1    [0.2, 0.8]  CountVectorizer(analyzer='word', binary=False,...   \n",
       "3    1-2  [0.05, 0.95]  CountVectorizer(analyzer='word', binary=False,...   \n",
       "4    1-2    [0.1, 0.9]  CountVectorizer(analyzer='word', binary=False,...   \n",
       "5    1-2    [0.2, 0.8]  CountVectorizer(analyzer='word', binary=False,...   \n",
       "6    2-2  [0.05, 0.95]  CountVectorizer(analyzer='word', binary=False,...   \n",
       "7    2-2    [0.1, 0.9]  CountVectorizer(analyzer='word', binary=False,...   \n",
       "8    2-2    [0.2, 0.8]  CountVectorizer(analyzer='word', binary=False,...   \n",
       "9    1-1  [0.05, 0.95]  TfidfVectorizer(analyzer='word', binary=False,...   \n",
       "10   1-1    [0.1, 0.9]  TfidfVectorizer(analyzer='word', binary=False,...   \n",
       "11   1-1    [0.2, 0.8]  TfidfVectorizer(analyzer='word', binary=False,...   \n",
       "12   1-2  [0.05, 0.95]  TfidfVectorizer(analyzer='word', binary=False,...   \n",
       "13   1-2    [0.1, 0.9]  TfidfVectorizer(analyzer='word', binary=False,...   \n",
       "14   1-2    [0.2, 0.8]  TfidfVectorizer(analyzer='word', binary=False,...   \n",
       "15   2-2  [0.05, 0.95]  TfidfVectorizer(analyzer='word', binary=False,...   \n",
       "16   2-2    [0.1, 0.9]  TfidfVectorizer(analyzer='word', binary=False,...   \n",
       "17   2-2    [0.2, 0.8]  TfidfVectorizer(analyzer='word', binary=False,...   \n",
       "\n",
       "                                             features          shape   type  \n",
       "0   [[0.0, 0.0, 0.0, 0.0, 0.0, 0.0, 0.0, 0.0, 0.0,...  (19510, 1261)  count  \n",
       "1   [[0.0, 0.0, 0.0, 0.0, 0.0, 0.0, 0.0, 0.0, 2.0,...   (19510, 560)  count  \n",
       "2   [[0.0, 0.0, 2.0, 7.0, 3.0, 0.0, 5.0, 0.0, 2.0,...   (19510, 210)  count  \n",
       "3   [[0.0, 0.0, 0.0, 0.0, 0.0, 0.0, 0.0, 0.0, 0.0,...  (19510, 1894)  count  \n",
       "4   [[0.0, 0.0, 0.0, 0.0, 0.0, 0.0, 0.0, 0.0, 2.0,...   (19510, 764)  count  \n",
       "5   [[0.0, 0.0, 2.0, 7.0, 0.0, 3.0, 3.0, 0.0, 5.0,...   (19510, 270)  count  \n",
       "6   [[0.0, 0.0, 0.0, 3.0, 0.0, 0.0, 3.0, 0.0, 2.0,...   (19510, 638)  count  \n",
       "7   [[0.0, 0.0, 3.0, 0.0, 2.0, 0.0, 0.0, 0.0, 1.0,...   (19510, 209)  count  \n",
       "8   [[0.0, 3.0, 2.0, 0.0, 0.0, 0.0, 1.0, 0.0, 0.0,...    (19510, 65)  count  \n",
       "9   [[0.0, 0.0, 0.0, 0.0, 0.0, 0.0, 0.0, 0.0, 0.0,...  (19510, 1261)  tfidf  \n",
       "10  [[0.0, 0.0, 0.0, 0.0, 0.0, 0.0, 0.0, 0.0, 0.05...   (19510, 560)  tfidf  \n",
       "11  [[0.0, 0.0, 0.07876054319498127, 0.18793676577...   (19510, 210)  tfidf  \n",
       "12  [[0.0, 0.0, 0.0, 0.0, 0.0, 0.0, 0.0, 0.0, 0.0,...  (19510, 1894)  tfidf  \n",
       "13  [[0.0, 0.0, 0.0, 0.0, 0.0, 0.0, 0.0, 0.0, 0.05...   (19510, 764)  tfidf  \n",
       "14  [[0.0, 0.0, 0.07526863666353792, 0.17960445122...   (19510, 270)  tfidf  \n",
       "15  [[0.0, 0.0, 0.0, 0.2534921877503276, 0.0, 0.0,...   (19510, 638)  tfidf  \n",
       "16  [[0.0, 0.0, 0.25255648918174584, 0.0, 0.196837...   (19510, 209)  tfidf  \n",
       "17  [[0.0, 0.39599019685398773, 0.3086264190430014...    (19510, 65)  tfidf  "
      ]
     },
     "execution_count": 42,
     "metadata": {},
     "output_type": "execute_result"
    }
   ],
   "source": [
    "feature_set"
   ]
  },
  {
   "cell_type": "markdown",
   "metadata": {},
   "source": [
    "We have created 18 total word vector representations of our training data. Notice how as our df range shrinks the number of features in the representation decreases. When we cut out unigrams that appear in less than 5% and more than 95% of the documents, we are left with 1261 features (1256 different words, since 5 of the features we engineered previously). When we cut out unigrams that appear in less than 20% and more than 80% of the documents, we only have 65 features. Lets take a look at some of the feature names (they should be the same features for bag of words vs tfidf as long as the other parameters are the same, since all that changes between BoW and TFIDF is the weighting of the features):"
   ]
  },
  {
   "cell_type": "code",
   "execution_count": 43,
   "metadata": {},
   "outputs": [
    {
     "data": {
      "text/plain": [
       "['at',\n",
       " 'at all',\n",
       " 'at least',\n",
       " 'at the',\n",
       " 'at this',\n",
       " 'attack',\n",
       " 'attacks',\n",
       " 'attempt',\n",
       " 'attention',\n",
       " 'attorney',\n",
       " 'august',\n",
       " 'author',\n",
       " 'authorities',\n",
       " 'authority',\n",
       " 'available',\n",
       " 'average',\n",
       " 'avoid',\n",
       " 'away',\n",
       " 'away from',\n",
       " 'back',\n",
       " 'back to',\n",
       " 'bad',\n",
       " 'bank',\n",
       " 'barack',\n",
       " 'barack obama']"
      ]
     },
     "execution_count": 43,
     "metadata": {},
     "output_type": "execute_result"
    }
   ],
   "source": [
    "feature_set.vectorizers[3].get_feature_names()[175:200]"
   ]
  },
  {
   "cell_type": "markdown",
   "metadata": {},
   "source": [
    "Looking at a random sample of 25 feature names created by the 1-2gram representation, it is not immediately clear which words can be significant in predicting unreliable news, although perhaps the subjective word \"bad\" should not appear in a reliable news article. "
   ]
  },
  {
   "cell_type": "markdown",
   "metadata": {},
   "source": [
    "### Model Selection"
   ]
  },
  {
   "cell_type": "markdown",
   "metadata": {},
   "source": [
    "We will use the logistic regression classification algorithm to fit our model. Logistic regression is an efficient choice that also provides interpretable results in the form of coefficients for each feature. The features with the most positive coefficients means their appearance in an instance increases the likelihood that that instance is 'unreliable' news.\n",
    "\n",
    "Again, we will not be trying out various models and altering model parameters (unless we see some really strange results) because our main priority is to see what kind of feature representations perform best. We also want to be interpret the impact different features have on the results. "
   ]
  },
  {
   "cell_type": "code",
   "execution_count": 44,
   "metadata": {},
   "outputs": [],
   "source": [
    "from sklearn.linear_model import LogisticRegression\n",
    "from sklearn.model_selection import cross_val_score\n",
    "from sklearn import metrics\n",
    "from sklearn.model_selection import cross_validate\n",
    "from sklearn.naive_bayes import MultinomialNB"
   ]
  },
  {
   "cell_type": "code",
   "execution_count": 45,
   "metadata": {},
   "outputs": [],
   "source": [
    "log_reg = LogisticRegression(C=4.0, solver = 'liblinear')"
   ]
  },
  {
   "cell_type": "markdown",
   "metadata": {},
   "source": [
    "### Metrics & Evaluation\n",
    "\n",
    "We will be using precision regarding the \"unreliable\" class as our metric. The reasoning for this is that we are only interested in spotting \"fake\" news. We would want the results of this project to lead to a method that can accurately flag articles from social media platforms that are \"fake,\" so that they can be brought to the attention of a moderator or outright removed assuming the model performs well. Precision thus makes sense because if we identify an article as fake, we want to be as sure as possible that it is fake. Additionally, we know that it would be impossible to identify all the fake news articles out there as fake, and doing so while also identifying tons of real news as fake would not be useful, so a metric like recall would not make sense. \n",
    "\n",
    "Ultimately, we want to pick away at the number of fake news articles in circulation, slowly improving our methodology to catch more and more. From the get go, even if we do not identify a lot of fake news articles, the ones that we do identify to be fake, we want to be sure they are fake. We will be adjusting the prediction probability threshold to see how high we can get our precision. We will do this so that we do not only predict an article to be unreliable if it is more likely to be unreliable (such as when you do not set a threshold). Getting a prediction probability of 55% unreliable is not ideal, since even though such an instance is more likely to be unreliable, we are not certain enough to outright flag it or remove it (although we will see how our model performs using this threshold). Theoretically if we set threshold of %99.9, we should have near perfect accuracy, although we will not capture that many unreliable news articles. \n",
    "\n",
    "We will first test our results using 20-Fold Cross Validation, and then we will test it on the second data set to see if our results are generalizable. "
   ]
  },
  {
   "cell_type": "code",
   "execution_count": 46,
   "metadata": {},
   "outputs": [],
   "source": [
    "##perform 20-Fold CV on each of our 18-feature representations.\n",
    "\n",
    "feature_set['20CV_Precision'] = [cross_val_score(log_reg, \n",
    "                                  features, \n",
    "                                  train_y, \n",
    "                                  scoring='precision', \n",
    "                                  cv=20).mean() for features in feature_set.features]"
   ]
  },
  {
   "cell_type": "code",
   "execution_count": 47,
   "metadata": {},
   "outputs": [
    {
     "data": {
      "text/html": [
       "<div>\n",
       "<style scoped>\n",
       "    .dataframe tbody tr th:only-of-type {\n",
       "        vertical-align: middle;\n",
       "    }\n",
       "\n",
       "    .dataframe tbody tr th {\n",
       "        vertical-align: top;\n",
       "    }\n",
       "\n",
       "    .dataframe thead th {\n",
       "        text-align: right;\n",
       "    }\n",
       "</style>\n",
       "<table border=\"1\" class=\"dataframe\">\n",
       "  <thead>\n",
       "    <tr style=\"text-align: right;\">\n",
       "      <th></th>\n",
       "      <th>grams</th>\n",
       "      <th>dfs</th>\n",
       "      <th>shape</th>\n",
       "      <th>type</th>\n",
       "      <th>20CV_Precision</th>\n",
       "    </tr>\n",
       "  </thead>\n",
       "  <tbody>\n",
       "    <tr>\n",
       "      <th>0</th>\n",
       "      <td>1-1</td>\n",
       "      <td>[0.05, 0.95]</td>\n",
       "      <td>(19510, 1261)</td>\n",
       "      <td>count</td>\n",
       "      <td>0.959493</td>\n",
       "    </tr>\n",
       "    <tr>\n",
       "      <th>1</th>\n",
       "      <td>1-1</td>\n",
       "      <td>[0.1, 0.9]</td>\n",
       "      <td>(19510, 560)</td>\n",
       "      <td>count</td>\n",
       "      <td>0.937187</td>\n",
       "    </tr>\n",
       "    <tr>\n",
       "      <th>2</th>\n",
       "      <td>1-1</td>\n",
       "      <td>[0.2, 0.8]</td>\n",
       "      <td>(19510, 210)</td>\n",
       "      <td>count</td>\n",
       "      <td>0.896539</td>\n",
       "    </tr>\n",
       "    <tr>\n",
       "      <th>3</th>\n",
       "      <td>1-2</td>\n",
       "      <td>[0.05, 0.95]</td>\n",
       "      <td>(19510, 1894)</td>\n",
       "      <td>count</td>\n",
       "      <td>0.963508</td>\n",
       "    </tr>\n",
       "    <tr>\n",
       "      <th>4</th>\n",
       "      <td>1-2</td>\n",
       "      <td>[0.1, 0.9]</td>\n",
       "      <td>(19510, 764)</td>\n",
       "      <td>count</td>\n",
       "      <td>0.940971</td>\n",
       "    </tr>\n",
       "    <tr>\n",
       "      <th>5</th>\n",
       "      <td>1-2</td>\n",
       "      <td>[0.2, 0.8]</td>\n",
       "      <td>(19510, 270)</td>\n",
       "      <td>count</td>\n",
       "      <td>0.898568</td>\n",
       "    </tr>\n",
       "    <tr>\n",
       "      <th>6</th>\n",
       "      <td>2-2</td>\n",
       "      <td>[0.05, 0.95]</td>\n",
       "      <td>(19510, 638)</td>\n",
       "      <td>count</td>\n",
       "      <td>0.930368</td>\n",
       "    </tr>\n",
       "    <tr>\n",
       "      <th>7</th>\n",
       "      <td>2-2</td>\n",
       "      <td>[0.1, 0.9]</td>\n",
       "      <td>(19510, 209)</td>\n",
       "      <td>count</td>\n",
       "      <td>0.902046</td>\n",
       "    </tr>\n",
       "    <tr>\n",
       "      <th>8</th>\n",
       "      <td>2-2</td>\n",
       "      <td>[0.2, 0.8]</td>\n",
       "      <td>(19510, 65)</td>\n",
       "      <td>count</td>\n",
       "      <td>0.722456</td>\n",
       "    </tr>\n",
       "    <tr>\n",
       "      <th>9</th>\n",
       "      <td>1-1</td>\n",
       "      <td>[0.05, 0.95]</td>\n",
       "      <td>(19510, 1261)</td>\n",
       "      <td>tfidf</td>\n",
       "      <td>0.901512</td>\n",
       "    </tr>\n",
       "    <tr>\n",
       "      <th>10</th>\n",
       "      <td>1-1</td>\n",
       "      <td>[0.1, 0.9]</td>\n",
       "      <td>(19510, 560)</td>\n",
       "      <td>tfidf</td>\n",
       "      <td>0.884959</td>\n",
       "    </tr>\n",
       "    <tr>\n",
       "      <th>11</th>\n",
       "      <td>1-1</td>\n",
       "      <td>[0.2, 0.8]</td>\n",
       "      <td>(19510, 210)</td>\n",
       "      <td>tfidf</td>\n",
       "      <td>0.857371</td>\n",
       "    </tr>\n",
       "    <tr>\n",
       "      <th>12</th>\n",
       "      <td>1-2</td>\n",
       "      <td>[0.05, 0.95]</td>\n",
       "      <td>(19510, 1894)</td>\n",
       "      <td>tfidf</td>\n",
       "      <td>0.903391</td>\n",
       "    </tr>\n",
       "    <tr>\n",
       "      <th>13</th>\n",
       "      <td>1-2</td>\n",
       "      <td>[0.1, 0.9]</td>\n",
       "      <td>(19510, 764)</td>\n",
       "      <td>tfidf</td>\n",
       "      <td>0.893844</td>\n",
       "    </tr>\n",
       "    <tr>\n",
       "      <th>14</th>\n",
       "      <td>1-2</td>\n",
       "      <td>[0.2, 0.8]</td>\n",
       "      <td>(19510, 270)</td>\n",
       "      <td>tfidf</td>\n",
       "      <td>0.863740</td>\n",
       "    </tr>\n",
       "    <tr>\n",
       "      <th>15</th>\n",
       "      <td>2-2</td>\n",
       "      <td>[0.05, 0.95]</td>\n",
       "      <td>(19510, 638)</td>\n",
       "      <td>tfidf</td>\n",
       "      <td>0.902561</td>\n",
       "    </tr>\n",
       "    <tr>\n",
       "      <th>16</th>\n",
       "      <td>2-2</td>\n",
       "      <td>[0.1, 0.9]</td>\n",
       "      <td>(19510, 209)</td>\n",
       "      <td>tfidf</td>\n",
       "      <td>0.901471</td>\n",
       "    </tr>\n",
       "    <tr>\n",
       "      <th>17</th>\n",
       "      <td>2-2</td>\n",
       "      <td>[0.2, 0.8]</td>\n",
       "      <td>(19510, 65)</td>\n",
       "      <td>tfidf</td>\n",
       "      <td>0.764903</td>\n",
       "    </tr>\n",
       "  </tbody>\n",
       "</table>\n",
       "</div>"
      ],
      "text/plain": [
       "   grams           dfs          shape   type  20CV_Precision\n",
       "0    1-1  [0.05, 0.95]  (19510, 1261)  count        0.959493\n",
       "1    1-1    [0.1, 0.9]   (19510, 560)  count        0.937187\n",
       "2    1-1    [0.2, 0.8]   (19510, 210)  count        0.896539\n",
       "3    1-2  [0.05, 0.95]  (19510, 1894)  count        0.963508\n",
       "4    1-2    [0.1, 0.9]   (19510, 764)  count        0.940971\n",
       "5    1-2    [0.2, 0.8]   (19510, 270)  count        0.898568\n",
       "6    2-2  [0.05, 0.95]   (19510, 638)  count        0.930368\n",
       "7    2-2    [0.1, 0.9]   (19510, 209)  count        0.902046\n",
       "8    2-2    [0.2, 0.8]    (19510, 65)  count        0.722456\n",
       "9    1-1  [0.05, 0.95]  (19510, 1261)  tfidf        0.901512\n",
       "10   1-1    [0.1, 0.9]   (19510, 560)  tfidf        0.884959\n",
       "11   1-1    [0.2, 0.8]   (19510, 210)  tfidf        0.857371\n",
       "12   1-2  [0.05, 0.95]  (19510, 1894)  tfidf        0.903391\n",
       "13   1-2    [0.1, 0.9]   (19510, 764)  tfidf        0.893844\n",
       "14   1-2    [0.2, 0.8]   (19510, 270)  tfidf        0.863740\n",
       "15   2-2  [0.05, 0.95]   (19510, 638)  tfidf        0.902561\n",
       "16   2-2    [0.1, 0.9]   (19510, 209)  tfidf        0.901471\n",
       "17   2-2    [0.2, 0.8]    (19510, 65)  tfidf        0.764903"
      ]
     },
     "execution_count": 47,
     "metadata": {},
     "output_type": "execute_result"
    }
   ],
   "source": [
    "feature_set[['grams','dfs','shape','type','20CV_Precision']]"
   ]
  },
  {
   "cell_type": "code",
   "execution_count": 48,
   "metadata": {},
   "outputs": [
    {
     "data": {
      "text/plain": [
       "Text(0, 0.5, 'Precision')"
      ]
     },
     "execution_count": 48,
     "metadata": {},
     "output_type": "execute_result"
    },
    {
     "data": {
      "image/png": "[encoded data removed]",
      "text/plain": [
       "<Figure size 432x288 with 1 Axes>"
      ]
     },
     "metadata": {
      "needs_background": "light"
     },
     "output_type": "display_data"
    }
   ],
   "source": [
    "import matplotlib.pyplot as plt\n",
    "import matplotlib.pylab as lab\n",
    "\n",
    "feature_set['num_features'] = [shape[1] for shape in feature_set['shape']]\n",
    "\n",
    "plt.plot(feature_set.num_features[feature_set['type'] == \"count\"], \n",
    "         feature_set['20CV_Precision'][feature_set['type'] == \"count\"], \n",
    "         'ro',\n",
    "         feature_set.num_features[feature_set['type'] == \"tfidf\"], \n",
    "         feature_set['20CV_Precision'][feature_set['type'] == \"tfidf\"],\n",
    "         'bs')\n",
    "\n",
    "\n",
    "plt.legend(['Bag of Words', 'TfIDF'])\n",
    "plt.xlabel('# of Features')\n",
    "plt.ylabel('Precision')\n",
    "\n",
    "\n",
    "\n"
   ]
  },
  {
   "cell_type": "markdown",
   "metadata": {},
   "source": [
    "It appears that the count feature representation almost always performs better than the corresponding tfidf representation. It is interesting however that although the bag of words representation performs better than TfIDF, it looks like TfIDF is able to reach its top precision values with much fewer features. \n",
    "\n",
    "Our best results were the unigram + bigram representation with words that appeared in more than 5% of the documents and less than 95% of the documents (0.963 Precision). The second best results were from the unigram representation (0.959 Precision), however this representation had ~600 less features and almost no loss in quality. \n",
    "\n",
    "Although it is clear which representation performs best when evaluated using cross-validation, we always run the risk of overfitting if we do not test on an completely external data source. Let's see how our model generalizes when we run predictions on the second dataset. "
   ]
  },
  {
   "cell_type": "markdown",
   "metadata": {},
   "source": [
    "First, we must transform our test data into our 18 feature representations:"
   ]
  },
  {
   "cell_type": "code",
   "execution_count": 49,
   "metadata": {},
   "outputs": [],
   "source": [
    "def test_feature_maker(text, vectorizers, url, length, text_readability, text_polarity, text_subjectivity):\n",
    "    features = list()\n",
    "    sizes = list()\n",
    "        \n",
    "    for vectorizer in vectorizers:\n",
    "        features.append(hstack((vectorizer.transform(text),\n",
    "                                url[:,None],\n",
    "                                length[:,None],\n",
    "                                text_polarity[:,None],\n",
    "                                text_subjectivity[:,None],\n",
    "                                text_readability[:,None])).toarray())\n",
    "        sizes.append(features[-1].shape)\n",
    "        \n",
    "    return features, sizes"
   ]
  },
  {
   "cell_type": "code",
   "execution_count": 50,
   "metadata": {},
   "outputs": [],
   "source": [
    "test_features, test_sizes = test_feature_maker(test_text, feature_set.vectorizers, test_urlcount, test_lengths, test_readability, test_polarity, test_subjectivity)"
   ]
  },
  {
   "cell_type": "code",
   "execution_count": 51,
   "metadata": {},
   "outputs": [
    {
     "data": {
      "text/html": [
       "<div>\n",
       "<style scoped>\n",
       "    .dataframe tbody tr th:only-of-type {\n",
       "        vertical-align: middle;\n",
       "    }\n",
       "\n",
       "    .dataframe tbody tr th {\n",
       "        vertical-align: top;\n",
       "    }\n",
       "\n",
       "    .dataframe thead th {\n",
       "        text-align: right;\n",
       "    }\n",
       "</style>\n",
       "<table border=\"1\" class=\"dataframe\">\n",
       "  <thead>\n",
       "    <tr style=\"text-align: right;\">\n",
       "      <th></th>\n",
       "      <th>test_features</th>\n",
       "      <th>test_vectorizers</th>\n",
       "      <th>test_shape</th>\n",
       "    </tr>\n",
       "  </thead>\n",
       "  <tbody>\n",
       "    <tr>\n",
       "      <th>0</th>\n",
       "      <td>[[0.0, 0.0, 0.0, 0.0, 0.0, 0.0, 0.0, 0.0, 0.0,...</td>\n",
       "      <td>CountVectorizer(analyzer='word', binary=False,...</td>\n",
       "      <td>(6011, 1261)</td>\n",
       "    </tr>\n",
       "    <tr>\n",
       "      <th>1</th>\n",
       "      <td>[[0.0, 0.0, 0.0, 0.0, 0.0, 0.0, 0.0, 0.0, 0.0,...</td>\n",
       "      <td>CountVectorizer(analyzer='word', binary=False,...</td>\n",
       "      <td>(6011, 560)</td>\n",
       "    </tr>\n",
       "    <tr>\n",
       "      <th>2</th>\n",
       "      <td>[[0.0, 0.0, 0.0, 2.0, 0.0, 0.0, 1.0, 4.0, 5.0,...</td>\n",
       "      <td>CountVectorizer(analyzer='word', binary=False,...</td>\n",
       "      <td>(6011, 210)</td>\n",
       "    </tr>\n",
       "    <tr>\n",
       "      <th>3</th>\n",
       "      <td>[[0.0, 0.0, 0.0, 0.0, 0.0, 0.0, 0.0, 0.0, 0.0,...</td>\n",
       "      <td>CountVectorizer(analyzer='word', binary=False,...</td>\n",
       "      <td>(6011, 1894)</td>\n",
       "    </tr>\n",
       "    <tr>\n",
       "      <th>4</th>\n",
       "      <td>[[0.0, 0.0, 0.0, 0.0, 0.0, 0.0, 0.0, 0.0, 0.0,...</td>\n",
       "      <td>CountVectorizer(analyzer='word', binary=False,...</td>\n",
       "      <td>(6011, 764)</td>\n",
       "    </tr>\n",
       "    <tr>\n",
       "      <th>5</th>\n",
       "      <td>[[0.0, 0.0, 0.0, 2.0, 0.0, 0.0, 0.0, 0.0, 1.0,...</td>\n",
       "      <td>CountVectorizer(analyzer='word', binary=False,...</td>\n",
       "      <td>(6011, 270)</td>\n",
       "    </tr>\n",
       "    <tr>\n",
       "      <th>6</th>\n",
       "      <td>[[0.0, 0.0, 0.0, 0.0, 0.0, 0.0, 0.0, 0.0, 0.0,...</td>\n",
       "      <td>CountVectorizer(analyzer='word', binary=False,...</td>\n",
       "      <td>(6011, 638)</td>\n",
       "    </tr>\n",
       "    <tr>\n",
       "      <th>7</th>\n",
       "      <td>[[0.0, 0.0, 0.0, 0.0, 0.0, 2.0, 0.0, 1.0, 0.0,...</td>\n",
       "      <td>CountVectorizer(analyzer='word', binary=False,...</td>\n",
       "      <td>(6011, 209)</td>\n",
       "    </tr>\n",
       "    <tr>\n",
       "      <th>8</th>\n",
       "      <td>[[0.0, 0.0, 0.0, 0.0, 4.0, 1.0, 3.0, 4.0, 1.0,...</td>\n",
       "      <td>CountVectorizer(analyzer='word', binary=False,...</td>\n",
       "      <td>(6011, 65)</td>\n",
       "    </tr>\n",
       "    <tr>\n",
       "      <th>9</th>\n",
       "      <td>[[0.0, 0.0, 0.0, 0.0, 0.0, 0.0, 0.0, 0.0, 0.0,...</td>\n",
       "      <td>TfidfVectorizer(analyzer='word', binary=False,...</td>\n",
       "      <td>(6011, 1261)</td>\n",
       "    </tr>\n",
       "    <tr>\n",
       "      <th>10</th>\n",
       "      <td>[[0.0, 0.0, 0.0, 0.0, 0.0, 0.0, 0.0, 0.0, 0.0,...</td>\n",
       "      <td>TfidfVectorizer(analyzer='word', binary=False,...</td>\n",
       "      <td>(6011, 560)</td>\n",
       "    </tr>\n",
       "    <tr>\n",
       "      <th>11</th>\n",
       "      <td>[[0.0, 0.0, 0.0, 0.029743784444945364, 0.0, 0....</td>\n",
       "      <td>TfidfVectorizer(analyzer='word', binary=False,...</td>\n",
       "      <td>(6011, 210)</td>\n",
       "    </tr>\n",
       "    <tr>\n",
       "      <th>12</th>\n",
       "      <td>[[0.0, 0.0, 0.0, 0.0, 0.0, 0.0, 0.0, 0.0, 0.0,...</td>\n",
       "      <td>TfidfVectorizer(analyzer='word', binary=False,...</td>\n",
       "      <td>(6011, 1894)</td>\n",
       "    </tr>\n",
       "    <tr>\n",
       "      <th>13</th>\n",
       "      <td>[[0.0, 0.0, 0.0, 0.0, 0.0, 0.0, 0.0, 0.0, 0.0,...</td>\n",
       "      <td>TfidfVectorizer(analyzer='word', binary=False,...</td>\n",
       "      <td>(6011, 764)</td>\n",
       "    </tr>\n",
       "    <tr>\n",
       "      <th>14</th>\n",
       "      <td>[[0.0, 0.0, 0.0, 0.028710691947618692, 0.0, 0....</td>\n",
       "      <td>TfidfVectorizer(analyzer='word', binary=False,...</td>\n",
       "      <td>(6011, 270)</td>\n",
       "    </tr>\n",
       "    <tr>\n",
       "      <th>15</th>\n",
       "      <td>[[0.0, 0.0, 0.0, 0.0, 0.0, 0.0, 0.0, 0.0, 0.0,...</td>\n",
       "      <td>TfidfVectorizer(analyzer='word', binary=False,...</td>\n",
       "      <td>(6011, 638)</td>\n",
       "    </tr>\n",
       "    <tr>\n",
       "      <th>16</th>\n",
       "      <td>[[0.0, 0.0, 0.0, 0.0, 0.0, 0.13815300089240318...</td>\n",
       "      <td>TfidfVectorizer(analyzer='word', binary=False,...</td>\n",
       "      <td>(6011, 209)</td>\n",
       "    </tr>\n",
       "    <tr>\n",
       "      <th>17</th>\n",
       "      <td>[[0.0, 0.0, 0.0, 0.0, 0.2433315509306921, 0.08...</td>\n",
       "      <td>TfidfVectorizer(analyzer='word', binary=False,...</td>\n",
       "      <td>(6011, 65)</td>\n",
       "    </tr>\n",
       "  </tbody>\n",
       "</table>\n",
       "</div>"
      ],
      "text/plain": [
       "                                        test_features  \\\n",
       "0   [[0.0, 0.0, 0.0, 0.0, 0.0, 0.0, 0.0, 0.0, 0.0,...   \n",
       "1   [[0.0, 0.0, 0.0, 0.0, 0.0, 0.0, 0.0, 0.0, 0.0,...   \n",
       "2   [[0.0, 0.0, 0.0, 2.0, 0.0, 0.0, 1.0, 4.0, 5.0,...   \n",
       "3   [[0.0, 0.0, 0.0, 0.0, 0.0, 0.0, 0.0, 0.0, 0.0,...   \n",
       "4   [[0.0, 0.0, 0.0, 0.0, 0.0, 0.0, 0.0, 0.0, 0.0,...   \n",
       "5   [[0.0, 0.0, 0.0, 2.0, 0.0, 0.0, 0.0, 0.0, 1.0,...   \n",
       "6   [[0.0, 0.0, 0.0, 0.0, 0.0, 0.0, 0.0, 0.0, 0.0,...   \n",
       "7   [[0.0, 0.0, 0.0, 0.0, 0.0, 2.0, 0.0, 1.0, 0.0,...   \n",
       "8   [[0.0, 0.0, 0.0, 0.0, 4.0, 1.0, 3.0, 4.0, 1.0,...   \n",
       "9   [[0.0, 0.0, 0.0, 0.0, 0.0, 0.0, 0.0, 0.0, 0.0,...   \n",
       "10  [[0.0, 0.0, 0.0, 0.0, 0.0, 0.0, 0.0, 0.0, 0.0,...   \n",
       "11  [[0.0, 0.0, 0.0, 0.029743784444945364, 0.0, 0....   \n",
       "12  [[0.0, 0.0, 0.0, 0.0, 0.0, 0.0, 0.0, 0.0, 0.0,...   \n",
       "13  [[0.0, 0.0, 0.0, 0.0, 0.0, 0.0, 0.0, 0.0, 0.0,...   \n",
       "14  [[0.0, 0.0, 0.0, 0.028710691947618692, 0.0, 0....   \n",
       "15  [[0.0, 0.0, 0.0, 0.0, 0.0, 0.0, 0.0, 0.0, 0.0,...   \n",
       "16  [[0.0, 0.0, 0.0, 0.0, 0.0, 0.13815300089240318...   \n",
       "17  [[0.0, 0.0, 0.0, 0.0, 0.2433315509306921, 0.08...   \n",
       "\n",
       "                                     test_vectorizers    test_shape  \n",
       "0   CountVectorizer(analyzer='word', binary=False,...  (6011, 1261)  \n",
       "1   CountVectorizer(analyzer='word', binary=False,...   (6011, 560)  \n",
       "2   CountVectorizer(analyzer='word', binary=False,...   (6011, 210)  \n",
       "3   CountVectorizer(analyzer='word', binary=False,...  (6011, 1894)  \n",
       "4   CountVectorizer(analyzer='word', binary=False,...   (6011, 764)  \n",
       "5   CountVectorizer(analyzer='word', binary=False,...   (6011, 270)  \n",
       "6   CountVectorizer(analyzer='word', binary=False,...   (6011, 638)  \n",
       "7   CountVectorizer(analyzer='word', binary=False,...   (6011, 209)  \n",
       "8   CountVectorizer(analyzer='word', binary=False,...    (6011, 65)  \n",
       "9   TfidfVectorizer(analyzer='word', binary=False,...  (6011, 1261)  \n",
       "10  TfidfVectorizer(analyzer='word', binary=False,...   (6011, 560)  \n",
       "11  TfidfVectorizer(analyzer='word', binary=False,...   (6011, 210)  \n",
       "12  TfidfVectorizer(analyzer='word', binary=False,...  (6011, 1894)  \n",
       "13  TfidfVectorizer(analyzer='word', binary=False,...   (6011, 764)  \n",
       "14  TfidfVectorizer(analyzer='word', binary=False,...   (6011, 270)  \n",
       "15  TfidfVectorizer(analyzer='word', binary=False,...   (6011, 638)  \n",
       "16  TfidfVectorizer(analyzer='word', binary=False,...   (6011, 209)  \n",
       "17  TfidfVectorizer(analyzer='word', binary=False,...    (6011, 65)  "
      ]
     },
     "execution_count": 51,
     "metadata": {},
     "output_type": "execute_result"
    }
   ],
   "source": [
    "test_results = pd.DataFrame({'test_features': test_features,\n",
    "                             'test_vectorizers': feature_set.vectorizers,\n",
    "                            'test_shape': test_sizes})\n",
    "\n",
    "test_results"
   ]
  },
  {
   "cell_type": "markdown",
   "metadata": {},
   "source": [
    "Next, we will fit our 18 logistic regression models and make predictions on the test set, seeing which one has the best precision. We will check results with a 50% threshold, 90% threshold, and a 99% threshold."
   ]
  },
  {
   "cell_type": "code",
   "execution_count": 52,
   "metadata": {
    "scrolled": true
   },
   "outputs": [],
   "source": [
    "def evaluator(fitting, testing, train_y, test_y, model, strength):\n",
    "    predictions = list()\n",
    "    prediction_probs = list()\n",
    "    precision = list()\n",
    "    pred = list()\n",
    "    true = list()\n",
    "    for i in range(0,len(testing)):\n",
    "        true_pos = 0\n",
    "        pred_pos = 0\n",
    "        model.fit(fitting[i], train_y)\n",
    "        predictions.append(model.predict(testing[i]))\n",
    "        prediction_probs.append(model.predict_proba(testing[i]))\n",
    "        for j in range(0, len(prediction_probs[-1])):\n",
    "            if prediction_probs[-1][j][1] >= strength:\n",
    "                pred_pos+=1\n",
    "                if test_y[j] == 1:\n",
    "                    true_pos+= 1\n",
    "        precision.append(true_pos/pred_pos)\n",
    "        pred.append(pred_pos)\n",
    "        true.append(true_pos)\n",
    "        \n",
    "    new_precision = pd.DataFrame({'pred_pos': pred,\n",
    "                              'true_pos': true,\n",
    "                              'precision': precision})\n",
    "    return np.asarray(predictions), np.asarray(prediction_probs), new_precision\n",
    "        \n",
    "    \n"
   ]
  },
  {
   "cell_type": "code",
   "execution_count": 53,
   "metadata": {},
   "outputs": [],
   "source": [
    "predictions_50per, prediction_probs_50per, precision_50per = evaluator(feature_set.features, test_results.test_features, train_y, test_y, log_reg, .5)"
   ]
  },
  {
   "cell_type": "code",
   "execution_count": 54,
   "metadata": {},
   "outputs": [],
   "source": [
    "predictions_90per, prediction_probs_90per, precision_90per = evaluator(feature_set.features, test_results.test_features, train_y, test_y, log_reg, .9)"
   ]
  },
  {
   "cell_type": "code",
   "execution_count": 55,
   "metadata": {},
   "outputs": [],
   "source": [
    "predictions_99per, prediction_probs_99per, precision_99per = evaluator(feature_set.features, test_results.test_features, train_y, test_y, log_reg, .99)"
   ]
  },
  {
   "cell_type": "code",
   "execution_count": 56,
   "metadata": {},
   "outputs": [],
   "source": [
    "predictions_999per, prediction_probs_999per, precision_999per = evaluator(feature_set.features, test_results.test_features, train_y, test_y, log_reg, .999)"
   ]
  },
  {
   "cell_type": "code",
   "execution_count": 57,
   "metadata": {},
   "outputs": [],
   "source": [
    "predictions_9999per, prediction_probs_9999per, precision_9999per = evaluator(feature_set.features, test_results.test_features, train_y, test_y, log_reg, .9999)"
   ]
  },
  {
   "cell_type": "code",
   "execution_count": 58,
   "metadata": {},
   "outputs": [
    {
     "name": "stdout",
     "output_type": "stream",
     "text": [
      "    pred_pos  true_pos  precision\n",
      "0       1054       920   0.872865\n",
      "1        648       561   0.865741\n",
      "2        419       365   0.871122\n",
      "3       1268      1064   0.839117\n",
      "4        520       454   0.873077\n",
      "5        394       339   0.860406\n",
      "6        219       189   0.863014\n",
      "7        151       133   0.880795\n",
      "8         67        66   0.985075\n",
      "9        111       110   0.990991\n",
      "10        51        49   0.960784\n",
      "11        52        50   0.961538\n",
      "12        53        51   0.962264\n",
      "13        52        50   0.961538\n",
      "14        50        48   0.960000\n",
      "15        56        54   0.964286\n",
      "16        87        85   0.977011\n",
      "17        69        67   0.971014\n"
     ]
    }
   ],
   "source": [
    "print(precision_9999per)"
   ]
  },
  {
   "cell_type": "code",
   "execution_count": 59,
   "metadata": {},
   "outputs": [
    {
     "data": {
      "text/html": [
       "<div>\n",
       "<style scoped>\n",
       "    .dataframe tbody tr th:only-of-type {\n",
       "        vertical-align: middle;\n",
       "    }\n",
       "\n",
       "    .dataframe tbody tr th {\n",
       "        vertical-align: top;\n",
       "    }\n",
       "\n",
       "    .dataframe thead th {\n",
       "        text-align: right;\n",
       "    }\n",
       "</style>\n",
       "<table border=\"1\" class=\"dataframe\">\n",
       "  <thead>\n",
       "    <tr style=\"text-align: right;\">\n",
       "      <th></th>\n",
       "      <th>grams</th>\n",
       "      <th>dfs</th>\n",
       "      <th>type</th>\n",
       "      <th>num_features</th>\n",
       "      <th>20CV_Precision</th>\n",
       "      <th>50_percent_precision</th>\n",
       "      <th>50_percent_#predicted</th>\n",
       "      <th>99_percent_precision</th>\n",
       "      <th>99_percent_#predicted</th>\n",
       "      <th>999_percent_precision</th>\n",
       "      <th>999_percent_#predicted</th>\n",
       "      <th>9999_percent_precision</th>\n",
       "      <th>9999_percent_#predicted</th>\n",
       "    </tr>\n",
       "  </thead>\n",
       "  <tbody>\n",
       "    <tr>\n",
       "      <th>0</th>\n",
       "      <td>1-1</td>\n",
       "      <td>[0.05, 0.95]</td>\n",
       "      <td>count</td>\n",
       "      <td>1261</td>\n",
       "      <td>0.959493</td>\n",
       "      <td>0.638823</td>\n",
       "      <td>4657</td>\n",
       "      <td>0.778744</td>\n",
       "      <td>2531</td>\n",
       "      <td>0.831106</td>\n",
       "      <td>1646</td>\n",
       "      <td>0.872865</td>\n",
       "      <td>1054</td>\n",
       "    </tr>\n",
       "    <tr>\n",
       "      <th>1</th>\n",
       "      <td>1-1</td>\n",
       "      <td>[0.1, 0.9]</td>\n",
       "      <td>count</td>\n",
       "      <td>560</td>\n",
       "      <td>0.937187</td>\n",
       "      <td>0.623779</td>\n",
       "      <td>4710</td>\n",
       "      <td>0.783325</td>\n",
       "      <td>1943</td>\n",
       "      <td>0.837788</td>\n",
       "      <td>1085</td>\n",
       "      <td>0.865741</td>\n",
       "      <td>648</td>\n",
       "    </tr>\n",
       "    <tr>\n",
       "      <th>2</th>\n",
       "      <td>1-1</td>\n",
       "      <td>[0.2, 0.8]</td>\n",
       "      <td>count</td>\n",
       "      <td>210</td>\n",
       "      <td>0.896539</td>\n",
       "      <td>0.610376</td>\n",
       "      <td>4607</td>\n",
       "      <td>0.769231</td>\n",
       "      <td>1274</td>\n",
       "      <td>0.817109</td>\n",
       "      <td>678</td>\n",
       "      <td>0.871122</td>\n",
       "      <td>419</td>\n",
       "    </tr>\n",
       "    <tr>\n",
       "      <th>3</th>\n",
       "      <td>1-2</td>\n",
       "      <td>[0.05, 0.95]</td>\n",
       "      <td>count</td>\n",
       "      <td>1894</td>\n",
       "      <td>0.963508</td>\n",
       "      <td>0.624610</td>\n",
       "      <td>4803</td>\n",
       "      <td>0.751645</td>\n",
       "      <td>2887</td>\n",
       "      <td>0.804314</td>\n",
       "      <td>1901</td>\n",
       "      <td>0.839117</td>\n",
       "      <td>1268</td>\n",
       "    </tr>\n",
       "    <tr>\n",
       "      <th>4</th>\n",
       "      <td>1-2</td>\n",
       "      <td>[0.1, 0.9]</td>\n",
       "      <td>count</td>\n",
       "      <td>764</td>\n",
       "      <td>0.940971</td>\n",
       "      <td>0.621514</td>\n",
       "      <td>4769</td>\n",
       "      <td>0.797321</td>\n",
       "      <td>1717</td>\n",
       "      <td>0.847947</td>\n",
       "      <td>901</td>\n",
       "      <td>0.873077</td>\n",
       "      <td>520</td>\n",
       "    </tr>\n",
       "    <tr>\n",
       "      <th>5</th>\n",
       "      <td>1-2</td>\n",
       "      <td>[0.2, 0.8]</td>\n",
       "      <td>count</td>\n",
       "      <td>270</td>\n",
       "      <td>0.898568</td>\n",
       "      <td>0.607953</td>\n",
       "      <td>4627</td>\n",
       "      <td>0.758140</td>\n",
       "      <td>1290</td>\n",
       "      <td>0.801178</td>\n",
       "      <td>679</td>\n",
       "      <td>0.860406</td>\n",
       "      <td>394</td>\n",
       "    </tr>\n",
       "    <tr>\n",
       "      <th>6</th>\n",
       "      <td>2-2</td>\n",
       "      <td>[0.05, 0.95]</td>\n",
       "      <td>count</td>\n",
       "      <td>638</td>\n",
       "      <td>0.930368</td>\n",
       "      <td>0.559630</td>\n",
       "      <td>5291</td>\n",
       "      <td>0.719643</td>\n",
       "      <td>1120</td>\n",
       "      <td>0.798687</td>\n",
       "      <td>457</td>\n",
       "      <td>0.863014</td>\n",
       "      <td>219</td>\n",
       "    </tr>\n",
       "    <tr>\n",
       "      <th>7</th>\n",
       "      <td>2-2</td>\n",
       "      <td>[0.1, 0.9]</td>\n",
       "      <td>count</td>\n",
       "      <td>209</td>\n",
       "      <td>0.902046</td>\n",
       "      <td>0.554623</td>\n",
       "      <td>5245</td>\n",
       "      <td>0.749679</td>\n",
       "      <td>779</td>\n",
       "      <td>0.829431</td>\n",
       "      <td>299</td>\n",
       "      <td>0.880795</td>\n",
       "      <td>151</td>\n",
       "    </tr>\n",
       "    <tr>\n",
       "      <th>8</th>\n",
       "      <td>2-2</td>\n",
       "      <td>[0.2, 0.8]</td>\n",
       "      <td>count</td>\n",
       "      <td>65</td>\n",
       "      <td>0.722456</td>\n",
       "      <td>0.563460</td>\n",
       "      <td>4948</td>\n",
       "      <td>0.948113</td>\n",
       "      <td>212</td>\n",
       "      <td>0.983333</td>\n",
       "      <td>120</td>\n",
       "      <td>0.985075</td>\n",
       "      <td>67</td>\n",
       "    </tr>\n",
       "    <tr>\n",
       "      <th>9</th>\n",
       "      <td>1-1</td>\n",
       "      <td>[0.05, 0.95]</td>\n",
       "      <td>tfidf</td>\n",
       "      <td>1261</td>\n",
       "      <td>0.901512</td>\n",
       "      <td>0.674133</td>\n",
       "      <td>4241</td>\n",
       "      <td>0.976150</td>\n",
       "      <td>587</td>\n",
       "      <td>0.985849</td>\n",
       "      <td>212</td>\n",
       "      <td>0.990991</td>\n",
       "      <td>111</td>\n",
       "    </tr>\n",
       "    <tr>\n",
       "      <th>10</th>\n",
       "      <td>1-1</td>\n",
       "      <td>[0.1, 0.9]</td>\n",
       "      <td>tfidf</td>\n",
       "      <td>560</td>\n",
       "      <td>0.884959</td>\n",
       "      <td>0.659470</td>\n",
       "      <td>4076</td>\n",
       "      <td>0.941489</td>\n",
       "      <td>188</td>\n",
       "      <td>0.975610</td>\n",
       "      <td>82</td>\n",
       "      <td>0.960784</td>\n",
       "      <td>51</td>\n",
       "    </tr>\n",
       "    <tr>\n",
       "      <th>11</th>\n",
       "      <td>1-1</td>\n",
       "      <td>[0.2, 0.8]</td>\n",
       "      <td>tfidf</td>\n",
       "      <td>210</td>\n",
       "      <td>0.857371</td>\n",
       "      <td>0.647146</td>\n",
       "      <td>4047</td>\n",
       "      <td>0.937799</td>\n",
       "      <td>209</td>\n",
       "      <td>0.977528</td>\n",
       "      <td>89</td>\n",
       "      <td>0.961538</td>\n",
       "      <td>52</td>\n",
       "    </tr>\n",
       "    <tr>\n",
       "      <th>12</th>\n",
       "      <td>1-2</td>\n",
       "      <td>[0.05, 0.95]</td>\n",
       "      <td>tfidf</td>\n",
       "      <td>1894</td>\n",
       "      <td>0.903391</td>\n",
       "      <td>0.658074</td>\n",
       "      <td>4112</td>\n",
       "      <td>0.922652</td>\n",
       "      <td>181</td>\n",
       "      <td>0.976471</td>\n",
       "      <td>85</td>\n",
       "      <td>0.962264</td>\n",
       "      <td>53</td>\n",
       "    </tr>\n",
       "    <tr>\n",
       "      <th>13</th>\n",
       "      <td>1-2</td>\n",
       "      <td>[0.1, 0.9]</td>\n",
       "      <td>tfidf</td>\n",
       "      <td>764</td>\n",
       "      <td>0.893844</td>\n",
       "      <td>0.655005</td>\n",
       "      <td>4116</td>\n",
       "      <td>0.941176</td>\n",
       "      <td>187</td>\n",
       "      <td>0.975904</td>\n",
       "      <td>83</td>\n",
       "      <td>0.961538</td>\n",
       "      <td>52</td>\n",
       "    </tr>\n",
       "    <tr>\n",
       "      <th>14</th>\n",
       "      <td>1-2</td>\n",
       "      <td>[0.2, 0.8]</td>\n",
       "      <td>tfidf</td>\n",
       "      <td>270</td>\n",
       "      <td>0.863740</td>\n",
       "      <td>0.648729</td>\n",
       "      <td>4051</td>\n",
       "      <td>0.935323</td>\n",
       "      <td>201</td>\n",
       "      <td>0.977778</td>\n",
       "      <td>90</td>\n",
       "      <td>0.960000</td>\n",
       "      <td>50</td>\n",
       "    </tr>\n",
       "    <tr>\n",
       "      <th>15</th>\n",
       "      <td>2-2</td>\n",
       "      <td>[0.05, 0.95]</td>\n",
       "      <td>tfidf</td>\n",
       "      <td>638</td>\n",
       "      <td>0.902561</td>\n",
       "      <td>0.622166</td>\n",
       "      <td>4367</td>\n",
       "      <td>0.915000</td>\n",
       "      <td>200</td>\n",
       "      <td>0.978723</td>\n",
       "      <td>94</td>\n",
       "      <td>0.964286</td>\n",
       "      <td>56</td>\n",
       "    </tr>\n",
       "    <tr>\n",
       "      <th>16</th>\n",
       "      <td>2-2</td>\n",
       "      <td>[0.1, 0.9]</td>\n",
       "      <td>tfidf</td>\n",
       "      <td>209</td>\n",
       "      <td>0.901471</td>\n",
       "      <td>0.613786</td>\n",
       "      <td>4570</td>\n",
       "      <td>0.914550</td>\n",
       "      <td>433</td>\n",
       "      <td>0.974359</td>\n",
       "      <td>156</td>\n",
       "      <td>0.977011</td>\n",
       "      <td>87</td>\n",
       "    </tr>\n",
       "    <tr>\n",
       "      <th>17</th>\n",
       "      <td>2-2</td>\n",
       "      <td>[0.2, 0.8]</td>\n",
       "      <td>tfidf</td>\n",
       "      <td>65</td>\n",
       "      <td>0.764903</td>\n",
       "      <td>0.610514</td>\n",
       "      <td>4185</td>\n",
       "      <td>0.954545</td>\n",
       "      <td>220</td>\n",
       "      <td>0.970588</td>\n",
       "      <td>102</td>\n",
       "      <td>0.971014</td>\n",
       "      <td>69</td>\n",
       "    </tr>\n",
       "  </tbody>\n",
       "</table>\n",
       "</div>"
      ],
      "text/plain": [
       "   grams           dfs   type  num_features  20CV_Precision  \\\n",
       "0    1-1  [0.05, 0.95]  count          1261        0.959493   \n",
       "1    1-1    [0.1, 0.9]  count           560        0.937187   \n",
       "2    1-1    [0.2, 0.8]  count           210        0.896539   \n",
       "3    1-2  [0.05, 0.95]  count          1894        0.963508   \n",
       "4    1-2    [0.1, 0.9]  count           764        0.940971   \n",
       "5    1-2    [0.2, 0.8]  count           270        0.898568   \n",
       "6    2-2  [0.05, 0.95]  count           638        0.930368   \n",
       "7    2-2    [0.1, 0.9]  count           209        0.902046   \n",
       "8    2-2    [0.2, 0.8]  count            65        0.722456   \n",
       "9    1-1  [0.05, 0.95]  tfidf          1261        0.901512   \n",
       "10   1-1    [0.1, 0.9]  tfidf           560        0.884959   \n",
       "11   1-1    [0.2, 0.8]  tfidf           210        0.857371   \n",
       "12   1-2  [0.05, 0.95]  tfidf          1894        0.903391   \n",
       "13   1-2    [0.1, 0.9]  tfidf           764        0.893844   \n",
       "14   1-2    [0.2, 0.8]  tfidf           270        0.863740   \n",
       "15   2-2  [0.05, 0.95]  tfidf           638        0.902561   \n",
       "16   2-2    [0.1, 0.9]  tfidf           209        0.901471   \n",
       "17   2-2    [0.2, 0.8]  tfidf            65        0.764903   \n",
       "\n",
       "    50_percent_precision  50_percent_#predicted  99_percent_precision  \\\n",
       "0               0.638823                   4657              0.778744   \n",
       "1               0.623779                   4710              0.783325   \n",
       "2               0.610376                   4607              0.769231   \n",
       "3               0.624610                   4803              0.751645   \n",
       "4               0.621514                   4769              0.797321   \n",
       "5               0.607953                   4627              0.758140   \n",
       "6               0.559630                   5291              0.719643   \n",
       "7               0.554623                   5245              0.749679   \n",
       "8               0.563460                   4948              0.948113   \n",
       "9               0.674133                   4241              0.976150   \n",
       "10              0.659470                   4076              0.941489   \n",
       "11              0.647146                   4047              0.937799   \n",
       "12              0.658074                   4112              0.922652   \n",
       "13              0.655005                   4116              0.941176   \n",
       "14              0.648729                   4051              0.935323   \n",
       "15              0.622166                   4367              0.915000   \n",
       "16              0.613786                   4570              0.914550   \n",
       "17              0.610514                   4185              0.954545   \n",
       "\n",
       "    99_percent_#predicted  999_percent_precision  999_percent_#predicted  \\\n",
       "0                    2531               0.831106                    1646   \n",
       "1                    1943               0.837788                    1085   \n",
       "2                    1274               0.817109                     678   \n",
       "3                    2887               0.804314                    1901   \n",
       "4                    1717               0.847947                     901   \n",
       "5                    1290               0.801178                     679   \n",
       "6                    1120               0.798687                     457   \n",
       "7                     779               0.829431                     299   \n",
       "8                     212               0.983333                     120   \n",
       "9                     587               0.985849                     212   \n",
       "10                    188               0.975610                      82   \n",
       "11                    209               0.977528                      89   \n",
       "12                    181               0.976471                      85   \n",
       "13                    187               0.975904                      83   \n",
       "14                    201               0.977778                      90   \n",
       "15                    200               0.978723                      94   \n",
       "16                    433               0.974359                     156   \n",
       "17                    220               0.970588                     102   \n",
       "\n",
       "    9999_percent_precision  9999_percent_#predicted  \n",
       "0                 0.872865                     1054  \n",
       "1                 0.865741                      648  \n",
       "2                 0.871122                      419  \n",
       "3                 0.839117                     1268  \n",
       "4                 0.873077                      520  \n",
       "5                 0.860406                      394  \n",
       "6                 0.863014                      219  \n",
       "7                 0.880795                      151  \n",
       "8                 0.985075                       67  \n",
       "9                 0.990991                      111  \n",
       "10                0.960784                       51  \n",
       "11                0.961538                       52  \n",
       "12                0.962264                       53  \n",
       "13                0.961538                       52  \n",
       "14                0.960000                       50  \n",
       "15                0.964286                       56  \n",
       "16                0.977011                       87  \n",
       "17                0.971014                       69  "
      ]
     },
     "execution_count": 59,
     "metadata": {},
     "output_type": "execute_result"
    }
   ],
   "source": [
    "final_set = feature_set[['grams','dfs','type','num_features','20CV_Precision']].copy()\n",
    "final_set['50_percent_precision'] = precision_50per['precision']\n",
    "final_set['50_percent_#predicted'] = precision_50per['pred_pos']\n",
    "final_set['99_percent_precision'] = precision_99per['precision']\n",
    "final_set['99_percent_#predicted'] = precision_99per['pred_pos']\n",
    "final_set['999_percent_precision'] = precision_999per['precision']\n",
    "final_set['999_percent_#predicted'] = precision_999per['pred_pos']\n",
    "final_set['9999_percent_precision'] = precision_9999per['precision']\n",
    "final_set['9999_percent_#predicted'] = precision_9999per['pred_pos']\n",
    "\n",
    "final_set"
   ]
  },
  {
   "cell_type": "code",
   "execution_count": 60,
   "metadata": {},
   "outputs": [
    {
     "data": {
      "text/plain": [
       "Text(0, 0.5, 'Precision')"
      ]
     },
     "execution_count": 60,
     "metadata": {},
     "output_type": "execute_result"
    },
    {
     "data": {
      "image/png": "[encoded data removed]",
      "text/plain": [
       "<Figure size 432x288 with 1 Axes>"
      ]
     },
     "metadata": {
      "needs_background": "light"
     },
     "output_type": "display_data"
    }
   ],
   "source": [
    "plt.plot(final_set[final_set['type']=='count']['50_percent_precision'], 'rs')\n",
    "plt.plot(final_set[final_set['type']=='count']['99_percent_precision'], 'bs')\n",
    "plt.plot(final_set[final_set['type']=='tfidf']['50_percent_precision'], 'ro')\n",
    "plt.plot(final_set[final_set['type']=='tfidf']['99_percent_precision'], 'bo')\n",
    "plt.ylabel('Precision')\n",
    "#plt.legend('50percent-count', '99percent-count')\n",
    "#plt.plot(final_set['999_percent_precision'], 'gx')\n",
    "#plt.plot(final_set['9999_percent_precision'], 'k<')"
   ]
  },
  {
   "cell_type": "markdown",
   "metadata": {},
   "source": [
    "The results are fascinating. It appears that when testing on a previously unseen dataset, the TFIDF representations all perform better than the count representation (the opposite was true when performing 20-Fold CV). This means that TFIDF is a superior representation when it comes to creating a generalizable model (bag of words performed well on the original dataset but did not generalize at all!). \n",
    "\n",
    "From the TFIDF representations, it appears that they all performed quite well. While some significance testing could be useful in identifying the one that truly performed best based on how many features it had, for the purpose of error evaluation and getting to better understand our model, let's select the one that performed best with a 99% probability threshold (tfidf unigrams with .05,.95 df range. Precision: 0.976). \n",
    "\n",
    "Using this model we will see if we can push the precision to 100% using different threshold settings and see how many predictions we are making when pushing this threshold. "
   ]
  },
  {
   "cell_type": "code",
   "execution_count": 61,
   "metadata": {},
   "outputs": [
    {
     "data": {
      "text/html": [
       "<div>\n",
       "<style scoped>\n",
       "    .dataframe tbody tr th:only-of-type {\n",
       "        vertical-align: middle;\n",
       "    }\n",
       "\n",
       "    .dataframe tbody tr th {\n",
       "        vertical-align: top;\n",
       "    }\n",
       "\n",
       "    .dataframe thead th {\n",
       "        text-align: right;\n",
       "    }\n",
       "</style>\n",
       "<table border=\"1\" class=\"dataframe\">\n",
       "  <thead>\n",
       "    <tr style=\"text-align: right;\">\n",
       "      <th></th>\n",
       "      <th>50% Threshold</th>\n",
       "      <th>90% Threshold</th>\n",
       "      <th>99% Threshold</th>\n",
       "      <th>999% Threshold</th>\n",
       "      <th>9999% Threshold</th>\n",
       "    </tr>\n",
       "  </thead>\n",
       "  <tbody>\n",
       "    <tr>\n",
       "      <th>pred_pos</th>\n",
       "      <td>4241.000000</td>\n",
       "      <td>2012.000000</td>\n",
       "      <td>587.00000</td>\n",
       "      <td>212.000000</td>\n",
       "      <td>111.000000</td>\n",
       "    </tr>\n",
       "    <tr>\n",
       "      <th>true_pos</th>\n",
       "      <td>2859.000000</td>\n",
       "      <td>1803.000000</td>\n",
       "      <td>573.00000</td>\n",
       "      <td>209.000000</td>\n",
       "      <td>110.000000</td>\n",
       "    </tr>\n",
       "    <tr>\n",
       "      <th>precision</th>\n",
       "      <td>0.674133</td>\n",
       "      <td>0.896123</td>\n",
       "      <td>0.97615</td>\n",
       "      <td>0.985849</td>\n",
       "      <td>0.990991</td>\n",
       "    </tr>\n",
       "  </tbody>\n",
       "</table>\n",
       "</div>"
      ],
      "text/plain": [
       "           50% Threshold  90% Threshold  99% Threshold  999% Threshold  \\\n",
       "pred_pos     4241.000000    2012.000000      587.00000      212.000000   \n",
       "true_pos     2859.000000    1803.000000      573.00000      209.000000   \n",
       "precision       0.674133       0.896123        0.97615        0.985849   \n",
       "\n",
       "           9999% Threshold  \n",
       "pred_pos        111.000000  \n",
       "true_pos        110.000000  \n",
       "precision         0.990991  "
      ]
     },
     "execution_count": 61,
     "metadata": {},
     "output_type": "execute_result"
    }
   ],
   "source": [
    "thresholds = pd.DataFrame({\"50% Threshold\":precision_50per.iloc[9],\n",
    "               \"90% Threshold\":precision_90per.iloc[9],\n",
    "               \"99% Threshold\":precision_99per.iloc[9],\n",
    "               \"999% Threshold\":precision_999per.iloc[9],\n",
    "               \"9999% Threshold\":precision_9999per.iloc[9]})\n",
    "\n",
    "thresholds"
   ]
  },
  {
   "cell_type": "code",
   "execution_count": 73,
   "metadata": {},
   "outputs": [
    {
     "data": {
      "text/plain": [
       "Text(0.5, 1.0, 'Precision vs. Threshold %')"
      ]
     },
     "execution_count": 73,
     "metadata": {},
     "output_type": "execute_result"
    },
    {
     "data": {
      "image/png": "[encoded data removed]",
      "text/plain": [
       "<Figure size 432x288 with 1 Axes>"
      ]
     },
     "metadata": {
      "needs_background": "light"
     },
     "output_type": "display_data"
    }
   ],
   "source": [
    "threshold_plotter = pd.DataFrame({\"Threshold %\": ['0.5', '.9', '.99', '.999','.9999'],\n",
    "                                 \"Precision\": thresholds.iloc[2],\n",
    "                                 \"True Positives\": thresholds.iloc[1]})\n",
    "plt.plot(threshold_plotter[\"Threshold %\"], threshold_plotter[\"Precision\"], \"ro\")\n",
    "plt.ylabel('Precision')\n",
    "plt.xlabel('Threshold %')\n",
    "plt.title('Precision vs. Threshold %')"
   ]
  },
  {
   "cell_type": "code",
   "execution_count": 75,
   "metadata": {},
   "outputs": [
    {
     "data": {
      "text/plain": [
       "Text(0.5, 1.0, '# Predictions vs. Threshold %')"
      ]
     },
     "execution_count": 75,
     "metadata": {},
     "output_type": "execute_result"
    },
    {
     "data": {
      "image/png": "[encoded data removed]",
      "text/plain": [
       "<Figure size 432x288 with 1 Axes>"
      ]
     },
     "metadata": {
      "needs_background": "light"
     },
     "output_type": "display_data"
    }
   ],
   "source": [
    "plt.plot(threshold_plotter[\"Threshold %\"], threshold_plotter[\"True Positives\"], \"ro\")\n",
    "plt.ylabel('# Predictions')\n",
    "plt.xlabel('Threshold %')\n",
    "plt.title('# Predictions vs. Threshold %')"
   ]
  },
  {
   "cell_type": "markdown",
   "metadata": {},
   "source": [
    "It looks like using the selected logistic regression model makes it possible for us to achieve near perfect precision! With a 99% threshold we predicted 587 instances to be unreliable, of which 573 were actually unreliable (14 errors, 97.6% precision). As we increased out threshold to 99.9%, we predicted 212 instances to be unreliable, of which 209 were actually unreliable (3 errors, 98.5% Precision). Finally at a threshold of 99.99% , we predicted 111 instances to be unreliable of which 110 were actually unreliable (1 error, 99% precision). \n",
    "\n",
    "It appears that our increases in threshold had only a marginal increase on our precision, but we made half as many predictions with each increase. Likely any of these values above 99% would be fine for a company to use to flag fake news with a great amount of confidence, but in order for us to be sure, we need to get a better understanding of what the model is doing, and where it went wrong even with a 99.99% threshold! "
   ]
  },
  {
   "cell_type": "markdown",
   "metadata": {},
   "source": [
    "### Model Interpretation and Error Analysis"
   ]
  },
  {
   "cell_type": "markdown",
   "metadata": {},
   "source": [
    "To better understand our model, lets take a look at the coefficients assigned to each feature. The highest values will give us insight into which features are most predictive of unreliable news according to our model. "
   ]
  },
  {
   "cell_type": "code",
   "execution_count": 77,
   "metadata": {},
   "outputs": [
    {
     "data": {
      "text/plain": [
       "LogisticRegression(C=4.0, class_weight=None, dual=False, fit_intercept=True,\n",
       "          intercept_scaling=1, max_iter=100, multi_class='warn',\n",
       "          n_jobs=None, penalty='l2', random_state=None, solver='liblinear',\n",
       "          tol=0.0001, verbose=0, warm_start=False)"
      ]
     },
     "execution_count": 77,
     "metadata": {},
     "output_type": "execute_result"
    }
   ],
   "source": [
    "log_reg.fit(feature_set.features[9], train_y)"
   ]
  },
  {
   "cell_type": "code",
   "execution_count": 167,
   "metadata": {},
   "outputs": [
    {
     "name": "stdout",
     "output_type": "stream",
     "text": [
      "[  21  507 1160  229  752  746   89 1256 1096  979   66 1013  762  357\n",
      " 1187  177  404  662  564   67  522    3  106   99 1239  938 1169  361\n",
      "  898 1182  819  238   26  133 1172  144 1089  530   27  147  237 1029\n",
      " 1110 1120  293  939    8    1 1222 1207 1128  927  233  396  360  837\n",
      "   38  751  834 1113 1121  159  737  689 1116  668  869   28 1203  747\n",
      " 1118  952 1117 1193 1014 1109   78  165  583 1064   46 1158 1220  656\n",
      " 1060  173 1255 1178  103 1002  692  138 1142 1058 1087  738  466  358\n",
      "  969  157]\n"
     ]
    }
   ],
   "source": [
    "top100 = log_reg.coef_[0].argsort()[::-1][0:100]\n",
    "print(top100)\n",
    "\n",
    "top100 = top100[top100 <= 1255]\n",
    "\n",
    "unreliable_coefs = log_reg.coef_[0,top100]\n",
    "unreliable_words = np.asarray(feature_set.vectorizers[9].get_feature_names())[top50]\n",
    "\n",
    "bottom100 = log_reg.coef_[0].argsort()[0:100]\n",
    "bottom100 = bottom100[bottom100 <= 1255]\n",
    "\n",
    "reliable_coefs = log_reg.coef_[0,bottom100]\n",
    "reliable_words = np.asarray(feature_set.vectorizers[9].get_feature_names())[bottom100]"
   ]
  },
  {
   "cell_type": "code",
   "execution_count": 165,
   "metadata": {},
   "outputs": [
    {
     "data": {
      "text/plain": [
       "array(['title_breitbart', 'said', 'mr', 'breitbart', 'twitter', 'follow',\n",
       "       '2017', 'title_', 'on', 'ms', 'president', 'title_york', 'that',\n",
       "       'title_times', 'title_new', 'at', 'its', 'mrs', 'percent',\n",
       "       'administration', 'sunday', 'march', 'immigration', 'new',\n",
       "       'islamic', 'york', 'house', 'game', 'but', 'last', 'friday', 'you',\n",
       "       'senate', 'january', 'saturday', 'in', 'united', 'executive',\n",
       "       'texas', 'an', 'week', 'statement', 'democrats', 'added', 'think',\n",
       "       'with', 'series', 'news', 'officials', 'speech', 'for', 'border',\n",
       "       'former', 're', 'attack', 'who', 'and', 'republicans', 'monday',\n",
       "       'thursday', 'host', 'show', 'team', 'it', 'times', 'bill', 'wrote',\n",
       "       'february', 'weekend', 'continued', 'whether', 'april',\n",
       "       'committee', 'including', 'university', 'director', 'reporter',\n",
       "       'than', 'like', 'care', 'cnn', 'she', 'during', 'decision', 'tax',\n",
       "       'security', 'tuesday', 'more', 'company', 'union', 'june', 'we',\n",
       "       'senior', 'night', 'conservative', 'planned', 'had', 'want',\n",
       "       'women', 'states'], dtype='<U15')"
      ]
     },
     "execution_count": 165,
     "metadata": {},
     "output_type": "execute_result"
    }
   ],
   "source": [
    "reliable_words\n",
    "#reliable_coefs"
   ]
  },
  {
   "cell_type": "code",
   "execution_count": 166,
   "metadata": {},
   "outputs": [
    {
     "data": {
      "text/plain": [
       "array(['2016', 'hillary', 'us', 'clinton', 'october', 'november', 'anti',\n",
       "       'this', 'share', 'al', 'source', 'old', 'election', 'war', 'by',\n",
       "       'fbi', 'man', 'is', 'all', 'however', '11', 'article', 'are',\n",
       "       'world', 'russia', 'via', 'emails', 'related', 'voting', 'please',\n",
       "       'comments', '26', 'be', 'video', 'being', 'these', 'image', '27',\n",
       "       'below', 'comment', 'standing', 'title_and', 'title_of', 'de',\n",
       "       'russian', '16', '10', 'will', 'western', 'today', 'right', 'com',\n",
       "       'fact', 'email', 'power', 'access', 'obama', 'post', 'title_by',\n",
       "       'title_on', 'body', 'no', 'military', 'title_hillary', 'massive',\n",
       "       'putin', '28', 'well', 'now', 'title_is', 'secret', 'title_in',\n",
       "       'water', 'sources', 'title_a', 'am', 'breaking', 'just', 'system',\n",
       "       'actually', 'up', 'why', 'mainstream', 'supporters', 'bush',\n",
       "       'your', 'vote', 'army', 'so', 'mind', 'been', 'truth', 'support',\n",
       "       'then', 'nominee', 'god', 'elections', 'september', 'black'],\n",
       "      dtype='<U15')"
      ]
     },
     "execution_count": 166,
     "metadata": {},
     "output_type": "execute_result"
    }
   ],
   "source": [
    "unreliable_words"
   ]
  },
  {
   "cell_type": "markdown",
   "metadata": {},
   "source": [
    "The \"unreliable words\" are the top 99 features that are most significant in predicting unreliable news according to our model. In addition to the words above, the url_count was also a significant feature (as expected based on the boxplot seen earlier). \n",
    "\n",
    "The words seen here \"make sense\" in a way, but show that this model is flawed. Without context, the words identified by the model are not outright predictors of unreliable news, but during the 2016 election they were. Some words, such as \"truth\" and \"sources\" might make sense in general context, while the rest of the words seem to be too specifically related to the 2016 elections and political scandals. This shows why our model did not generalize too well to the external data source. Additionally, it shows why we can still get high precision by setting a high threshold. If we set the threshold to 99%, then the articles that are predicted to be unreliable will likely contain many of the unreliable words found in our training corpus. \n",
    "\n",
    "Now let's take a look at the 1 instance that was incorrectly classified as unreliable even with a 99.99% threshold."
   ]
  },
  {
   "cell_type": "code",
   "execution_count": 247,
   "metadata": {},
   "outputs": [
    {
     "name": "stdout",
     "output_type": "stream",
     "text": [
      "2762    title_Poll: title_Clinton title_leads title_Tr...\n",
      "Name: Text, dtype: object\n",
      "title_Poll: title_Clinton title_leads title_Trump title_by title_three title_points With less than two weeks to go, the race for the White House has narrowed as Hillary Clinton now has a three-point advantage over Donald Trump.\n",
      "\n",
      "That’s within the margin of error of the national Fox News Poll of likely voters.\n",
      "\n",
      "Clinton is ahead of Trump by 44-41 percent.  Another one-in-ten back a third-party candidate and four percent are undecided.  Last week she was up by six points (45-39 percent) and before that by seven (45-38 percent).\n",
      "\n",
      "The poll, released Wednesday, finds Clinton leads 49-44 percent in the head-to-head matchup.  That 5-point advantage is at the edge of the error margin.  She was up 7 a week ago (49-42 percent).\n",
      "\n",
      "CLICK HERE TO READ THE FULL POLL RESULTS.\n",
      "\n",
      "Trump is helped by increased backing among independents and greater strength of support: 68 percent of those backing Trump support him “strongly,” compared to 61 percent for Clinton.\n",
      "\n",
      "Independents favor Trump over Clinton by 13 points (41-28 percent).  He had a 7-point advantage last week, and two weeks ago they were tied at 35 percent each.  Third-party candidates play a role here, as Gary Johnson (14 percent) and Jill Stein (7 percent) receive the combined support of more than one-in-five independents.\n",
      "\n",
      "In the four-way race, Trump leads among whites (+14 points) and men (+5), although his best groups remain white evangelical Christians (+56) and whites without a college degree (+28).\n",
      "\n",
      "Clinton has commanding leads among blacks (+77 points), unmarried women (+27), voters under 30 (+18), and women (+10).  First-time voters are also more likely to back her (+16).\n",
      "\n",
      "The candidates garner almost equal backing among the party faithful:  83 percent of Democrats back Clinton, while 81 percent of Republicans support Trump.\n",
      "\n",
      "“To be competitive, Trump needs to consolidate support among Republicans and carry independents,” says Republican pollster Daron Shaw.  “That’s where he’s made in-roads in the last week, mostly by focusing his attention on the economy and Obamacare.”   Shaw conducts the Fox News Poll with Democratic counterpart Chris Anderson.\n",
      "\n",
      "Trump’s substantive strength is the economy.  He’s trusted over Clinton by four points, yet that’s the only issue where he bests her.  More trust Clinton to handle foreign policy (+15 points), immigration (+3), and terrorism (+3).\n",
      "\n",
      "Who would voters put across the table with Russian President Vladimir Putin?  More trust Clinton to negotiate with Putin by 3 points (47-44 percent among registered voters).  That’s down from a 13-point lead on this measure in April (53-40 percent).\n",
      "\n",
      "All in all, likely voters don’t think Trump is up to the task:  less than half think he’s qualified to be president (46 percent) and even fewer feel he has the temperament to serve effectively (36 percent).  Plus, over half lack confidence in his judgment in a crisis (56 percent).\n",
      "\n",
      "Clinton trounces Trump on each of those measures:  64 percent believe she’s qualified, 62 percent say she has the temperament, and 56 percent are confident in her judgment.\n",
      "\n",
      "Plus, Clinton continues to receive more positive personal ratings.  She has a net negative rating of eight points (45 favorable vs. 53 unfavorable), while Trump is underwater by 14 (42 favorable vs. 56 unfavorable).  In addition, when undecided voters and those backing third-party candidates are combined, 26 percent have a favorable view of Clinton vs. 18 percent for Trump.\n",
      "\n",
      "Yet despite Trump’s weaknesses on traits, it’s still a tight race.  That’s because, at least in part, lots of folks prioritize issues when deciding their vote.  By a 59-28 percent margin, more say their decision is about the issues as opposed to the character of the candidates.  Those backing Trump are more likely to be voting on issues than character by a wide 57-point margin (73-16 percent).  For Clinton supporters, the choice is more about issues by 12 points (47-35 percent).\n",
      "\n",
      "Compared to 2008, this is a more character driven election.  At that time, voters said issues were more important than personal qualities by a 71-14 percent margin.\n",
      "\n",
      "\"The bottom hasn't fallen out for Trump and Clinton hasn't pulled away, but the race isn’t as close as the 3-point lead suggests,” says Anderson.  “Trump needs a solid majority of undecided voters and wavering supporters of third-party candidates, and that’s extremely unlikely since most of them think he lacks the judgment, temperament, and qualifications to be president.\"\n",
      "\n",
      "There are a couple of areas where the two are about evenly matched.  First, 52 percent feel Clinton “stands up” for people like them, and 49 percent feel that way about Trump.\n",
      "\n",
      "Also on their honesty -- or lack thereof:  a record-low 30 percent of likely voters think Clinton is honest and trustworthy, while 34 percent say Trump is.\n",
      "\n",
      "Here are five additional takeaways from the poll.\n",
      "\n",
      "- 63 percent of Trump’s supporters believe things in the United States generally favor “other people,” rather than people like them.  Forty-four percent of Clinton’s supporters feel that way.\n",
      "\n",
      "- Twice as many voters expect Clinton to win as think Trump will (64-26 percent).  Fully 86 percent of Democrats think Clinton will win, while 49 percent of Republicans think Trump will.\n",
      "\n",
      "- Trump supporters (34 percent) are more than three times as likely as Clinton supporters (10 percent) to say they won’t accept the election outcome if their candidate loses.  Eighty-eight percent of Clinton supporters say they’ll accept the outcome, up from 74 percent in September.\n",
      "\n",
      "- The generic congressional ballot test is also tight:  47 percent back the Democratic candidate in their congressional district, while 45 percent support the Republican.  Among those backing the GOP congressional candidate, 79 percent go for Trump in the four-way presidential race.  Clinton gets 82 percent of those backing the Democratic candidate.\n",
      "\n",
      "“Models suggest a 2-point Democratic advantage on the generic ballot would result in a gain of about 11 seats in the House and 4 in the Senate,” says Shaw.  “That means the GOP would retain an edge of about 20 seats in the House, while the Senate would be very much up for grabs.”\n",
      "\n",
      "- The political parties are about evenly matched in popularity among likely voters.  The Democratic Party has a net positive rating of four points (51 percent favorable vs. 47 percent unfavorable).  The Republican Party has a net negative rating by just one point (48 percent favorable vs. 49 percent unfavorable).\n",
      "\n",
      "The Fox News Poll is based on landline and cellphone interviews with 1,309 randomly chosen registered voters nationwide and was conducted under the joint direction of Anderson Robbins Research (D) and Shaw & Company Research (R) from October 22-25, 2016.  The survey includes results among 1,221 likely voters.  The margin of sampling error is plus or minus 2.5 percentage points for results among both registered and likely voters.\n"
     ]
    }
   ],
   "source": [
    "p = prediction_probs_9999per[9]\n",
    "\n",
    "percentages = [percentage[1] for percentage in p]\n",
    "\n",
    "pred_unreliable = [predict >= .9999 for predict in percentages]\n",
    "\n",
    "checker = pd.DataFrame({\"Predicted Unreliable\": pred_unreliable,\n",
    "                        \"Label\": test_y,\n",
    "                        \"Text\": test_text})\n",
    "\n",
    "print(checker[(checker['Predicted Unreliable'] == True) & (checker.Label == 0)].Text)\n",
    "\n",
    "misclass_article = test_text[2762]\n",
    "\n",
    "print(misclass_article)\n"
   ]
  },
  {
   "cell_type": "markdown",
   "metadata": {},
   "source": [
    "Our model was 99.99% sure that the above article was unreliable, despite it being reliable. "
   ]
  },
  {
   "cell_type": "code",
   "execution_count": 249,
   "metadata": {},
   "outputs": [
    {
     "name": "stdout",
     "output_type": "stream",
     "text": [
      "[array(['10', '11', '12', '13', '14', '15', '16', '18', '20', '2008',\n",
      "       '2016', '22', '25', '26', '27', '28', '30', '40', 'about',\n",
      "       'across', 'addition', 'additional', 'ago', 'ahead', 'all',\n",
      "       'almost', 'also', 'although', 'among', 'an', 'and', 'another',\n",
      "       'april', 'are', 'areas', 'as', 'at', 'attention', 'away', 'back',\n",
      "       'based', 'be', 'because', 'before', 'believe', 'best', 'both',\n",
      "       'but', 'by', 'candidate', 'candidates', 'choice', 'clinton',\n",
      "       'close', 'college', 'company', 'compared', 'continues', 'couple',\n",
      "       'crisis', 'decision', 'democratic', 'democrats', 'despite',\n",
      "       'district', 'don', 'donald', 'down', 'each', 'economy', 'eight',\n",
      "       'election', 'even', 'expect', 'favor', 'feel', 'first', 'five',\n",
      "       'for', 'foreign', 'four', 'fox', 'from', 'full', 'fully', 'gets',\n",
      "       'go', 'greater', 'groups', 'had', 'half', 'has', 'have', 'he',\n",
      "       'head', 'helped', 'her', 'here', 'hillary', 'him', 'his', 'house',\n",
      "       'if', 'immigration', 'important', 'in', 'includes', 'increased',\n",
      "       'is', 'isn', 'issue', 'issues', 'it', 'just', 'lack', 'last',\n",
      "       'lead', 'least', 'less', 'like', 'likely', 'll', 'low', 'made',\n",
      "       'majority', 'many', 'means', 'men', 'more', 'most', 'mostly',\n",
      "       'much', 'national', 'needs', 'news', 'now', 'october', 'on', 'one',\n",
      "       'only', 'or', 'other', 'out', 'over', 'part', 'parties', 'party',\n",
      "       'people', 'percent', 'personal', 'play', 'point', 'points',\n",
      "       'policy', 'political', 'president', 'presidential', 'put', 'putin',\n",
      "       'race', 'rather', 'read', 'record', 'released', 'remain',\n",
      "       'republican', 'republicans', 'research', 'result', 'results',\n",
      "       'role', 'russian', 'said', 'say', 'says', 'senate', 'september',\n",
      "       'serve', 'seven', 'she', 'since', 'six', 'states', 'still',\n",
      "       'support', 'supporters', 'terrorism', 'than', 'that', 'their',\n",
      "       'them', 'there', 'they', 'things', 'think', 'third', 'this',\n",
      "       'those', 'three', 'time', 'times', 'title_by', 'title_clinton',\n",
      "       'title_trump', 'trump', 'two', 'under', 'united', 'up', 'very',\n",
      "       'view', 'vote', 'voters', 'voting', 'was', 'way', 'wednesday',\n",
      "       'week', 'weeks', 'were', 'when', 'where', 'while', 'white', 'who',\n",
      "       'will', 'win', 'with', 'within', 'without', 'women', 'won',\n",
      "       'would', 'yet'], dtype='<U15')]\n"
     ]
    }
   ],
   "source": [
    "misclass_article_features = feature_set.vectorizers[9].inverse_transform(test_results.test_features[9][2762][:-5])\n",
    "\n",
    "print(misclass_article_features)"
   ]
  },
  {
   "cell_type": "markdown",
   "metadata": {},
   "source": [
    "The above are the words in the text that also made it as features in our model. Lets see which of the words are also in the top 100 unreliable words list:"
   ]
  },
  {
   "cell_type": "code",
   "execution_count": 254,
   "metadata": {},
   "outputs": [
    {
     "data": {
      "text/plain": [
       "array(['2016', 'hillary', 'clinton', 'october', 'this', 'election', 'by',\n",
       "       'is', 'all', '11', 'are', 'voting', '26', 'be', '27', 'russian',\n",
       "       '16', '10', 'will', 'title_by', 'putin', '28', 'now', 'just', 'up',\n",
       "       'supporters', 'vote', 'support', 'september'], dtype='<U15')"
      ]
     },
     "execution_count": 254,
     "metadata": {},
     "output_type": "execute_result"
    }
   ],
   "source": [
    "unreliable_words[np.isin(unreliable_words, np.asarray(misclass_article_features))]\n"
   ]
  },
  {
   "cell_type": "markdown",
   "metadata": {},
   "source": [
    "The above are all words that the model believes to be indicative of unreliable news, and they were found in the reliable news article that ultimately ended up misclassified even with a 99.99% threshold. \n",
    "\n",
    "This shows that the data we used was not ideal for spotting fake news, as majority of unreliable news articles must have contained seemingly innocuous political words related to the 2016 elections. "
   ]
  },
  {
   "cell_type": "code",
   "execution_count": null,
   "metadata": {},
   "outputs": [],
   "source": []
  }
 ],
 "metadata": {
  "kernelspec": {
   "display_name": "Python (INLS613)",
   "language": "python",
   "name": "inls613"
  },
  "language_info": {
   "codemirror_mode": {
    "name": "ipython",
    "version": 3
   },
   "file_extension": ".py",
   "mimetype": "text/x-python",
   "name": "python",
   "nbconvert_exporter": "python",
   "pygments_lexer": "ipython3",
   "version": "3.7.1"
  }
 },
 "nbformat": 4,
 "nbformat_minor": 2
}
