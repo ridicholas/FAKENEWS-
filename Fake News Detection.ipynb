{
 "cells": [
  {
   "cell_type": "markdown",
   "metadata": {},
   "source": [
    "# Fake News Detection"
   ]
  },
  {
   "cell_type": "markdown",
   "metadata": {},
   "source": [
    "## Introduction"
   ]
  },
  {
   "cell_type": "markdown",
   "metadata": {},
   "source": [
    "Fake news detection is a subject that has been getting a lot of press coverage in recent years. People make decisions based on the news they digest, and fake news gets in the way of the public making well-informed decisions. The community is overwhelmed with information and is unsure of what can be trusted. Often, the public ends up trusting inaccurate information. Many social media companies are currently trying to solve the issue of fake news spreading rapidly throughout their platforms. A reliable tool to identify untrustworthy news is needed to filter the information we receive.\n",
    "\n",
    "We are trying to see if we can use text mining to classify news articles as real or fake based on the text in the article body and/or headline."
   ]
  },
  {
   "cell_type": "markdown",
   "metadata": {},
   "source": [
    "## The Data"
   ]
  },
  {
   "cell_type": "markdown",
   "metadata": {},
   "source": [
    "We will make use of 2 main datasets, one of which will be used for training and the other for testing. \n",
    "\n",
    "Of course, the definition of \"fake\" news is not entirely straightforward. News is made up of many lines of text, some of which may contain bias, satire, exageration, and have some lines that are objectively false and some that are objectively true. \n",
    "\n",
    "For the purpose of this project, we will assume (or rather hope) that the datasets used somewhat accurately categorized news into \"unreliable\" and \"reliable,\" meaning that the news classified as \"unreliable\" is primarily made of statements that are objectively false.  "
   ]
  },
  {
   "cell_type": "code",
   "execution_count": 1,
   "metadata": {},
   "outputs": [],
   "source": [
    "import matplotlib.pyplot as plt; plt.rcdefaults()\n",
    "import matplotlib.pyplot as plt\n",
    "import pandas as pd\n",
    "import numpy as np\n",
    "import scipy"
   ]
  },
  {
   "cell_type": "code",
   "execution_count": 3,
   "metadata": {},
   "outputs": [],
   "source": [
    "train = pd.read_csv(\"train.csv\",encoding='utf_8') ## read in train data\n",
    "test = pd.read_csv(\"test.csv\",encoding='utf_8') ## read in test data\n",
    "\n",
    "\n",
    "train = train.drop_duplicates(subset = ['title'], keep = 'first'); ##dedup train data\n",
    "test = test.drop_duplicates(subset = ['title'], keep = 'first'); ##dedup test data\n",
    "\n",
    "train = train.drop_duplicates(subset = ['text'], keep = 'first'); ##dedup train data\n",
    "test = test.drop_duplicates(subset = ['text'], keep = 'first'); ##dedup test data\n",
    "\n",
    "train.text = [str(text) for text in train.text]\n",
    "test.text = [str(text) for text in test.text]\n",
    "train.title = [str(title) for title in train.title]\n",
    "test.title = [str(title) for title in test.title]\n"
   ]
  },
  {
   "cell_type": "markdown",
   "metadata": {},
   "source": [
    "The training dataset was taken from a recent [kaggle competition on spotting fake news](https://www.kaggle.com/c/fake-news/data) (train.csv). \n",
    "\n",
    "The dataset contains 19510 instances and has the following features:\n",
    "\n",
    "- ID\n",
    "- Title\n",
    "- Author\n",
    "- Text\n",
    "- Label (1 = \"Unreliable\", 0 = \"Reliable\")\n",
    "\n",
    "We will only be using Title and Text as features to try and learn the concept of reliable vs unreliable news. We will not be using the author because we want to judge the documents on their content, rather than on their source. Further reasoning for this is that even historically reliable sources might public unreliable news, and vice-versa. \n",
    "\n",
    "Below is a sample set of the first 10 instances of data as an example:"
   ]
  },
  {
   "cell_type": "code",
   "execution_count": 4,
   "metadata": {},
   "outputs": [
    {
     "data": {
      "text/html": [
       "<div>\n",
       "<style scoped>\n",
       "    .dataframe tbody tr th:only-of-type {\n",
       "        vertical-align: middle;\n",
       "    }\n",
       "\n",
       "    .dataframe tbody tr th {\n",
       "        vertical-align: top;\n",
       "    }\n",
       "\n",
       "    .dataframe thead th {\n",
       "        text-align: right;\n",
       "    }\n",
       "</style>\n",
       "<table border=\"1\" class=\"dataframe\">\n",
       "  <thead>\n",
       "    <tr style=\"text-align: right;\">\n",
       "      <th></th>\n",
       "      <th>id</th>\n",
       "      <th>title</th>\n",
       "      <th>author</th>\n",
       "      <th>text</th>\n",
       "      <th>label</th>\n",
       "    </tr>\n",
       "  </thead>\n",
       "  <tbody>\n",
       "    <tr>\n",
       "      <th>0</th>\n",
       "      <td>0</td>\n",
       "      <td>House Dem Aide: We Didn’t Even See Comey’s Let...</td>\n",
       "      <td>Darrell Lucus</td>\n",
       "      <td>House Dem Aide: We Didn’t Even See Comey’s Let...</td>\n",
       "      <td>1</td>\n",
       "    </tr>\n",
       "    <tr>\n",
       "      <th>1</th>\n",
       "      <td>1</td>\n",
       "      <td>FLYNN: Hillary Clinton, Big Woman on Campus - ...</td>\n",
       "      <td>Daniel J. Flynn</td>\n",
       "      <td>Ever get the feeling your life circles the rou...</td>\n",
       "      <td>0</td>\n",
       "    </tr>\n",
       "    <tr>\n",
       "      <th>2</th>\n",
       "      <td>2</td>\n",
       "      <td>Why the Truth Might Get You Fired</td>\n",
       "      <td>Consortiumnews.com</td>\n",
       "      <td>Why the Truth Might Get You Fired October 29, ...</td>\n",
       "      <td>1</td>\n",
       "    </tr>\n",
       "    <tr>\n",
       "      <th>3</th>\n",
       "      <td>3</td>\n",
       "      <td>15 Civilians Killed In Single US Airstrike Hav...</td>\n",
       "      <td>Jessica Purkiss</td>\n",
       "      <td>Videos 15 Civilians Killed In Single US Airstr...</td>\n",
       "      <td>1</td>\n",
       "    </tr>\n",
       "    <tr>\n",
       "      <th>4</th>\n",
       "      <td>4</td>\n",
       "      <td>Iranian woman jailed for fictional unpublished...</td>\n",
       "      <td>Howard Portnoy</td>\n",
       "      <td>Print \\nAn Iranian woman has been sentenced to...</td>\n",
       "      <td>1</td>\n",
       "    </tr>\n",
       "    <tr>\n",
       "      <th>5</th>\n",
       "      <td>5</td>\n",
       "      <td>Jackie Mason: Hollywood Would Love Trump if He...</td>\n",
       "      <td>Daniel Nussbaum</td>\n",
       "      <td>In these trying times, Jackie Mason is the Voi...</td>\n",
       "      <td>0</td>\n",
       "    </tr>\n",
       "    <tr>\n",
       "      <th>6</th>\n",
       "      <td>6</td>\n",
       "      <td>Life: Life Of Luxury: Elton John’s 6 Favorite ...</td>\n",
       "      <td>NaN</td>\n",
       "      <td>Ever wonder how Britain’s most iconic pop pian...</td>\n",
       "      <td>1</td>\n",
       "    </tr>\n",
       "    <tr>\n",
       "      <th>7</th>\n",
       "      <td>7</td>\n",
       "      <td>Benoît Hamon Wins French Socialist Party’s Pre...</td>\n",
       "      <td>Alissa J. Rubin</td>\n",
       "      <td>PARIS  —   France chose an idealistic, traditi...</td>\n",
       "      <td>0</td>\n",
       "    </tr>\n",
       "    <tr>\n",
       "      <th>8</th>\n",
       "      <td>8</td>\n",
       "      <td>Excerpts From a Draft Script for Donald Trump’...</td>\n",
       "      <td>NaN</td>\n",
       "      <td>Donald J. Trump is scheduled to make a highly ...</td>\n",
       "      <td>0</td>\n",
       "    </tr>\n",
       "    <tr>\n",
       "      <th>9</th>\n",
       "      <td>9</td>\n",
       "      <td>A Back-Channel Plan for Ukraine and Russia, Co...</td>\n",
       "      <td>Megan Twohey and Scott Shane</td>\n",
       "      <td>A week before Michael T. Flynn resigned as nat...</td>\n",
       "      <td>0</td>\n",
       "    </tr>\n",
       "  </tbody>\n",
       "</table>\n",
       "</div>"
      ],
      "text/plain": [
       "   id                                              title  \\\n",
       "0   0  House Dem Aide: We Didn’t Even See Comey’s Let...   \n",
       "1   1  FLYNN: Hillary Clinton, Big Woman on Campus - ...   \n",
       "2   2                  Why the Truth Might Get You Fired   \n",
       "3   3  15 Civilians Killed In Single US Airstrike Hav...   \n",
       "4   4  Iranian woman jailed for fictional unpublished...   \n",
       "5   5  Jackie Mason: Hollywood Would Love Trump if He...   \n",
       "6   6  Life: Life Of Luxury: Elton John’s 6 Favorite ...   \n",
       "7   7  Benoît Hamon Wins French Socialist Party’s Pre...   \n",
       "8   8  Excerpts From a Draft Script for Donald Trump’...   \n",
       "9   9  A Back-Channel Plan for Ukraine and Russia, Co...   \n",
       "\n",
       "                         author  \\\n",
       "0                 Darrell Lucus   \n",
       "1               Daniel J. Flynn   \n",
       "2            Consortiumnews.com   \n",
       "3               Jessica Purkiss   \n",
       "4                Howard Portnoy   \n",
       "5               Daniel Nussbaum   \n",
       "6                           NaN   \n",
       "7               Alissa J. Rubin   \n",
       "8                           NaN   \n",
       "9  Megan Twohey and Scott Shane   \n",
       "\n",
       "                                                text  label  \n",
       "0  House Dem Aide: We Didn’t Even See Comey’s Let...      1  \n",
       "1  Ever get the feeling your life circles the rou...      0  \n",
       "2  Why the Truth Might Get You Fired October 29, ...      1  \n",
       "3  Videos 15 Civilians Killed In Single US Airstr...      1  \n",
       "4  Print \\nAn Iranian woman has been sentenced to...      1  \n",
       "5  In these trying times, Jackie Mason is the Voi...      0  \n",
       "6  Ever wonder how Britain’s most iconic pop pian...      1  \n",
       "7  PARIS  —   France chose an idealistic, traditi...      0  \n",
       "8  Donald J. Trump is scheduled to make a highly ...      0  \n",
       "9  A week before Michael T. Flynn resigned as nat...      0  "
      ]
     },
     "execution_count": 4,
     "metadata": {},
     "output_type": "execute_result"
    }
   ],
   "source": [
    "train.head(10) ##show first 10 instances"
   ]
  },
  {
   "cell_type": "code",
   "execution_count": 5,
   "metadata": {},
   "outputs": [
    {
     "data": {
      "text/plain": [
       "(19510, 5)"
      ]
     },
     "execution_count": 5,
     "metadata": {},
     "output_type": "execute_result"
    }
   ],
   "source": [
    "train.shape ##shows # instances and features"
   ]
  },
  {
   "cell_type": "markdown",
   "metadata": {},
   "source": [
    "The testing dataset was taken from another [project found on github](https://github.com/GeorgeMcIntire/fake_real_news_dataset)). This dataset was labeled using the chrome \"BS Detector Extension). \n",
    "\n",
    "The dataset contains 6011 instances and has the following features:\n",
    "\n",
    "- ID\n",
    "- Title\n",
    "- Text\n",
    "- Label (\"Fake\" & \"Real\")\n",
    "\n",
    "We will only be using Title and Text as features to try and test our understanding of the concept of reliable vs unreliable news. \n",
    "Below is a sample set of the first 10 instances of data as an example:"
   ]
  },
  {
   "cell_type": "code",
   "execution_count": 6,
   "metadata": {},
   "outputs": [
    {
     "data": {
      "text/html": [
       "<div>\n",
       "<style scoped>\n",
       "    .dataframe tbody tr th:only-of-type {\n",
       "        vertical-align: middle;\n",
       "    }\n",
       "\n",
       "    .dataframe tbody tr th {\n",
       "        vertical-align: top;\n",
       "    }\n",
       "\n",
       "    .dataframe thead th {\n",
       "        text-align: right;\n",
       "    }\n",
       "</style>\n",
       "<table border=\"1\" class=\"dataframe\">\n",
       "  <thead>\n",
       "    <tr style=\"text-align: right;\">\n",
       "      <th></th>\n",
       "      <th>Unnamed: 0</th>\n",
       "      <th>title</th>\n",
       "      <th>text</th>\n",
       "      <th>label</th>\n",
       "    </tr>\n",
       "  </thead>\n",
       "  <tbody>\n",
       "    <tr>\n",
       "      <th>0</th>\n",
       "      <td>8476</td>\n",
       "      <td>You Can Smell Hillary’s Fear</td>\n",
       "      <td>Daniel Greenfield, a Shillman Journalism Fello...</td>\n",
       "      <td>FAKE</td>\n",
       "    </tr>\n",
       "    <tr>\n",
       "      <th>1</th>\n",
       "      <td>10294</td>\n",
       "      <td>Watch The Exact Moment Paul Ryan Committed Pol...</td>\n",
       "      <td>Google Pinterest Digg Linkedin Reddit Stumbleu...</td>\n",
       "      <td>FAKE</td>\n",
       "    </tr>\n",
       "    <tr>\n",
       "      <th>2</th>\n",
       "      <td>3608</td>\n",
       "      <td>Kerry to go to Paris in gesture of sympathy</td>\n",
       "      <td>U.S. Secretary of State John F. Kerry said Mon...</td>\n",
       "      <td>REAL</td>\n",
       "    </tr>\n",
       "    <tr>\n",
       "      <th>3</th>\n",
       "      <td>10142</td>\n",
       "      <td>Bernie supporters on Twitter erupt in anger ag...</td>\n",
       "      <td>— Kaydee King (@KaydeeKing) November 9, 2016 T...</td>\n",
       "      <td>FAKE</td>\n",
       "    </tr>\n",
       "    <tr>\n",
       "      <th>4</th>\n",
       "      <td>875</td>\n",
       "      <td>The Battle of New York: Why This Primary Matters</td>\n",
       "      <td>It's primary day in New York and front-runners...</td>\n",
       "      <td>REAL</td>\n",
       "    </tr>\n",
       "    <tr>\n",
       "      <th>5</th>\n",
       "      <td>6903</td>\n",
       "      <td>Tehran, USA</td>\n",
       "      <td>\\nI’m not an immigrant, but my grandparents ...</td>\n",
       "      <td>FAKE</td>\n",
       "    </tr>\n",
       "    <tr>\n",
       "      <th>6</th>\n",
       "      <td>7341</td>\n",
       "      <td>Girl Horrified At What She Watches Boyfriend D...</td>\n",
       "      <td>Share This Baylee Luciani (left), Screenshot o...</td>\n",
       "      <td>FAKE</td>\n",
       "    </tr>\n",
       "    <tr>\n",
       "      <th>7</th>\n",
       "      <td>95</td>\n",
       "      <td>‘Britain’s Schindler’ Dies at 106</td>\n",
       "      <td>A Czech stockbroker who saved more than 650 Je...</td>\n",
       "      <td>REAL</td>\n",
       "    </tr>\n",
       "    <tr>\n",
       "      <th>8</th>\n",
       "      <td>4869</td>\n",
       "      <td>Fact check: Trump and Clinton at the 'commande...</td>\n",
       "      <td>Hillary Clinton and Donald Trump made some ina...</td>\n",
       "      <td>REAL</td>\n",
       "    </tr>\n",
       "    <tr>\n",
       "      <th>9</th>\n",
       "      <td>2909</td>\n",
       "      <td>Iran reportedly makes new push for uranium con...</td>\n",
       "      <td>Iranian negotiators reportedly have made a las...</td>\n",
       "      <td>REAL</td>\n",
       "    </tr>\n",
       "  </tbody>\n",
       "</table>\n",
       "</div>"
      ],
      "text/plain": [
       "   Unnamed: 0                                              title  \\\n",
       "0        8476                       You Can Smell Hillary’s Fear   \n",
       "1       10294  Watch The Exact Moment Paul Ryan Committed Pol...   \n",
       "2        3608        Kerry to go to Paris in gesture of sympathy   \n",
       "3       10142  Bernie supporters on Twitter erupt in anger ag...   \n",
       "4         875   The Battle of New York: Why This Primary Matters   \n",
       "5        6903                                        Tehran, USA   \n",
       "6        7341  Girl Horrified At What She Watches Boyfriend D...   \n",
       "7          95                  ‘Britain’s Schindler’ Dies at 106   \n",
       "8        4869  Fact check: Trump and Clinton at the 'commande...   \n",
       "9        2909  Iran reportedly makes new push for uranium con...   \n",
       "\n",
       "                                                text label  \n",
       "0  Daniel Greenfield, a Shillman Journalism Fello...  FAKE  \n",
       "1  Google Pinterest Digg Linkedin Reddit Stumbleu...  FAKE  \n",
       "2  U.S. Secretary of State John F. Kerry said Mon...  REAL  \n",
       "3  — Kaydee King (@KaydeeKing) November 9, 2016 T...  FAKE  \n",
       "4  It's primary day in New York and front-runners...  REAL  \n",
       "5    \\nI’m not an immigrant, but my grandparents ...  FAKE  \n",
       "6  Share This Baylee Luciani (left), Screenshot o...  FAKE  \n",
       "7  A Czech stockbroker who saved more than 650 Je...  REAL  \n",
       "8  Hillary Clinton and Donald Trump made some ina...  REAL  \n",
       "9  Iranian negotiators reportedly have made a las...  REAL  "
      ]
     },
     "execution_count": 6,
     "metadata": {},
     "output_type": "execute_result"
    }
   ],
   "source": [
    "test.head(10)"
   ]
  },
  {
   "cell_type": "code",
   "execution_count": 7,
   "metadata": {},
   "outputs": [
    {
     "data": {
      "text/plain": [
       "(6011, 4)"
      ]
     },
     "execution_count": 7,
     "metadata": {},
     "output_type": "execute_result"
    }
   ],
   "source": [
    "test.shape"
   ]
  },
  {
   "cell_type": "markdown",
   "metadata": {},
   "source": [
    "For clarity and consistency between the two datasets, we will replace the 1 and \"Fake\" label values with \"Unreliable\" and the 0 and \"Real\" values with \"Reliable.\""
   ]
  },
  {
   "cell_type": "code",
   "execution_count": 8,
   "metadata": {},
   "outputs": [],
   "source": [
    "train['label'] = train['label'].replace(1, 'Unreliable')\n",
    "train['label'] = train['label'].replace(0, 'Reliable')\n",
    "test['label'] = test['label'].replace('FAKE', 'Unreliable')\n",
    "test['label'] = test['label'].replace('REAL', 'Reliable')"
   ]
  },
  {
   "cell_type": "markdown",
   "metadata": {},
   "source": [
    "Let's make sure our labels are evenly distributed within our two datasets: "
   ]
  },
  {
   "cell_type": "code",
   "execution_count": 9,
   "metadata": {},
   "outputs": [
    {
     "data": {
      "text/plain": [
       "<function matplotlib.pyplot.show(*args, **kw)>"
      ]
     },
     "execution_count": 9,
     "metadata": {},
     "output_type": "execute_result"
    },
    {
     "data": {
      "image/png": "[encoded data removed]",
      "text/plain": [
       "<Figure size 432x288 with 1 Axes>"
      ]
     },
     "metadata": {
      "needs_background": "light"
     },
     "output_type": "display_data"
    }
   ],
   "source": [
    "%matplotlib inline\n",
    "counts = train['label'].value_counts();\n",
    "labels = np.unique(train['label']);\n",
    "y_pos = np.arange(len(labels));\n",
    "plt.bar(y_pos, counts, align='center', alpha=0.5);\n",
    "plt.xticks(y_pos, labels);\n",
    "plt.title('Training Label Distribution');\n",
    "plt.show"
   ]
  },
  {
   "cell_type": "code",
   "execution_count": 10,
   "metadata": {},
   "outputs": [
    {
     "data": {
      "text/plain": [
       "<function matplotlib.pyplot.show(*args, **kw)>"
      ]
     },
     "execution_count": 10,
     "metadata": {},
     "output_type": "execute_result"
    },
    {
     "data": {
      "image/png": "[encoded data removed]",
      "text/plain": [
       "<Figure size 432x288 with 1 Axes>"
      ]
     },
     "metadata": {
      "needs_background": "light"
     },
     "output_type": "display_data"
    }
   ],
   "source": [
    "counts = test['label'].value_counts();\n",
    "labels = np.unique(test['label']);\n",
    "y_pos = np.arange(len(labels));\n",
    "plt.bar(y_pos, counts, align='center', alpha=0.5);\n",
    "plt.xticks(y_pos, labels);\n",
    "plt.title('Label Distribution');\n",
    "plt.show"
   ]
  },
  {
   "cell_type": "markdown",
   "metadata": {},
   "source": [
    "Looks like labels are equally distributed in both the training and testing datasets, so we don't need to worry about problems caused by unequal label distributions. "
   ]
  },
  {
   "cell_type": "markdown",
   "metadata": {},
   "source": [
    "### Label Preprocessing"
   ]
  },
  {
   "cell_type": "markdown",
   "metadata": {},
   "source": [
    "Although setting labels as \"Reliable\" and \"Unreliable\" is easier for a human understand, we should convert our labels to arrays with 0 and 1 values so that they can work with the ML packages, the below code will do this for us. "
   ]
  },
  {
   "cell_type": "code",
   "execution_count": 11,
   "metadata": {},
   "outputs": [],
   "source": [
    "from sklearn import preprocessing ### Importing a preprocessor to convert the labels in the target class."
   ]
  },
  {
   "cell_type": "code",
   "execution_count": 12,
   "metadata": {},
   "outputs": [],
   "source": [
    "class_y = ['Unreliable','Reliable']\n",
    "le = preprocessing.LabelEncoder()\n",
    "le.fit(class_y);"
   ]
  },
  {
   "cell_type": "code",
   "execution_count": 13,
   "metadata": {},
   "outputs": [],
   "source": [
    "train_y = le.transform(train['label']) \n",
    "test_y = le.transform(test['label'])"
   ]
  },
  {
   "cell_type": "code",
   "execution_count": 14,
   "metadata": {},
   "outputs": [
    {
     "name": "stdout",
     "output_type": "stream",
     "text": [
      "[1 0 0]\n",
      "[1 0 1 ... 0 0 1]\n",
      "[1 1 0 ... 1 0 0]\n"
     ]
    }
   ],
   "source": [
    "## check if it worked:\n",
    "\n",
    "print(le.transform(['Unreliable','Reliable','Reliable']))\n",
    "print(train_y)\n",
    "print(test_y)"
   ]
  },
  {
   "cell_type": "markdown",
   "metadata": {},
   "source": [
    "## Feature Engineering"
   ]
  },
  {
   "cell_type": "markdown",
   "metadata": {},
   "source": [
    "#### General Reasoning\n",
    "\n",
    "The feature selection process will be the primary focus of this project. The different classification algorithms do similar things in slightly different ways, so we will choose an algorithm (logistic regression for example) and stick with it. The way we choose to represent our data will have a much greater impact on our model performance and on our understanding of what works and what does not. \n",
    "\n",
    "To drive home the point, say we choose a poor feature representation. It will be almost impossible to classify news as real or fake, no matter which algorithm we choose. On the other hand, if we choose a feature representation that contains signal that is useful for classifying news as fake, any of the common classification algorithms should be able to correctly extract the relationship. "
   ]
  },
  {
   "cell_type": "markdown",
   "metadata": {},
   "source": [
    "#### Working with the Title"
   ]
  },
  {
   "cell_type": "markdown",
   "metadata": {},
   "source": [
    "When looking for indicators of fake news, we should consider the possibility that if certain words appear in the title they might be more indicative of the article being fake than if they appeared in the body text, or vice-versa. To account for this, we must ensure that a word that appears in the title is treated as a seperate feature from the same word appearing in the text. \n",
    "\n",
    "We will create such features by appending \"title_\" to all words that appear in the title, and later merging the newly created titles with the text body into a single string. "
   ]
  },
  {
   "cell_type": "code",
   "execution_count": 15,
   "metadata": {},
   "outputs": [],
   "source": [
    "train_title = np.array(train['title'].astype('U'))\n",
    "test_title = np.array(test['title'].astype('U'))"
   ]
  },
  {
   "cell_type": "code",
   "execution_count": 16,
   "metadata": {},
   "outputs": [],
   "source": [
    "import feature_engineering as fe #importing functions I've written to help create feature set"
   ]
  },
  {
   "cell_type": "code",
   "execution_count": 17,
   "metadata": {},
   "outputs": [],
   "source": [
    "##convert title to new version \n",
    "\n",
    "train_title = fe.word_appender(train_title, \"title\")\n",
    "test_title = fe.word_appender(test_title, \"title\")"
   ]
  },
  {
   "cell_type": "code",
   "execution_count": 18,
   "metadata": {},
   "outputs": [],
   "source": [
    "##run merger on train and test data\n",
    "\n",
    "train_text = fe.text_merger(train_title, np.array(train['text'].astype('U')))\n",
    "test_text = fe.text_merger(test_title, np.array(test['text'].astype('U')))"
   ]
  },
  {
   "cell_type": "code",
   "execution_count": 19,
   "metadata": {},
   "outputs": [
    {
     "data": {
      "text/plain": [
       "'title_FLYNN: title_Hillary title_Clinton, title_Big title_Woman title_on title_Campus title_- title_Breitbart Ever get the feeling your life circles the roundabout rather than heads in a straight line toward the intended destination? [Hillary Clinton remains the big woman on campus in leafy, liberal Wellesley, Massachusetts. Everywhere else votes her most likely to don her inauguration dress for the remainder of her days the way Miss Havisham forever wore that wedding dress.  Speaking of Great E'"
      ]
     },
     "execution_count": 19,
     "metadata": {},
     "output_type": "execute_result"
    }
   ],
   "source": [
    "train_text[1][0:500] ##look at first 500 characters of random example to see if it worked"
   ]
  },
  {
   "cell_type": "markdown",
   "metadata": {},
   "source": [
    "#### Checking for URLs\n",
    "\n",
    "Another potential indicator for whether an article is reliable or not is the number of hyperlinks that are included in the title/text. For example, articles that contain many hyperlinks might be more reliable because they are providing sources. Another possibility is that mostly fake news articles contain urls in the title/text as they try to point you to other fake news sources (such as clickbait articles). \n",
    "\n",
    "Below is some code that will help us work with urls."
   ]
  },
  {
   "cell_type": "code",
   "execution_count": 20,
   "metadata": {},
   "outputs": [],
   "source": [
    "import re"
   ]
  },
  {
   "cell_type": "code",
   "execution_count": 21,
   "metadata": {},
   "outputs": [],
   "source": [
    "train_urls, train_urlcount = fe.url_finder(train_text)\n",
    "test_urls, test_urlcount = fe.url_finder(test_text)"
   ]
  },
  {
   "cell_type": "code",
   "execution_count": 22,
   "metadata": {},
   "outputs": [
    {
     "name": "stdout",
     "output_type": "stream",
     "text": [
      "[list([]) list(['https://t.co/VyTT49YvoE']) list([]) ... list([]) list([])\n",
      " list([])]\n",
      "[0 1 0 ... 0 0 0]\n",
      "(19510,)\n",
      "(6011,)\n"
     ]
    }
   ],
   "source": [
    "##lets see if worked\n",
    "print(test_urls) \n",
    "print(test_urlcount)\n",
    "\n",
    "print(train_urlcount.shape)\n",
    "print(test_urlcount.shape)"
   ]
  },
  {
   "cell_type": "code",
   "execution_count": 23,
   "metadata": {},
   "outputs": [
    {
     "data": {
      "text/plain": [
       "<matplotlib.axes._subplots.AxesSubplot at 0x11fd89e48>"
      ]
     },
     "execution_count": 23,
     "metadata": {},
     "output_type": "execute_result"
    },
    {
     "data": {
      "image/png": "[encoded data removed]",
      "text/plain": [
       "<Figure size 360x360 with 1 Axes>"
      ]
     },
     "metadata": {
      "needs_background": "light"
     },
     "output_type": "display_data"
    }
   ],
   "source": [
    "##Let's see whether there is any apparent relationship between # of URLs and Fake/Real News\n",
    "\n",
    "%matplotlib inline\n",
    "\n",
    "plots = pd.DataFrame({\"urlcount\": train_urlcount,\n",
    "                        'label': np.asarray(train.label)})\n",
    "\n",
    "\n",
    "plots.boxplot('urlcount', by='label', figsize = (5,5))"
   ]
  },
  {
   "cell_type": "markdown",
   "metadata": {},
   "source": [
    "Interesting! It looks like reliable articles rarely contain URLs (the training dataset did not have any reliable articles with a url, while plenty of unreliable articles had many URLs). This makes sense, credible news sources want to claim credit for their news and would not want to link out to another page, while fake news sources might feel that links build credibility, or they just want users to continue clicking through to other fake news sources/clickbait links. "
   ]
  },
  {
   "cell_type": "markdown",
   "metadata": {},
   "source": [
    "#### Checking Article Length"
   ]
  },
  {
   "cell_type": "markdown",
   "metadata": {},
   "source": [
    "The length of an article could also be indicative of whether it is likely to be real or fake, the following code creates the feature array (each entry is the # of characters in the text). We will also look to see if there is an obvious relationship using boxplots. "
   ]
  },
  {
   "cell_type": "code",
   "execution_count": 24,
   "metadata": {},
   "outputs": [
    {
     "name": "stdout",
     "output_type": "stream",
     "text": [
      "[4930 4160 7692 ... 6059 4799 1773]\n",
      "[ 7518  2646  2543 ... 11974  6991  4818]\n"
     ]
    }
   ],
   "source": [
    "train_lengths = fe.length_maker(train['text'])\n",
    "test_lengths = fe.length_maker(test['text'])\n",
    "\n",
    "print(train_lengths)\n",
    "print(test_lengths)"
   ]
  },
  {
   "cell_type": "code",
   "execution_count": 25,
   "metadata": {},
   "outputs": [
    {
     "data": {
      "text/plain": [
       "<matplotlib.axes._subplots.AxesSubplot at 0x11cc38828>"
      ]
     },
     "execution_count": 25,
     "metadata": {},
     "output_type": "execute_result"
    },
    {
     "data": {
      "image/png": "[encoded data removed]",
      "text/plain": [
       "<Figure size 360x360 with 1 Axes>"
      ]
     },
     "metadata": {
      "needs_background": "light"
     },
     "output_type": "display_data"
    }
   ],
   "source": [
    "plots['lengths'] = train_lengths\n",
    "\n",
    "%matplotlib inline\n",
    "plots.boxplot('lengths', by='label', figsize = (5,5))"
   ]
  },
  {
   "cell_type": "markdown",
   "metadata": {},
   "source": [
    "Not as a significant difference between the labels as with URLs. Unreliable news is a tiny bit shorter on average but has greater variance. "
   ]
  },
  {
   "cell_type": "markdown",
   "metadata": {},
   "source": [
    "#### Readability Index\n",
    "\n",
    "How \"readable\" is each article. The package used to assess readability was taken from a public online source. \"Readability\" of an article is how \"easy\" it is to read (how complex is the article). It could be that fake news articles are written with a lower complexity than real news in order for them to be easy to understand (and more likely to go viral). The higher the \"readability\" score, the more complex the article text. \n",
    "\n",
    "The exact formula used is the following: .4[(# words / # sentences) + 100(# complex words / # sentences)]\n",
    "\n"
   ]
  },
  {
   "cell_type": "code",
   "execution_count": 26,
   "metadata": {},
   "outputs": [
    {
     "name": "stdout",
     "output_type": "stream",
     "text": [
      "CPU times: user 4min 17s, sys: 4.22 s, total: 4min 21s\n",
      "Wall time: 4min 39s\n",
      "CPU times: user 1min 19s, sys: 915 ms, total: 1min 20s\n",
      "Wall time: 1min 22s\n"
     ]
    }
   ],
   "source": [
    "## https://github.com/shivam5992/textstat\n",
    "## test the gunning fog index for each instance\n",
    "## evaluate the readability\n",
    "from textblob import TextBlob\n",
    "from textstat.textstat import textstat\n",
    "\n",
    "%time train['readability_index'] = [textstat.gunning_fog(text) for text in train.text]\n",
    "%time test['readability_index'] = [textstat.gunning_fog(text) for text in test.text]"
   ]
  },
  {
   "cell_type": "code",
   "execution_count": 29,
   "metadata": {},
   "outputs": [
    {
     "data": {
      "text/plain": [
       "<matplotlib.axes._subplots.AxesSubplot at 0x123a25be0>"
      ]
     },
     "execution_count": 29,
     "metadata": {},
     "output_type": "execute_result"
    },
    {
     "data": {
      "image/png": "[encoded data removed]",
      "text/plain": [
       "<Figure size 360x360 with 1 Axes>"
      ]
     },
     "metadata": {
      "needs_background": "light"
     },
     "output_type": "display_data"
    }
   ],
   "source": [
    "plots['Readability'] = train.readability_index\n",
    "\n",
    "%matplotlib inline\n",
    "plots.boxplot('Readability', by='label', figsize = (5,5))"
   ]
  },
  {
   "cell_type": "markdown",
   "metadata": {},
   "source": [
    "Although there might be some slight differences in the distributions, it is hard to tell with just this boxplot."
   ]
  },
  {
   "cell_type": "markdown",
   "metadata": {},
   "source": [
    "#### Article Polarity & Subjectivity"
   ]
  },
  {
   "cell_type": "markdown",
   "metadata": {},
   "source": [
    "The articles polarity (how strong is the articles stance) and subjectivity (how much opinion is in the article) could also be indicative of whether the article is reliable or not reliable. The algorithms for identifying article subjectivity and polarity are taken from an online source, and for the purposes of this project we will assume that the code accurately identifies article polarity and subjectivity as we defined it. "
   ]
  },
  {
   "cell_type": "code",
   "execution_count": 30,
   "metadata": {},
   "outputs": [],
   "source": [
    "## helper method to calculate polarity and subjectivity\n",
    "def polarity(text):\n",
    "    processed = TextBlob(text)\n",
    "    polarity = processed.sentiment.polarity\n",
    "    return polarity\n",
    "\n",
    "def subj(text):\n",
    "    processed = TextBlob(text)\n",
    "    subj = processed.sentiment.subjectivity\n",
    "    return subj"
   ]
  },
  {
   "cell_type": "code",
   "execution_count": 31,
   "metadata": {},
   "outputs": [
    {
     "name": "stdout",
     "output_type": "stream",
     "text": [
      "CPU times: user 2min 10s, sys: 1.3 s, total: 2min 11s\n",
      "Wall time: 2min 16s\n"
     ]
    }
   ],
   "source": [
    "%time train['polarity'] = train.text.apply(polarity)"
   ]
  },
  {
   "cell_type": "code",
   "execution_count": 32,
   "metadata": {},
   "outputs": [
    {
     "name": "stdout",
     "output_type": "stream",
     "text": [
      "CPU times: user 2min 20s, sys: 1.39 s, total: 2min 21s\n",
      "Wall time: 2min 26s\n"
     ]
    }
   ],
   "source": [
    "%time train['subjectivity'] = train.text.apply(subj)"
   ]
  },
  {
   "cell_type": "code",
   "execution_count": 33,
   "metadata": {},
   "outputs": [
    {
     "name": "stdout",
     "output_type": "stream",
     "text": [
      "CPU times: user 40.7 s, sys: 385 ms, total: 41.1 s\n",
      "Wall time: 42.1 s\n"
     ]
    }
   ],
   "source": [
    "%time test['polarity'] = test.text.apply(polarity)"
   ]
  },
  {
   "cell_type": "code",
   "execution_count": 34,
   "metadata": {},
   "outputs": [
    {
     "name": "stdout",
     "output_type": "stream",
     "text": [
      "CPU times: user 39.4 s, sys: 332 ms, total: 39.7 s\n",
      "Wall time: 40.5 s\n"
     ]
    }
   ],
   "source": [
    "%time test['subjectivity'] = test.text.apply(subj)"
   ]
  },
  {
   "cell_type": "code",
   "execution_count": 35,
   "metadata": {},
   "outputs": [
    {
     "name": "stdout",
     "output_type": "stream",
     "text": [
      "[ 0.00677736  0.10088016  0.0562578  ...  0.05029713  0.11253968\n",
      " -0.01942641]\n",
      "[0.48221596 0.49511031 0.40510745 ... 0.41382649 0.46638889 0.20963203]\n"
     ]
    }
   ],
   "source": [
    "##Create arrays of our newly created features\n",
    "\n",
    "train_polarity = np.asarray(train.polarity)\n",
    "train_subjectivity = np.asarray(train.subjectivity)\n",
    "train_readability = np.asarray(train.readability_index)\n",
    "\n",
    "\n",
    "test_polarity = np.asarray(test.polarity)\n",
    "test_subjectivity = np.asarray(test.subjectivity)\n",
    "test_readability = np.asarray(test.readability_index)\n",
    "\n",
    "\n",
    "print(train_polarity)\n",
    "print(train_subjectivity)\n"
   ]
  },
  {
   "cell_type": "code",
   "execution_count": 36,
   "metadata": {},
   "outputs": [
    {
     "data": {
      "text/plain": [
       "<matplotlib.axes._subplots.AxesSubplot at 0x123a9a668>"
      ]
     },
     "execution_count": 36,
     "metadata": {},
     "output_type": "execute_result"
    },
    {
     "data": {
      "image/png": "[encoded data removed]",
      "text/plain": [
       "<Figure size 360x360 with 1 Axes>"
      ]
     },
     "metadata": {
      "needs_background": "light"
     },
     "output_type": "display_data"
    }
   ],
   "source": [
    "plots['Polarity'] = train.polarity\n",
    "\n",
    "%matplotlib inline\n",
    "plots.boxplot('Polarity', by='label', figsize = (5,5))"
   ]
  },
  {
   "cell_type": "code",
   "execution_count": 37,
   "metadata": {},
   "outputs": [
    {
     "data": {
      "text/plain": [
       "<matplotlib.axes._subplots.AxesSubplot at 0x1d6ae5b2e8>"
      ]
     },
     "execution_count": 37,
     "metadata": {},
     "output_type": "execute_result"
    },
    {
     "data": {
      "image/png": "[encoded data removed]",
      "text/plain": [
       "<Figure size 360x360 with 1 Axes>"
      ]
     },
     "metadata": {
      "needs_background": "light"
     },
     "output_type": "display_data"
    }
   ],
   "source": [
    "plots['Subjectivity'] = train.subjectivity\n",
    "\n",
    "%matplotlib inline\n",
    "plots.boxplot('Subjectivity', by='label', figsize = (5,5))"
   ]
  },
  {
   "cell_type": "markdown",
   "metadata": {},
   "source": [
    "Again, it does not seem like there is a strong relationship between the reliability of an article and either its polarity or subjectivity that can be gleaned from the above box plots."
   ]
  },
  {
   "cell_type": "markdown",
   "metadata": {},
   "source": [
    "#### Word Vectorization\n",
    "\n",
    "The main types of word vectorizers we will be trying out will be count ('bag of words') and tfidf weighting (on the combined text + title attribute) in addition to the URL count, article length, text readability, text polarization, and text subjectivity). \n",
    "\n",
    "Both the bag of words and TFIDF weighting approaches convert the entire corpus into a set of features. The bag of words approach counts the number of times each word appears in an instance and assigns that count as the value for that feature in that instance. The TFIDF weights give greater weight to words that appear more frequently in the instance but in fewer instances within the corpus. The TFIDF approach should place greater emphasis on words that are uniquely important to each instance. \n",
    "\n",
    "We will process all text with: \n",
    "\n",
    "- downcasing\n",
    "- tokenizing (on spaces and removing punctuation)\n",
    "- removing stop words (english)\n",
    "\n",
    "We will not be stemming, since modified words are a choice of writing style that might be relevant, so we want to take differences between words such as \"run\" and \"running\" into account. \n",
    "\n",
    "##### Parameters\n",
    "\n",
    "For both TFIDF and Bag of Words we will be trying out a few different parameter selections:\n",
    "\n",
    "- N-Grams (we will try 1-grams, 1-2grams, and 2 grams. We know that individual words used can be indicative of whether an article is real or fake, but so can phrases of varying lengths, so we will try everything that is reasonable with our computing power)\n",
    "\n",
    "- min_df, max_df (try different cutoff values for % of instances that words appear in). We will start with the largest set and iterate by cutting equal percentage from each side. We want to see what happens when we shrink the feature set.  "
   ]
  },
  {
   "cell_type": "code",
   "execution_count": 41,
   "metadata": {},
   "outputs": [],
   "source": [
    "from sklearn.feature_extraction.text import TfidfVectorizer\n",
    "from sklearn.feature_extraction.text import CountVectorizer\n",
    "from scipy.sparse import hstack\n",
    "import word_vectorization as wv"
   ]
  },
  {
   "cell_type": "code",
   "execution_count": 40,
   "metadata": {},
   "outputs": [],
   "source": [
    "##initiate parameter values through which we will iterate\n",
    "\n",
    "df_iter = [[.05,.95],[.1,.9],[.2,.8]]"
   ]
  },
  {
   "cell_type": "markdown",
   "metadata": {},
   "source": [
    "The imported vectorizer_maker consists of two functions that will work together in order to create several feature arrays by iterating through various n-gram settings and df ranges (as initialized in cell above). The final output would be a dataframe with a different feature arrays for different combinations of n_gram and df range parameters. Additionally, each iteration will have a count representation and a TFIDF weighting representation. The previously engineered features (urlcount, length, readability, polarity, and subjectivity) will be appended to the end of each word vector array as the final 5 features. "
   ]
  },
  {
   "cell_type": "code",
   "execution_count": 42,
   "metadata": {},
   "outputs": [
    {
     "name": "stdout",
     "output_type": "stream",
     "text": [
      "CPU times: user 16min 17s, sys: 3min 10s, total: 19min 28s\n",
      "Wall time: 21min 34s\n"
     ]
    }
   ],
   "source": [
    "%time feature_set = wv.vectorizer_maker(train_text, df_iter, 2, train_urlcount, train_lengths, train_readability, train_polarity, train_subjectivity)"
   ]
  },
  {
   "cell_type": "code",
   "execution_count": 44,
   "metadata": {},
   "outputs": [
    {
     "data": {
      "text/html": [
       "<div>\n",
       "<style scoped>\n",
       "    .dataframe tbody tr th:only-of-type {\n",
       "        vertical-align: middle;\n",
       "    }\n",
       "\n",
       "    .dataframe tbody tr th {\n",
       "        vertical-align: top;\n",
       "    }\n",
       "\n",
       "    .dataframe thead th {\n",
       "        text-align: right;\n",
       "    }\n",
       "</style>\n",
       "<table border=\"1\" class=\"dataframe\">\n",
       "  <thead>\n",
       "    <tr style=\"text-align: right;\">\n",
       "      <th></th>\n",
       "      <th>grams</th>\n",
       "      <th>dfs</th>\n",
       "      <th>vectorizers</th>\n",
       "      <th>features</th>\n",
       "      <th>shape</th>\n",
       "      <th>type</th>\n",
       "    </tr>\n",
       "  </thead>\n",
       "  <tbody>\n",
       "    <tr>\n",
       "      <th>0</th>\n",
       "      <td>1-1</td>\n",
       "      <td>[0.05, 0.95]</td>\n",
       "      <td>CountVectorizer(analyzer='word', binary=False,...</td>\n",
       "      <td>[[0.0, 0.0, 0.0, 0.0, 0.0, 0.0, 0.0, 0.0, 0.0,...</td>\n",
       "      <td>(19510, 1042)</td>\n",
       "      <td>count</td>\n",
       "    </tr>\n",
       "    <tr>\n",
       "      <th>1</th>\n",
       "      <td>1-1</td>\n",
       "      <td>[0.1, 0.9]</td>\n",
       "      <td>CountVectorizer(analyzer='word', binary=False,...</td>\n",
       "      <td>[[0.0, 0.0, 0.0, 0.0, 0.0, 0.0, 0.0, 0.0, 2.0,...</td>\n",
       "      <td>(19510, 376)</td>\n",
       "      <td>count</td>\n",
       "    </tr>\n",
       "    <tr>\n",
       "      <th>2</th>\n",
       "      <td>1-1</td>\n",
       "      <td>[0.2, 0.8]</td>\n",
       "      <td>CountVectorizer(analyzer='word', binary=False,...</td>\n",
       "      <td>[[0.0, 0.0, 2.0, 3.0, 0.0, 0.0, 1.0, 0.0, 0.0,...</td>\n",
       "      <td>(19510, 88)</td>\n",
       "      <td>count</td>\n",
       "    </tr>\n",
       "    <tr>\n",
       "      <th>3</th>\n",
       "      <td>1-2</td>\n",
       "      <td>[0.05, 0.95]</td>\n",
       "      <td>CountVectorizer(analyzer='word', binary=False,...</td>\n",
       "      <td>[[0.0, 0.0, 0.0, 0.0, 0.0, 0.0, 0.0, 0.0, 0.0,...</td>\n",
       "      <td>(19510, 1072)</td>\n",
       "      <td>count</td>\n",
       "    </tr>\n",
       "    <tr>\n",
       "      <th>4</th>\n",
       "      <td>1-2</td>\n",
       "      <td>[0.1, 0.9]</td>\n",
       "      <td>CountVectorizer(analyzer='word', binary=False,...</td>\n",
       "      <td>[[0.0, 0.0, 0.0, 0.0, 0.0, 0.0, 0.0, 0.0, 2.0,...</td>\n",
       "      <td>(19510, 387)</td>\n",
       "      <td>count</td>\n",
       "    </tr>\n",
       "    <tr>\n",
       "      <th>5</th>\n",
       "      <td>1-2</td>\n",
       "      <td>[0.2, 0.8]</td>\n",
       "      <td>CountVectorizer(analyzer='word', binary=False,...</td>\n",
       "      <td>[[0.0, 0.0, 2.0, 3.0, 0.0, 0.0, 1.0, 0.0, 0.0,...</td>\n",
       "      <td>(19510, 95)</td>\n",
       "      <td>count</td>\n",
       "    </tr>\n",
       "    <tr>\n",
       "      <th>6</th>\n",
       "      <td>2-2</td>\n",
       "      <td>[0.05, 0.95]</td>\n",
       "      <td>CountVectorizer(analyzer='word', binary=False,...</td>\n",
       "      <td>[[0.0, 0.0, 1.0, 0.0, 1.0, 0.0, 0.0, 0.0, 0.0,...</td>\n",
       "      <td>(19510, 35)</td>\n",
       "      <td>count</td>\n",
       "    </tr>\n",
       "    <tr>\n",
       "      <th>7</th>\n",
       "      <td>2-2</td>\n",
       "      <td>[0.1, 0.9]</td>\n",
       "      <td>CountVectorizer(analyzer='word', binary=False,...</td>\n",
       "      <td>[[0.0, 1.0, 0.0, 0.0, 0.0, 0.0, 0.0, 0.0, 0.0,...</td>\n",
       "      <td>(19510, 16)</td>\n",
       "      <td>count</td>\n",
       "    </tr>\n",
       "    <tr>\n",
       "      <th>8</th>\n",
       "      <td>2-2</td>\n",
       "      <td>[0.2, 0.8]</td>\n",
       "      <td>CountVectorizer(analyzer='word', binary=False,...</td>\n",
       "      <td>[[0.0, 0.0, 0.0, 0.0, 0.0, 0.0, 0.0, 0.0, 4930...</td>\n",
       "      <td>(19510, 12)</td>\n",
       "      <td>count</td>\n",
       "    </tr>\n",
       "    <tr>\n",
       "      <th>9</th>\n",
       "      <td>1-1</td>\n",
       "      <td>[0.05, 0.95]</td>\n",
       "      <td>TfidfVectorizer(analyzer='word', binary=False,...</td>\n",
       "      <td>[[0.0, 0.0, 0.0, 0.0, 0.0, 0.0, 0.0, 0.0, 0.0,...</td>\n",
       "      <td>(19510, 1042)</td>\n",
       "      <td>tfidf</td>\n",
       "    </tr>\n",
       "    <tr>\n",
       "      <th>10</th>\n",
       "      <td>1-1</td>\n",
       "      <td>[0.1, 0.9]</td>\n",
       "      <td>TfidfVectorizer(analyzer='word', binary=False,...</td>\n",
       "      <td>[[0.0, 0.0, 0.0, 0.0, 0.0, 0.0, 0.0, 0.0, 0.07...</td>\n",
       "      <td>(19510, 376)</td>\n",
       "      <td>tfidf</td>\n",
       "    </tr>\n",
       "    <tr>\n",
       "      <th>11</th>\n",
       "      <td>1-1</td>\n",
       "      <td>[0.2, 0.8]</td>\n",
       "      <td>TfidfVectorizer(analyzer='word', binary=False,...</td>\n",
       "      <td>[[0.0, 0.0, 0.1417855219618147, 0.219460906236...</td>\n",
       "      <td>(19510, 88)</td>\n",
       "      <td>tfidf</td>\n",
       "    </tr>\n",
       "    <tr>\n",
       "      <th>12</th>\n",
       "      <td>1-2</td>\n",
       "      <td>[0.05, 0.95]</td>\n",
       "      <td>TfidfVectorizer(analyzer='word', binary=False,...</td>\n",
       "      <td>[[0.0, 0.0, 0.0, 0.0, 0.0, 0.0, 0.0, 0.0, 0.0,...</td>\n",
       "      <td>(19510, 1072)</td>\n",
       "      <td>tfidf</td>\n",
       "    </tr>\n",
       "    <tr>\n",
       "      <th>13</th>\n",
       "      <td>1-2</td>\n",
       "      <td>[0.1, 0.9]</td>\n",
       "      <td>TfidfVectorizer(analyzer='word', binary=False,...</td>\n",
       "      <td>[[0.0, 0.0, 0.0, 0.0, 0.0, 0.0, 0.0, 0.0, 0.07...</td>\n",
       "      <td>(19510, 387)</td>\n",
       "      <td>tfidf</td>\n",
       "    </tr>\n",
       "    <tr>\n",
       "      <th>14</th>\n",
       "      <td>1-2</td>\n",
       "      <td>[0.2, 0.8]</td>\n",
       "      <td>TfidfVectorizer(analyzer='word', binary=False,...</td>\n",
       "      <td>[[0.0, 0.0, 0.1417855219618147, 0.219460906236...</td>\n",
       "      <td>(19510, 95)</td>\n",
       "      <td>tfidf</td>\n",
       "    </tr>\n",
       "    <tr>\n",
       "      <th>15</th>\n",
       "      <td>2-2</td>\n",
       "      <td>[0.05, 0.95]</td>\n",
       "      <td>TfidfVectorizer(analyzer='word', binary=False,...</td>\n",
       "      <td>[[0.0, 0.0, 0.8235183789774303, 0.0, 0.5672895...</td>\n",
       "      <td>(19510, 35)</td>\n",
       "      <td>tfidf</td>\n",
       "    </tr>\n",
       "    <tr>\n",
       "      <th>16</th>\n",
       "      <td>2-2</td>\n",
       "      <td>[0.1, 0.9]</td>\n",
       "      <td>TfidfVectorizer(analyzer='word', binary=False,...</td>\n",
       "      <td>[[0.0, 1.0, 0.0, 0.0, 0.0, 0.0, 0.0, 0.0, 0.0,...</td>\n",
       "      <td>(19510, 16)</td>\n",
       "      <td>tfidf</td>\n",
       "    </tr>\n",
       "    <tr>\n",
       "      <th>17</th>\n",
       "      <td>2-2</td>\n",
       "      <td>[0.2, 0.8]</td>\n",
       "      <td>TfidfVectorizer(analyzer='word', binary=False,...</td>\n",
       "      <td>[[0.0, 0.0, 0.0, 0.0, 0.0, 0.0, 0.0, 0.0, 4930...</td>\n",
       "      <td>(19510, 12)</td>\n",
       "      <td>tfidf</td>\n",
       "    </tr>\n",
       "  </tbody>\n",
       "</table>\n",
       "</div>"
      ],
      "text/plain": [
       "   grams           dfs                                        vectorizers  \\\n",
       "0    1-1  [0.05, 0.95]  CountVectorizer(analyzer='word', binary=False,...   \n",
       "1    1-1    [0.1, 0.9]  CountVectorizer(analyzer='word', binary=False,...   \n",
       "2    1-1    [0.2, 0.8]  CountVectorizer(analyzer='word', binary=False,...   \n",
       "3    1-2  [0.05, 0.95]  CountVectorizer(analyzer='word', binary=False,...   \n",
       "4    1-2    [0.1, 0.9]  CountVectorizer(analyzer='word', binary=False,...   \n",
       "5    1-2    [0.2, 0.8]  CountVectorizer(analyzer='word', binary=False,...   \n",
       "6    2-2  [0.05, 0.95]  CountVectorizer(analyzer='word', binary=False,...   \n",
       "7    2-2    [0.1, 0.9]  CountVectorizer(analyzer='word', binary=False,...   \n",
       "8    2-2    [0.2, 0.8]  CountVectorizer(analyzer='word', binary=False,...   \n",
       "9    1-1  [0.05, 0.95]  TfidfVectorizer(analyzer='word', binary=False,...   \n",
       "10   1-1    [0.1, 0.9]  TfidfVectorizer(analyzer='word', binary=False,...   \n",
       "11   1-1    [0.2, 0.8]  TfidfVectorizer(analyzer='word', binary=False,...   \n",
       "12   1-2  [0.05, 0.95]  TfidfVectorizer(analyzer='word', binary=False,...   \n",
       "13   1-2    [0.1, 0.9]  TfidfVectorizer(analyzer='word', binary=False,...   \n",
       "14   1-2    [0.2, 0.8]  TfidfVectorizer(analyzer='word', binary=False,...   \n",
       "15   2-2  [0.05, 0.95]  TfidfVectorizer(analyzer='word', binary=False,...   \n",
       "16   2-2    [0.1, 0.9]  TfidfVectorizer(analyzer='word', binary=False,...   \n",
       "17   2-2    [0.2, 0.8]  TfidfVectorizer(analyzer='word', binary=False,...   \n",
       "\n",
       "                                             features          shape   type  \n",
       "0   [[0.0, 0.0, 0.0, 0.0, 0.0, 0.0, 0.0, 0.0, 0.0,...  (19510, 1042)  count  \n",
       "1   [[0.0, 0.0, 0.0, 0.0, 0.0, 0.0, 0.0, 0.0, 2.0,...   (19510, 376)  count  \n",
       "2   [[0.0, 0.0, 2.0, 3.0, 0.0, 0.0, 1.0, 0.0, 0.0,...    (19510, 88)  count  \n",
       "3   [[0.0, 0.0, 0.0, 0.0, 0.0, 0.0, 0.0, 0.0, 0.0,...  (19510, 1072)  count  \n",
       "4   [[0.0, 0.0, 0.0, 0.0, 0.0, 0.0, 0.0, 0.0, 2.0,...   (19510, 387)  count  \n",
       "5   [[0.0, 0.0, 2.0, 3.0, 0.0, 0.0, 1.0, 0.0, 0.0,...    (19510, 95)  count  \n",
       "6   [[0.0, 0.0, 1.0, 0.0, 1.0, 0.0, 0.0, 0.0, 0.0,...    (19510, 35)  count  \n",
       "7   [[0.0, 1.0, 0.0, 0.0, 0.0, 0.0, 0.0, 0.0, 0.0,...    (19510, 16)  count  \n",
       "8   [[0.0, 0.0, 0.0, 0.0, 0.0, 0.0, 0.0, 0.0, 4930...    (19510, 12)  count  \n",
       "9   [[0.0, 0.0, 0.0, 0.0, 0.0, 0.0, 0.0, 0.0, 0.0,...  (19510, 1042)  tfidf  \n",
       "10  [[0.0, 0.0, 0.0, 0.0, 0.0, 0.0, 0.0, 0.0, 0.07...   (19510, 376)  tfidf  \n",
       "11  [[0.0, 0.0, 0.1417855219618147, 0.219460906236...    (19510, 88)  tfidf  \n",
       "12  [[0.0, 0.0, 0.0, 0.0, 0.0, 0.0, 0.0, 0.0, 0.0,...  (19510, 1072)  tfidf  \n",
       "13  [[0.0, 0.0, 0.0, 0.0, 0.0, 0.0, 0.0, 0.0, 0.07...   (19510, 387)  tfidf  \n",
       "14  [[0.0, 0.0, 0.1417855219618147, 0.219460906236...    (19510, 95)  tfidf  \n",
       "15  [[0.0, 0.0, 0.8235183789774303, 0.0, 0.5672895...    (19510, 35)  tfidf  \n",
       "16  [[0.0, 1.0, 0.0, 0.0, 0.0, 0.0, 0.0, 0.0, 0.0,...    (19510, 16)  tfidf  \n",
       "17  [[0.0, 0.0, 0.0, 0.0, 0.0, 0.0, 0.0, 0.0, 4930...    (19510, 12)  tfidf  "
      ]
     },
     "execution_count": 44,
     "metadata": {},
     "output_type": "execute_result"
    }
   ],
   "source": [
    "feature_set"
   ]
  },
  {
   "cell_type": "markdown",
   "metadata": {},
   "source": [
    "We have created 18 total word vector representations of our training data. Notice how as our df range shrinks the number of features in the representation decreases. When we cut out unigrams that appear in less than 5% and more than 95% of the documents, we are left with 1261 features (1256 different words, since 5 of the features we engineered previously). When we cut out unigrams that appear in less than 20% and more than 80% of the documents, we only have 65 features. Lets take a look at some of the feature names (they should be the same features for bag of words vs tfidf as long as the other parameters are the same, since all that changes between BoW and TFIDF is the weighting of the features):"
   ]
  },
  {
   "cell_type": "markdown",
   "metadata": {},
   "source": [
    "### Model Selection"
   ]
  },
  {
   "cell_type": "markdown",
   "metadata": {},
   "source": [
    "We will use the logistic regression classification algorithm to fit our model. Logistic regression is an efficient choice that also provides interpretable results in the form of coefficients for each feature. The features with the most positive coefficients means their appearance in an instance increases the likelihood that that instance is 'unreliable' news.\n",
    "\n",
    "Again, we will not be trying out various models and altering model parameters (unless we see some really strange results) because our main priority is to see what kind of feature representations perform best. We also want to be interpret the impact different features have on the results. "
   ]
  },
  {
   "cell_type": "code",
   "execution_count": 45,
   "metadata": {},
   "outputs": [],
   "source": [
    "from sklearn.linear_model import LogisticRegression\n",
    "from sklearn.model_selection import cross_val_score\n",
    "from sklearn import metrics\n",
    "from sklearn.model_selection import cross_validate"
   ]
  },
  {
   "cell_type": "code",
   "execution_count": 46,
   "metadata": {},
   "outputs": [],
   "source": [
    "log_reg = LogisticRegression(C=1.0, solver = 'liblinear')"
   ]
  },
  {
   "cell_type": "markdown",
   "metadata": {},
   "source": [
    "### Metrics & Evaluation\n",
    "\n",
    "We will be using precision regarding the \"unreliable\" class as our metric. The reasoning for this is that we are only interested in spotting \"fake\" news. We would want the results of this project to lead to a method that can accurately flag articles from social media platforms that are \"fake,\" so that they can be brought to the attention of a moderator or outright removed assuming the model performs well. Precision thus makes sense because if we identify an article as fake, we want to be as sure as possible that it is fake. Additionally, we know that it would be impossible to identify all fake news articles in existence as fake, and doing so while also identifying tons of real news as fake would not be useful, so a metric like recall would not make sense. \n",
    "\n",
    "Ultimately, we want to pick away at the number of fake news articles in circulation, slowly improving our methodology to catch more and more. From the get go, even if we do not identify a lot of fake news articles, the ones that we do identify to be fake, we want to be sure they are fake. We will be adjusting the prediction probability threshold to see how high we can get our precision (default is >50%). Getting a prediction probability of say 55% unreliable is not ideal, since even though such an instance is more likely to be unreliable than reliable, we are not certain enough to outright flag it or remove it (although we will see how our model performs using this threshold). Theoretically if we set a threshold of %99.9, we should have near perfect accuracy, although we will not capture that many unreliable news articles. \n",
    "\n",
    "We will first test our results using 20-Fold Cross Validation, and then we will test it on the second data set to see if our results are generalizable. "
   ]
  },
  {
   "cell_type": "code",
   "execution_count": 47,
   "metadata": {},
   "outputs": [],
   "source": [
    "##perform 20-Fold CV on each of our 18-feature representations.\n",
    "\n",
    "feature_set['20CV_Precision'] = [cross_val_score(log_reg, \n",
    "                                  features, \n",
    "                                  train_y, \n",
    "                                  scoring='precision', \n",
    "                                  cv=20).mean() for features in feature_set.features]"
   ]
  },
  {
   "cell_type": "code",
   "execution_count": 48,
   "metadata": {},
   "outputs": [
    {
     "data": {
      "text/html": [
       "<div>\n",
       "<style scoped>\n",
       "    .dataframe tbody tr th:only-of-type {\n",
       "        vertical-align: middle;\n",
       "    }\n",
       "\n",
       "    .dataframe tbody tr th {\n",
       "        vertical-align: top;\n",
       "    }\n",
       "\n",
       "    .dataframe thead th {\n",
       "        text-align: right;\n",
       "    }\n",
       "</style>\n",
       "<table border=\"1\" class=\"dataframe\">\n",
       "  <thead>\n",
       "    <tr style=\"text-align: right;\">\n",
       "      <th></th>\n",
       "      <th>grams</th>\n",
       "      <th>dfs</th>\n",
       "      <th>shape</th>\n",
       "      <th>type</th>\n",
       "      <th>20CV_Precision</th>\n",
       "    </tr>\n",
       "  </thead>\n",
       "  <tbody>\n",
       "    <tr>\n",
       "      <th>0</th>\n",
       "      <td>1-1</td>\n",
       "      <td>[0.05, 0.95]</td>\n",
       "      <td>(19510, 1042)</td>\n",
       "      <td>count</td>\n",
       "      <td>0.952268</td>\n",
       "    </tr>\n",
       "    <tr>\n",
       "      <th>1</th>\n",
       "      <td>1-1</td>\n",
       "      <td>[0.1, 0.9]</td>\n",
       "      <td>(19510, 376)</td>\n",
       "      <td>count</td>\n",
       "      <td>0.932041</td>\n",
       "    </tr>\n",
       "    <tr>\n",
       "      <th>2</th>\n",
       "      <td>1-1</td>\n",
       "      <td>[0.2, 0.8]</td>\n",
       "      <td>(19510, 88)</td>\n",
       "      <td>count</td>\n",
       "      <td>0.879452</td>\n",
       "    </tr>\n",
       "    <tr>\n",
       "      <th>3</th>\n",
       "      <td>1-2</td>\n",
       "      <td>[0.05, 0.95]</td>\n",
       "      <td>(19510, 1072)</td>\n",
       "      <td>count</td>\n",
       "      <td>0.959297</td>\n",
       "    </tr>\n",
       "    <tr>\n",
       "      <th>4</th>\n",
       "      <td>1-2</td>\n",
       "      <td>[0.1, 0.9]</td>\n",
       "      <td>(19510, 387)</td>\n",
       "      <td>count</td>\n",
       "      <td>0.933617</td>\n",
       "    </tr>\n",
       "    <tr>\n",
       "      <th>5</th>\n",
       "      <td>1-2</td>\n",
       "      <td>[0.2, 0.8]</td>\n",
       "      <td>(19510, 95)</td>\n",
       "      <td>count</td>\n",
       "      <td>0.879982</td>\n",
       "    </tr>\n",
       "    <tr>\n",
       "      <th>6</th>\n",
       "      <td>2-2</td>\n",
       "      <td>[0.05, 0.95]</td>\n",
       "      <td>(19510, 35)</td>\n",
       "      <td>count</td>\n",
       "      <td>0.892798</td>\n",
       "    </tr>\n",
       "    <tr>\n",
       "      <th>7</th>\n",
       "      <td>2-2</td>\n",
       "      <td>[0.1, 0.9]</td>\n",
       "      <td>(19510, 16)</td>\n",
       "      <td>count</td>\n",
       "      <td>0.834724</td>\n",
       "    </tr>\n",
       "    <tr>\n",
       "      <th>8</th>\n",
       "      <td>2-2</td>\n",
       "      <td>[0.2, 0.8]</td>\n",
       "      <td>(19510, 12)</td>\n",
       "      <td>count</td>\n",
       "      <td>0.686247</td>\n",
       "    </tr>\n",
       "    <tr>\n",
       "      <th>9</th>\n",
       "      <td>1-1</td>\n",
       "      <td>[0.05, 0.95]</td>\n",
       "      <td>(19510, 1042)</td>\n",
       "      <td>tfidf</td>\n",
       "      <td>0.914366</td>\n",
       "    </tr>\n",
       "    <tr>\n",
       "      <th>10</th>\n",
       "      <td>1-1</td>\n",
       "      <td>[0.1, 0.9]</td>\n",
       "      <td>(19510, 376)</td>\n",
       "      <td>tfidf</td>\n",
       "      <td>0.897354</td>\n",
       "    </tr>\n",
       "    <tr>\n",
       "      <th>11</th>\n",
       "      <td>1-1</td>\n",
       "      <td>[0.2, 0.8]</td>\n",
       "      <td>(19510, 88)</td>\n",
       "      <td>tfidf</td>\n",
       "      <td>0.877577</td>\n",
       "    </tr>\n",
       "    <tr>\n",
       "      <th>12</th>\n",
       "      <td>1-2</td>\n",
       "      <td>[0.05, 0.95]</td>\n",
       "      <td>(19510, 1072)</td>\n",
       "      <td>tfidf</td>\n",
       "      <td>0.936254</td>\n",
       "    </tr>\n",
       "    <tr>\n",
       "      <th>13</th>\n",
       "      <td>1-2</td>\n",
       "      <td>[0.1, 0.9]</td>\n",
       "      <td>(19510, 387)</td>\n",
       "      <td>tfidf</td>\n",
       "      <td>0.909668</td>\n",
       "    </tr>\n",
       "    <tr>\n",
       "      <th>14</th>\n",
       "      <td>1-2</td>\n",
       "      <td>[0.2, 0.8]</td>\n",
       "      <td>(19510, 95)</td>\n",
       "      <td>tfidf</td>\n",
       "      <td>0.883565</td>\n",
       "    </tr>\n",
       "    <tr>\n",
       "      <th>15</th>\n",
       "      <td>2-2</td>\n",
       "      <td>[0.05, 0.95]</td>\n",
       "      <td>(19510, 35)</td>\n",
       "      <td>tfidf</td>\n",
       "      <td>0.889176</td>\n",
       "    </tr>\n",
       "    <tr>\n",
       "      <th>16</th>\n",
       "      <td>2-2</td>\n",
       "      <td>[0.1, 0.9]</td>\n",
       "      <td>(19510, 16)</td>\n",
       "      <td>tfidf</td>\n",
       "      <td>0.840921</td>\n",
       "    </tr>\n",
       "    <tr>\n",
       "      <th>17</th>\n",
       "      <td>2-2</td>\n",
       "      <td>[0.2, 0.8]</td>\n",
       "      <td>(19510, 12)</td>\n",
       "      <td>tfidf</td>\n",
       "      <td>0.716192</td>\n",
       "    </tr>\n",
       "  </tbody>\n",
       "</table>\n",
       "</div>"
      ],
      "text/plain": [
       "   grams           dfs          shape   type  20CV_Precision\n",
       "0    1-1  [0.05, 0.95]  (19510, 1042)  count        0.952268\n",
       "1    1-1    [0.1, 0.9]   (19510, 376)  count        0.932041\n",
       "2    1-1    [0.2, 0.8]    (19510, 88)  count        0.879452\n",
       "3    1-2  [0.05, 0.95]  (19510, 1072)  count        0.959297\n",
       "4    1-2    [0.1, 0.9]   (19510, 387)  count        0.933617\n",
       "5    1-2    [0.2, 0.8]    (19510, 95)  count        0.879982\n",
       "6    2-2  [0.05, 0.95]    (19510, 35)  count        0.892798\n",
       "7    2-2    [0.1, 0.9]    (19510, 16)  count        0.834724\n",
       "8    2-2    [0.2, 0.8]    (19510, 12)  count        0.686247\n",
       "9    1-1  [0.05, 0.95]  (19510, 1042)  tfidf        0.914366\n",
       "10   1-1    [0.1, 0.9]   (19510, 376)  tfidf        0.897354\n",
       "11   1-1    [0.2, 0.8]    (19510, 88)  tfidf        0.877577\n",
       "12   1-2  [0.05, 0.95]  (19510, 1072)  tfidf        0.936254\n",
       "13   1-2    [0.1, 0.9]   (19510, 387)  tfidf        0.909668\n",
       "14   1-2    [0.2, 0.8]    (19510, 95)  tfidf        0.883565\n",
       "15   2-2  [0.05, 0.95]    (19510, 35)  tfidf        0.889176\n",
       "16   2-2    [0.1, 0.9]    (19510, 16)  tfidf        0.840921\n",
       "17   2-2    [0.2, 0.8]    (19510, 12)  tfidf        0.716192"
      ]
     },
     "execution_count": 48,
     "metadata": {},
     "output_type": "execute_result"
    }
   ],
   "source": [
    "feature_set[['grams','dfs','shape','type','20CV_Precision']]"
   ]
  },
  {
   "cell_type": "code",
   "execution_count": 49,
   "metadata": {},
   "outputs": [
    {
     "data": {
      "text/plain": [
       "Text(0.5, 1.0, 'Precision vs. Number of Features')"
      ]
     },
     "execution_count": 49,
     "metadata": {},
     "output_type": "execute_result"
    },
    {
     "data": {
      "image/png": "[encoded data removed]",
      "text/plain": [
       "<Figure size 432x288 with 1 Axes>"
      ]
     },
     "metadata": {
      "needs_background": "light"
     },
     "output_type": "display_data"
    }
   ],
   "source": [
    "import matplotlib.pyplot as plt\n",
    "import matplotlib.pylab as lab\n",
    "\n",
    "feature_set['num_features'] = [shape[1] for shape in feature_set['shape']]\n",
    "\n",
    "plt.plot(feature_set.num_features[feature_set['type'] == \"count\"], \n",
    "         feature_set['20CV_Precision'][feature_set['type'] == \"count\"], \n",
    "         'ro',\n",
    "         feature_set.num_features[feature_set['type'] == \"tfidf\"], \n",
    "         feature_set['20CV_Precision'][feature_set['type'] == \"tfidf\"],\n",
    "         'bs')\n",
    "\n",
    "\n",
    "plt.legend(['Bag of Words', 'TfIDF'])\n",
    "plt.xlabel('# of Features')\n",
    "plt.ylabel('Precision')\n",
    "plt.title('Precision vs. Number of Features')"
   ]
  },
  {
   "cell_type": "markdown",
   "metadata": {},
   "source": [
    "It appears that the count feature representation performs better than the corresponding tfidf representation when using more features. With fewer features however, TfIDF performs just around as well as the bag of words representation. \n",
    "\n",
    "Our best results were the unigram + bigram representation with words that appeared in more than 5% of the documents and less than 95% of the documents (0.959 Precision). These results are promising, however, good performance using cross-validation is not valuable if the model does not perform as well on new data. "
   ]
  },
  {
   "cell_type": "markdown",
   "metadata": {},
   "source": [
    "First, we must transform our test data into our 18 feature representations:"
   ]
  },
  {
   "cell_type": "code",
   "execution_count": 50,
   "metadata": {},
   "outputs": [],
   "source": [
    "test_features, test_sizes = wv.test_feature_maker(test_text, feature_set.vectorizers, test_urlcount, test_lengths, test_readability, test_polarity, test_subjectivity)"
   ]
  },
  {
   "cell_type": "code",
   "execution_count": 51,
   "metadata": {},
   "outputs": [
    {
     "data": {
      "text/html": [
       "<div>\n",
       "<style scoped>\n",
       "    .dataframe tbody tr th:only-of-type {\n",
       "        vertical-align: middle;\n",
       "    }\n",
       "\n",
       "    .dataframe tbody tr th {\n",
       "        vertical-align: top;\n",
       "    }\n",
       "\n",
       "    .dataframe thead th {\n",
       "        text-align: right;\n",
       "    }\n",
       "</style>\n",
       "<table border=\"1\" class=\"dataframe\">\n",
       "  <thead>\n",
       "    <tr style=\"text-align: right;\">\n",
       "      <th></th>\n",
       "      <th>test_features</th>\n",
       "      <th>test_vectorizers</th>\n",
       "      <th>test_shape</th>\n",
       "    </tr>\n",
       "  </thead>\n",
       "  <tbody>\n",
       "    <tr>\n",
       "      <th>0</th>\n",
       "      <td>[[0.0, 0.0, 0.0, 0.0, 0.0, 0.0, 0.0, 0.0, 0.0,...</td>\n",
       "      <td>CountVectorizer(analyzer='word', binary=False,...</td>\n",
       "      <td>(6011, 1042)</td>\n",
       "    </tr>\n",
       "    <tr>\n",
       "      <th>1</th>\n",
       "      <td>[[0.0, 0.0, 0.0, 0.0, 0.0, 0.0, 0.0, 0.0, 0.0,...</td>\n",
       "      <td>CountVectorizer(analyzer='word', binary=False,...</td>\n",
       "      <td>(6011, 376)</td>\n",
       "    </tr>\n",
       "    <tr>\n",
       "      <th>2</th>\n",
       "      <td>[[0.0, 0.0, 0.0, 0.0, 0.0, 0.0, 0.0, 0.0, 6.0,...</td>\n",
       "      <td>CountVectorizer(analyzer='word', binary=False,...</td>\n",
       "      <td>(6011, 88)</td>\n",
       "    </tr>\n",
       "    <tr>\n",
       "      <th>3</th>\n",
       "      <td>[[0.0, 0.0, 0.0, 0.0, 0.0, 0.0, 0.0, 0.0, 0.0,...</td>\n",
       "      <td>CountVectorizer(analyzer='word', binary=False,...</td>\n",
       "      <td>(6011, 1072)</td>\n",
       "    </tr>\n",
       "    <tr>\n",
       "      <th>4</th>\n",
       "      <td>[[0.0, 0.0, 0.0, 0.0, 0.0, 0.0, 0.0, 0.0, 0.0,...</td>\n",
       "      <td>CountVectorizer(analyzer='word', binary=False,...</td>\n",
       "      <td>(6011, 387)</td>\n",
       "    </tr>\n",
       "    <tr>\n",
       "      <th>5</th>\n",
       "      <td>[[0.0, 0.0, 0.0, 0.0, 0.0, 0.0, 0.0, 0.0, 6.0,...</td>\n",
       "      <td>CountVectorizer(analyzer='word', binary=False,...</td>\n",
       "      <td>(6011, 95)</td>\n",
       "    </tr>\n",
       "    <tr>\n",
       "      <th>6</th>\n",
       "      <td>[[0.0, 0.0, 0.0, 0.0, 8.0, 0.0, 0.0, 0.0, 2.0,...</td>\n",
       "      <td>CountVectorizer(analyzer='word', binary=False,...</td>\n",
       "      <td>(6011, 35)</td>\n",
       "    </tr>\n",
       "    <tr>\n",
       "      <th>7</th>\n",
       "      <td>[[0.0, 8.0, 0.0, 2.0, 0.0, 0.0, 0.0, 0.0, 0.0,...</td>\n",
       "      <td>CountVectorizer(analyzer='word', binary=False,...</td>\n",
       "      <td>(6011, 16)</td>\n",
       "    </tr>\n",
       "    <tr>\n",
       "      <th>8</th>\n",
       "      <td>[[0.0, 2.0, 0.0, 0.0, 0.0, 0.0, 0.0, 0.0, 7518...</td>\n",
       "      <td>CountVectorizer(analyzer='word', binary=False,...</td>\n",
       "      <td>(6011, 12)</td>\n",
       "    </tr>\n",
       "    <tr>\n",
       "      <th>9</th>\n",
       "      <td>[[0.0, 0.0, 0.0, 0.0, 0.0, 0.0, 0.0, 0.0, 0.0,...</td>\n",
       "      <td>TfidfVectorizer(analyzer='word', binary=False,...</td>\n",
       "      <td>(6011, 1042)</td>\n",
       "    </tr>\n",
       "    <tr>\n",
       "      <th>10</th>\n",
       "      <td>[[0.0, 0.0, 0.0, 0.0, 0.0, 0.0, 0.0, 0.0, 0.0,...</td>\n",
       "      <td>TfidfVectorizer(analyzer='word', binary=False,...</td>\n",
       "      <td>(6011, 376)</td>\n",
       "    </tr>\n",
       "    <tr>\n",
       "      <th>11</th>\n",
       "      <td>[[0.0, 0.0, 0.0, 0.0, 0.0, 0.0, 0.0, 0.0, 0.21...</td>\n",
       "      <td>TfidfVectorizer(analyzer='word', binary=False,...</td>\n",
       "      <td>(6011, 88)</td>\n",
       "    </tr>\n",
       "    <tr>\n",
       "      <th>12</th>\n",
       "      <td>[[0.0, 0.0, 0.0, 0.0, 0.0, 0.0, 0.0, 0.0, 0.0,...</td>\n",
       "      <td>TfidfVectorizer(analyzer='word', binary=False,...</td>\n",
       "      <td>(6011, 1072)</td>\n",
       "    </tr>\n",
       "    <tr>\n",
       "      <th>13</th>\n",
       "      <td>[[0.0, 0.0, 0.0, 0.0, 0.0, 0.0, 0.0, 0.0, 0.0,...</td>\n",
       "      <td>TfidfVectorizer(analyzer='word', binary=False,...</td>\n",
       "      <td>(6011, 387)</td>\n",
       "    </tr>\n",
       "    <tr>\n",
       "      <th>14</th>\n",
       "      <td>[[0.0, 0.0, 0.0, 0.0, 0.0, 0.0, 0.0, 0.0, 0.21...</td>\n",
       "      <td>TfidfVectorizer(analyzer='word', binary=False,...</td>\n",
       "      <td>(6011, 95)</td>\n",
       "    </tr>\n",
       "    <tr>\n",
       "      <th>15</th>\n",
       "      <td>[[0.0, 0.0, 0.0, 0.0, 0.9603502727027101, 0.0,...</td>\n",
       "      <td>TfidfVectorizer(analyzer='word', binary=False,...</td>\n",
       "      <td>(6011, 35)</td>\n",
       "    </tr>\n",
       "    <tr>\n",
       "      <th>16</th>\n",
       "      <td>[[0.0, 0.9720522305344543, 0.0, 0.234764693071...</td>\n",
       "      <td>TfidfVectorizer(analyzer='word', binary=False,...</td>\n",
       "      <td>(6011, 16)</td>\n",
       "    </tr>\n",
       "    <tr>\n",
       "      <th>17</th>\n",
       "      <td>[[0.0, 1.0, 0.0, 0.0, 0.0, 0.0, 0.0, 0.0, 7518...</td>\n",
       "      <td>TfidfVectorizer(analyzer='word', binary=False,...</td>\n",
       "      <td>(6011, 12)</td>\n",
       "    </tr>\n",
       "  </tbody>\n",
       "</table>\n",
       "</div>"
      ],
      "text/plain": [
       "                                        test_features  \\\n",
       "0   [[0.0, 0.0, 0.0, 0.0, 0.0, 0.0, 0.0, 0.0, 0.0,...   \n",
       "1   [[0.0, 0.0, 0.0, 0.0, 0.0, 0.0, 0.0, 0.0, 0.0,...   \n",
       "2   [[0.0, 0.0, 0.0, 0.0, 0.0, 0.0, 0.0, 0.0, 6.0,...   \n",
       "3   [[0.0, 0.0, 0.0, 0.0, 0.0, 0.0, 0.0, 0.0, 0.0,...   \n",
       "4   [[0.0, 0.0, 0.0, 0.0, 0.0, 0.0, 0.0, 0.0, 0.0,...   \n",
       "5   [[0.0, 0.0, 0.0, 0.0, 0.0, 0.0, 0.0, 0.0, 6.0,...   \n",
       "6   [[0.0, 0.0, 0.0, 0.0, 8.0, 0.0, 0.0, 0.0, 2.0,...   \n",
       "7   [[0.0, 8.0, 0.0, 2.0, 0.0, 0.0, 0.0, 0.0, 0.0,...   \n",
       "8   [[0.0, 2.0, 0.0, 0.0, 0.0, 0.0, 0.0, 0.0, 7518...   \n",
       "9   [[0.0, 0.0, 0.0, 0.0, 0.0, 0.0, 0.0, 0.0, 0.0,...   \n",
       "10  [[0.0, 0.0, 0.0, 0.0, 0.0, 0.0, 0.0, 0.0, 0.0,...   \n",
       "11  [[0.0, 0.0, 0.0, 0.0, 0.0, 0.0, 0.0, 0.0, 0.21...   \n",
       "12  [[0.0, 0.0, 0.0, 0.0, 0.0, 0.0, 0.0, 0.0, 0.0,...   \n",
       "13  [[0.0, 0.0, 0.0, 0.0, 0.0, 0.0, 0.0, 0.0, 0.0,...   \n",
       "14  [[0.0, 0.0, 0.0, 0.0, 0.0, 0.0, 0.0, 0.0, 0.21...   \n",
       "15  [[0.0, 0.0, 0.0, 0.0, 0.9603502727027101, 0.0,...   \n",
       "16  [[0.0, 0.9720522305344543, 0.0, 0.234764693071...   \n",
       "17  [[0.0, 1.0, 0.0, 0.0, 0.0, 0.0, 0.0, 0.0, 7518...   \n",
       "\n",
       "                                     test_vectorizers    test_shape  \n",
       "0   CountVectorizer(analyzer='word', binary=False,...  (6011, 1042)  \n",
       "1   CountVectorizer(analyzer='word', binary=False,...   (6011, 376)  \n",
       "2   CountVectorizer(analyzer='word', binary=False,...    (6011, 88)  \n",
       "3   CountVectorizer(analyzer='word', binary=False,...  (6011, 1072)  \n",
       "4   CountVectorizer(analyzer='word', binary=False,...   (6011, 387)  \n",
       "5   CountVectorizer(analyzer='word', binary=False,...    (6011, 95)  \n",
       "6   CountVectorizer(analyzer='word', binary=False,...    (6011, 35)  \n",
       "7   CountVectorizer(analyzer='word', binary=False,...    (6011, 16)  \n",
       "8   CountVectorizer(analyzer='word', binary=False,...    (6011, 12)  \n",
       "9   TfidfVectorizer(analyzer='word', binary=False,...  (6011, 1042)  \n",
       "10  TfidfVectorizer(analyzer='word', binary=False,...   (6011, 376)  \n",
       "11  TfidfVectorizer(analyzer='word', binary=False,...    (6011, 88)  \n",
       "12  TfidfVectorizer(analyzer='word', binary=False,...  (6011, 1072)  \n",
       "13  TfidfVectorizer(analyzer='word', binary=False,...   (6011, 387)  \n",
       "14  TfidfVectorizer(analyzer='word', binary=False,...    (6011, 95)  \n",
       "15  TfidfVectorizer(analyzer='word', binary=False,...    (6011, 35)  \n",
       "16  TfidfVectorizer(analyzer='word', binary=False,...    (6011, 16)  \n",
       "17  TfidfVectorizer(analyzer='word', binary=False,...    (6011, 12)  "
      ]
     },
     "execution_count": 51,
     "metadata": {},
     "output_type": "execute_result"
    }
   ],
   "source": [
    "test_results = pd.DataFrame({'test_features': test_features,\n",
    "                             'test_vectorizers': feature_set.vectorizers,\n",
    "                             'test_shape': test_sizes})\n",
    "\n",
    "test_results"
   ]
  },
  {
   "cell_type": "markdown",
   "metadata": {},
   "source": [
    "Next, we will fit our 18 logistic regression models and make predictions on the test set, seeing which one has the best precision. We will check results with a 50% threshold, 90% threshold, 99% threshold, 99.9% threshold, and a 99.99% threshold."
   ]
  },
  {
   "cell_type": "code",
   "execution_count": 53,
   "metadata": {
    "scrolled": true
   },
   "outputs": [],
   "source": [
    "import evaluation as ev ##import my evaluator function"
   ]
  },
  {
   "cell_type": "code",
   "execution_count": 66,
   "metadata": {},
   "outputs": [],
   "source": [
    "predictions_50per, prediction_probs_50per, precision_50per = ev.evaluator(feature_set.features,\n",
    "                                                                          test_results.test_features,\n",
    "                                                                          train_y,\n",
    "                                                                          test_y,\n",
    "                                                                          log_reg,\n",
    "                                                                          .5)"
   ]
  },
  {
   "cell_type": "code",
   "execution_count": 86,
   "metadata": {},
   "outputs": [],
   "source": [
    "predictions_90per, prediction_probs_90per, precision_90per = ev.evaluator(feature_set.features, test_results.test_features, train_y, test_y, log_reg, .9)"
   ]
  },
  {
   "cell_type": "code",
   "execution_count": 87,
   "metadata": {},
   "outputs": [],
   "source": [
    "predictions_99per, prediction_probs_99per, precision_99per = ev.evaluator(feature_set.features, test_results.test_features, train_y, test_y, log_reg, .99)"
   ]
  },
  {
   "cell_type": "code",
   "execution_count": 88,
   "metadata": {},
   "outputs": [],
   "source": [
    "predictions_999per, prediction_probs_999per, precision_999per = ev.evaluator(feature_set.features, test_results.test_features, train_y, test_y, log_reg, .999)"
   ]
  },
  {
   "cell_type": "code",
   "execution_count": 89,
   "metadata": {},
   "outputs": [],
   "source": [
    "predictions_9999per, prediction_probs_9999per, precision_9999per = ev.evaluator(feature_set.features, test_results.test_features, train_y, test_y, log_reg, .9999)"
   ]
  },
  {
   "cell_type": "code",
   "execution_count": 90,
   "metadata": {},
   "outputs": [
    {
     "name": "stdout",
     "output_type": "stream",
     "text": [
      "    pred_pos  true_pos  precision\n",
      "0        957       819   0.855799\n",
      "1        524       451   0.860687\n",
      "2        261       222   0.850575\n",
      "3        909       780   0.858086\n",
      "4        710       586   0.825352\n",
      "5        261       223   0.854406\n",
      "6         65        58   0.892308\n",
      "7         58        56   0.965517\n",
      "8         41        40   0.975610\n",
      "9         81        79   0.975309\n",
      "10        87        85   0.977011\n",
      "11        89        87   0.977528\n",
      "12       110       108   0.981818\n",
      "13        53        51   0.962264\n",
      "14       115       113   0.982609\n",
      "15        40        39   0.975000\n",
      "16        35        34   0.971429\n",
      "17        38        37   0.973684\n"
     ]
    }
   ],
   "source": [
    "print(precision_9999per) #check how our final precision output looks"
   ]
  },
  {
   "cell_type": "code",
   "execution_count": 108,
   "metadata": {},
   "outputs": [],
   "source": [
    "#build a final dataset containing feature set representations, attributes, and results\n",
    "\n",
    "final_set = feature_set[['grams','dfs','type','num_features','20CV_Precision']].copy()\n",
    "final_set['50_percent_threshold'] = precision_50per['precision']\n",
    "final_set['50_percent_#predicted'] = precision_50per['pred_pos']\n",
    "final_set['90_percent_threshold'] = precision_90per['precision']\n",
    "final_set['90_percent_#predicted'] = precision_90per['pred_pos']\n",
    "final_set['99_percent_threshold'] = precision_99per['precision']\n",
    "final_set['99_percent_#predicted'] = precision_99per['pred_pos']\n",
    "final_set['999_percent_threshold'] = precision_999per['precision']\n",
    "final_set['999_percent_#predicted'] = precision_999per['pred_pos']\n",
    "final_set['9999_percent_threshold'] = precision_9999per['precision']\n",
    "final_set['9999_percent_#predicted'] = precision_9999per['pred_pos']"
   ]
  },
  {
   "cell_type": "markdown",
   "metadata": {},
   "source": [
    "First lets take a look at our results using the 50% threshold:"
   ]
  },
  {
   "cell_type": "code",
   "execution_count": 104,
   "metadata": {},
   "outputs": [
    {
     "data": {
      "text/html": [
       "<div>\n",
       "<style scoped>\n",
       "    .dataframe tbody tr th:only-of-type {\n",
       "        vertical-align: middle;\n",
       "    }\n",
       "\n",
       "    .dataframe tbody tr th {\n",
       "        vertical-align: top;\n",
       "    }\n",
       "\n",
       "    .dataframe thead th {\n",
       "        text-align: right;\n",
       "    }\n",
       "</style>\n",
       "<table border=\"1\" class=\"dataframe\">\n",
       "  <thead>\n",
       "    <tr style=\"text-align: right;\">\n",
       "      <th></th>\n",
       "      <th>grams</th>\n",
       "      <th>dfs</th>\n",
       "      <th>num_features</th>\n",
       "      <th>type</th>\n",
       "      <th>50_percent_threshold</th>\n",
       "    </tr>\n",
       "  </thead>\n",
       "  <tbody>\n",
       "    <tr>\n",
       "      <th>0</th>\n",
       "      <td>1-1</td>\n",
       "      <td>[0.05, 0.95]</td>\n",
       "      <td>1042</td>\n",
       "      <td>count</td>\n",
       "      <td>0.619117</td>\n",
       "    </tr>\n",
       "    <tr>\n",
       "      <th>1</th>\n",
       "      <td>1-1</td>\n",
       "      <td>[0.1, 0.9]</td>\n",
       "      <td>376</td>\n",
       "      <td>count</td>\n",
       "      <td>0.604925</td>\n",
       "    </tr>\n",
       "    <tr>\n",
       "      <th>2</th>\n",
       "      <td>1-1</td>\n",
       "      <td>[0.2, 0.8]</td>\n",
       "      <td>88</td>\n",
       "      <td>count</td>\n",
       "      <td>0.590199</td>\n",
       "    </tr>\n",
       "    <tr>\n",
       "      <th>3</th>\n",
       "      <td>1-2</td>\n",
       "      <td>[0.05, 0.95]</td>\n",
       "      <td>1072</td>\n",
       "      <td>count</td>\n",
       "      <td>0.605974</td>\n",
       "    </tr>\n",
       "    <tr>\n",
       "      <th>4</th>\n",
       "      <td>1-2</td>\n",
       "      <td>[0.1, 0.9]</td>\n",
       "      <td>387</td>\n",
       "      <td>count</td>\n",
       "      <td>0.597636</td>\n",
       "    </tr>\n",
       "    <tr>\n",
       "      <th>5</th>\n",
       "      <td>1-2</td>\n",
       "      <td>[0.2, 0.8]</td>\n",
       "      <td>95</td>\n",
       "      <td>count</td>\n",
       "      <td>0.586279</td>\n",
       "    </tr>\n",
       "    <tr>\n",
       "      <th>6</th>\n",
       "      <td>2-2</td>\n",
       "      <td>[0.05, 0.95]</td>\n",
       "      <td>35</td>\n",
       "      <td>count</td>\n",
       "      <td>0.506342</td>\n",
       "    </tr>\n",
       "    <tr>\n",
       "      <th>7</th>\n",
       "      <td>2-2</td>\n",
       "      <td>[0.1, 0.9]</td>\n",
       "      <td>16</td>\n",
       "      <td>count</td>\n",
       "      <td>0.505910</td>\n",
       "    </tr>\n",
       "    <tr>\n",
       "      <th>8</th>\n",
       "      <td>2-2</td>\n",
       "      <td>[0.2, 0.8]</td>\n",
       "      <td>12</td>\n",
       "      <td>count</td>\n",
       "      <td>0.502045</td>\n",
       "    </tr>\n",
       "    <tr>\n",
       "      <th>9</th>\n",
       "      <td>1-1</td>\n",
       "      <td>[0.05, 0.95]</td>\n",
       "      <td>1042</td>\n",
       "      <td>tfidf</td>\n",
       "      <td>0.651701</td>\n",
       "    </tr>\n",
       "    <tr>\n",
       "      <th>10</th>\n",
       "      <td>1-1</td>\n",
       "      <td>[0.1, 0.9]</td>\n",
       "      <td>376</td>\n",
       "      <td>tfidf</td>\n",
       "      <td>0.642093</td>\n",
       "    </tr>\n",
       "    <tr>\n",
       "      <th>11</th>\n",
       "      <td>1-1</td>\n",
       "      <td>[0.2, 0.8]</td>\n",
       "      <td>88</td>\n",
       "      <td>tfidf</td>\n",
       "      <td>0.603820</td>\n",
       "    </tr>\n",
       "    <tr>\n",
       "      <th>12</th>\n",
       "      <td>1-2</td>\n",
       "      <td>[0.05, 0.95]</td>\n",
       "      <td>1072</td>\n",
       "      <td>tfidf</td>\n",
       "      <td>0.628429</td>\n",
       "    </tr>\n",
       "    <tr>\n",
       "      <th>13</th>\n",
       "      <td>1-2</td>\n",
       "      <td>[0.1, 0.9]</td>\n",
       "      <td>387</td>\n",
       "      <td>tfidf</td>\n",
       "      <td>0.625564</td>\n",
       "    </tr>\n",
       "    <tr>\n",
       "      <th>14</th>\n",
       "      <td>1-2</td>\n",
       "      <td>[0.2, 0.8]</td>\n",
       "      <td>95</td>\n",
       "      <td>tfidf</td>\n",
       "      <td>0.613150</td>\n",
       "    </tr>\n",
       "    <tr>\n",
       "      <th>15</th>\n",
       "      <td>2-2</td>\n",
       "      <td>[0.05, 0.95]</td>\n",
       "      <td>35</td>\n",
       "      <td>tfidf</td>\n",
       "      <td>0.507409</td>\n",
       "    </tr>\n",
       "    <tr>\n",
       "      <th>16</th>\n",
       "      <td>2-2</td>\n",
       "      <td>[0.1, 0.9]</td>\n",
       "      <td>16</td>\n",
       "      <td>tfidf</td>\n",
       "      <td>0.514510</td>\n",
       "    </tr>\n",
       "    <tr>\n",
       "      <th>17</th>\n",
       "      <td>2-2</td>\n",
       "      <td>[0.2, 0.8]</td>\n",
       "      <td>12</td>\n",
       "      <td>tfidf</td>\n",
       "      <td>0.499112</td>\n",
       "    </tr>\n",
       "  </tbody>\n",
       "</table>\n",
       "</div>"
      ],
      "text/plain": [
       "   grams           dfs  num_features   type  50_percent_threshold\n",
       "0    1-1  [0.05, 0.95]          1042  count              0.619117\n",
       "1    1-1    [0.1, 0.9]           376  count              0.604925\n",
       "2    1-1    [0.2, 0.8]            88  count              0.590199\n",
       "3    1-2  [0.05, 0.95]          1072  count              0.605974\n",
       "4    1-2    [0.1, 0.9]           387  count              0.597636\n",
       "5    1-2    [0.2, 0.8]            95  count              0.586279\n",
       "6    2-2  [0.05, 0.95]            35  count              0.506342\n",
       "7    2-2    [0.1, 0.9]            16  count              0.505910\n",
       "8    2-2    [0.2, 0.8]            12  count              0.502045\n",
       "9    1-1  [0.05, 0.95]          1042  tfidf              0.651701\n",
       "10   1-1    [0.1, 0.9]           376  tfidf              0.642093\n",
       "11   1-1    [0.2, 0.8]            88  tfidf              0.603820\n",
       "12   1-2  [0.05, 0.95]          1072  tfidf              0.628429\n",
       "13   1-2    [0.1, 0.9]           387  tfidf              0.625564\n",
       "14   1-2    [0.2, 0.8]            95  tfidf              0.613150\n",
       "15   2-2  [0.05, 0.95]            35  tfidf              0.507409\n",
       "16   2-2    [0.1, 0.9]            16  tfidf              0.514510\n",
       "17   2-2    [0.2, 0.8]            12  tfidf              0.499112"
      ]
     },
     "execution_count": 104,
     "metadata": {},
     "output_type": "execute_result"
    }
   ],
   "source": [
    "final_set[['grams','dfs','num_features','type','50_percent_threshold']]"
   ]
  },
  {
   "cell_type": "code",
   "execution_count": 105,
   "metadata": {},
   "outputs": [
    {
     "data": {
      "text/plain": [
       "<matplotlib.legend.Legend at 0x1f05714ac8>"
      ]
     },
     "execution_count": 105,
     "metadata": {},
     "output_type": "execute_result"
    },
    {
     "data": {
      "image/png": "[encoded data removed]",
      "text/plain": [
       "<Figure size 432x288 with 1 Axes>"
      ]
     },
     "metadata": {
      "needs_background": "light"
     },
     "output_type": "display_data"
    }
   ],
   "source": [
    "plt.plot(final_set[final_set['type']=='count']['num_features'], final_set[final_set['type']=='count']['50_percent_threshold'], 'ro')\n",
    "plt.plot(final_set[final_set['type']=='tfidf']['num_features'],final_set[final_set['type']=='tfidf']['50_percent_threshold'], 'bs')\n",
    "plt.ylabel('Precision')\n",
    "plt.xlabel('# of Features')\n",
    "plt.title('Precision vs. # of Features')\n",
    "plt.legend(['Bag of Words', 'TfIDF'])"
   ]
  },
  {
   "cell_type": "markdown",
   "metadata": {},
   "source": [
    "Using the standard 50% threshold (same as used in 20-fold-cv), our results are significantly worse across the board when tested on external data. It looks like our data did not generalize. We will dig into the specifics of the model later, but for now lets see if our precision increases at higher thresholds.\n",
    "\n",
    "First, for 90%:"
   ]
  },
  {
   "cell_type": "code",
   "execution_count": 109,
   "metadata": {},
   "outputs": [
    {
     "data": {
      "text/html": [
       "<div>\n",
       "<style scoped>\n",
       "    .dataframe tbody tr th:only-of-type {\n",
       "        vertical-align: middle;\n",
       "    }\n",
       "\n",
       "    .dataframe tbody tr th {\n",
       "        vertical-align: top;\n",
       "    }\n",
       "\n",
       "    .dataframe thead th {\n",
       "        text-align: right;\n",
       "    }\n",
       "</style>\n",
       "<table border=\"1\" class=\"dataframe\">\n",
       "  <thead>\n",
       "    <tr style=\"text-align: right;\">\n",
       "      <th></th>\n",
       "      <th>grams</th>\n",
       "      <th>dfs</th>\n",
       "      <th>num_features</th>\n",
       "      <th>type</th>\n",
       "      <th>90_percent_threshold</th>\n",
       "    </tr>\n",
       "  </thead>\n",
       "  <tbody>\n",
       "    <tr>\n",
       "      <th>0</th>\n",
       "      <td>1-1</td>\n",
       "      <td>[0.05, 0.95]</td>\n",
       "      <td>1042</td>\n",
       "      <td>count</td>\n",
       "      <td>0.696377</td>\n",
       "    </tr>\n",
       "    <tr>\n",
       "      <th>1</th>\n",
       "      <td>1-1</td>\n",
       "      <td>[0.1, 0.9]</td>\n",
       "      <td>376</td>\n",
       "      <td>count</td>\n",
       "      <td>0.705000</td>\n",
       "    </tr>\n",
       "    <tr>\n",
       "      <th>2</th>\n",
       "      <td>1-1</td>\n",
       "      <td>[0.2, 0.8]</td>\n",
       "      <td>88</td>\n",
       "      <td>count</td>\n",
       "      <td>0.688679</td>\n",
       "    </tr>\n",
       "    <tr>\n",
       "      <th>3</th>\n",
       "      <td>1-2</td>\n",
       "      <td>[0.05, 0.95]</td>\n",
       "      <td>1072</td>\n",
       "      <td>count</td>\n",
       "      <td>0.680569</td>\n",
       "    </tr>\n",
       "    <tr>\n",
       "      <th>4</th>\n",
       "      <td>1-2</td>\n",
       "      <td>[0.1, 0.9]</td>\n",
       "      <td>387</td>\n",
       "      <td>count</td>\n",
       "      <td>0.673753</td>\n",
       "    </tr>\n",
       "    <tr>\n",
       "      <th>5</th>\n",
       "      <td>1-2</td>\n",
       "      <td>[0.2, 0.8]</td>\n",
       "      <td>95</td>\n",
       "      <td>count</td>\n",
       "      <td>0.687299</td>\n",
       "    </tr>\n",
       "    <tr>\n",
       "      <th>6</th>\n",
       "      <td>2-2</td>\n",
       "      <td>[0.05, 0.95]</td>\n",
       "      <td>35</td>\n",
       "      <td>count</td>\n",
       "      <td>0.512571</td>\n",
       "    </tr>\n",
       "    <tr>\n",
       "      <th>7</th>\n",
       "      <td>2-2</td>\n",
       "      <td>[0.1, 0.9]</td>\n",
       "      <td>16</td>\n",
       "      <td>count</td>\n",
       "      <td>0.554481</td>\n",
       "    </tr>\n",
       "    <tr>\n",
       "      <th>8</th>\n",
       "      <td>2-2</td>\n",
       "      <td>[0.2, 0.8]</td>\n",
       "      <td>12</td>\n",
       "      <td>count</td>\n",
       "      <td>0.800971</td>\n",
       "    </tr>\n",
       "    <tr>\n",
       "      <th>9</th>\n",
       "      <td>1-1</td>\n",
       "      <td>[0.05, 0.95]</td>\n",
       "      <td>1042</td>\n",
       "      <td>tfidf</td>\n",
       "      <td>0.860875</td>\n",
       "    </tr>\n",
       "    <tr>\n",
       "      <th>10</th>\n",
       "      <td>1-1</td>\n",
       "      <td>[0.1, 0.9]</td>\n",
       "      <td>376</td>\n",
       "      <td>tfidf</td>\n",
       "      <td>0.850985</td>\n",
       "    </tr>\n",
       "    <tr>\n",
       "      <th>11</th>\n",
       "      <td>1-1</td>\n",
       "      <td>[0.2, 0.8]</td>\n",
       "      <td>88</td>\n",
       "      <td>tfidf</td>\n",
       "      <td>0.797722</td>\n",
       "    </tr>\n",
       "    <tr>\n",
       "      <th>12</th>\n",
       "      <td>1-2</td>\n",
       "      <td>[0.05, 0.95]</td>\n",
       "      <td>1072</td>\n",
       "      <td>tfidf</td>\n",
       "      <td>0.855657</td>\n",
       "    </tr>\n",
       "    <tr>\n",
       "      <th>13</th>\n",
       "      <td>1-2</td>\n",
       "      <td>[0.1, 0.9]</td>\n",
       "      <td>387</td>\n",
       "      <td>tfidf</td>\n",
       "      <td>0.842546</td>\n",
       "    </tr>\n",
       "    <tr>\n",
       "      <th>14</th>\n",
       "      <td>1-2</td>\n",
       "      <td>[0.2, 0.8]</td>\n",
       "      <td>95</td>\n",
       "      <td>tfidf</td>\n",
       "      <td>0.791469</td>\n",
       "    </tr>\n",
       "    <tr>\n",
       "      <th>15</th>\n",
       "      <td>2-2</td>\n",
       "      <td>[0.05, 0.95]</td>\n",
       "      <td>35</td>\n",
       "      <td>tfidf</td>\n",
       "      <td>0.630625</td>\n",
       "    </tr>\n",
       "    <tr>\n",
       "      <th>16</th>\n",
       "      <td>2-2</td>\n",
       "      <td>[0.1, 0.9]</td>\n",
       "      <td>16</td>\n",
       "      <td>tfidf</td>\n",
       "      <td>0.642520</td>\n",
       "    </tr>\n",
       "    <tr>\n",
       "      <th>17</th>\n",
       "      <td>2-2</td>\n",
       "      <td>[0.2, 0.8]</td>\n",
       "      <td>12</td>\n",
       "      <td>tfidf</td>\n",
       "      <td>0.877095</td>\n",
       "    </tr>\n",
       "  </tbody>\n",
       "</table>\n",
       "</div>"
      ],
      "text/plain": [
       "   grams           dfs  num_features   type  90_percent_threshold\n",
       "0    1-1  [0.05, 0.95]          1042  count              0.696377\n",
       "1    1-1    [0.1, 0.9]           376  count              0.705000\n",
       "2    1-1    [0.2, 0.8]            88  count              0.688679\n",
       "3    1-2  [0.05, 0.95]          1072  count              0.680569\n",
       "4    1-2    [0.1, 0.9]           387  count              0.673753\n",
       "5    1-2    [0.2, 0.8]            95  count              0.687299\n",
       "6    2-2  [0.05, 0.95]            35  count              0.512571\n",
       "7    2-2    [0.1, 0.9]            16  count              0.554481\n",
       "8    2-2    [0.2, 0.8]            12  count              0.800971\n",
       "9    1-1  [0.05, 0.95]          1042  tfidf              0.860875\n",
       "10   1-1    [0.1, 0.9]           376  tfidf              0.850985\n",
       "11   1-1    [0.2, 0.8]            88  tfidf              0.797722\n",
       "12   1-2  [0.05, 0.95]          1072  tfidf              0.855657\n",
       "13   1-2    [0.1, 0.9]           387  tfidf              0.842546\n",
       "14   1-2    [0.2, 0.8]            95  tfidf              0.791469\n",
       "15   2-2  [0.05, 0.95]            35  tfidf              0.630625\n",
       "16   2-2    [0.1, 0.9]            16  tfidf              0.642520\n",
       "17   2-2    [0.2, 0.8]            12  tfidf              0.877095"
      ]
     },
     "execution_count": 109,
     "metadata": {},
     "output_type": "execute_result"
    }
   ],
   "source": [
    "final_set[['grams','dfs','num_features','type','90_percent_threshold']]"
   ]
  },
  {
   "cell_type": "code",
   "execution_count": 110,
   "metadata": {},
   "outputs": [
    {
     "data": {
      "text/plain": [
       "<matplotlib.legend.Legend at 0x1f12911ef0>"
      ]
     },
     "execution_count": 110,
     "metadata": {},
     "output_type": "execute_result"
    },
    {
     "data": {
      "image/png": "[encoded data removed]",
      "text/plain": [
       "<Figure size 432x288 with 1 Axes>"
      ]
     },
     "metadata": {
      "needs_background": "light"
     },
     "output_type": "display_data"
    }
   ],
   "source": [
    "plt.plot(final_set[final_set['type']=='count']['num_features'],final_set[final_set['type']=='count']['90_percent_threshold'], 'ro')\n",
    "plt.plot(final_set[final_set['type']=='tfidf']['num_features'],final_set[final_set['type']=='tfidf']['90_percent_threshold'], 'bs')\n",
    "plt.ylabel('Precision')\n",
    "plt.xlabel('# of Features')\n",
    "plt.title('Precision vs. # of Features')\n",
    "plt.legend(['Bag of Words', 'TfIDF'])"
   ]
  },
  {
   "cell_type": "markdown",
   "metadata": {},
   "source": [
    "Clear improvement across the board, now lets see 99%: "
   ]
  },
  {
   "cell_type": "code",
   "execution_count": 113,
   "metadata": {},
   "outputs": [
    {
     "data": {
      "text/html": [
       "<div>\n",
       "<style scoped>\n",
       "    .dataframe tbody tr th:only-of-type {\n",
       "        vertical-align: middle;\n",
       "    }\n",
       "\n",
       "    .dataframe tbody tr th {\n",
       "        vertical-align: top;\n",
       "    }\n",
       "\n",
       "    .dataframe thead th {\n",
       "        text-align: right;\n",
       "    }\n",
       "</style>\n",
       "<table border=\"1\" class=\"dataframe\">\n",
       "  <thead>\n",
       "    <tr style=\"text-align: right;\">\n",
       "      <th></th>\n",
       "      <th>grams</th>\n",
       "      <th>dfs</th>\n",
       "      <th>num_features</th>\n",
       "      <th>type</th>\n",
       "      <th>99_percent_threshold</th>\n",
       "    </tr>\n",
       "  </thead>\n",
       "  <tbody>\n",
       "    <tr>\n",
       "      <th>0</th>\n",
       "      <td>1-1</td>\n",
       "      <td>[0.05, 0.95]</td>\n",
       "      <td>1042</td>\n",
       "      <td>count</td>\n",
       "      <td>0.758607</td>\n",
       "    </tr>\n",
       "    <tr>\n",
       "      <th>1</th>\n",
       "      <td>1-1</td>\n",
       "      <td>[0.1, 0.9]</td>\n",
       "      <td>376</td>\n",
       "      <td>count</td>\n",
       "      <td>0.798339</td>\n",
       "    </tr>\n",
       "    <tr>\n",
       "      <th>2</th>\n",
       "      <td>1-1</td>\n",
       "      <td>[0.2, 0.8]</td>\n",
       "      <td>88</td>\n",
       "      <td>count</td>\n",
       "      <td>0.787027</td>\n",
       "    </tr>\n",
       "    <tr>\n",
       "      <th>3</th>\n",
       "      <td>1-2</td>\n",
       "      <td>[0.05, 0.95]</td>\n",
       "      <td>1072</td>\n",
       "      <td>count</td>\n",
       "      <td>0.755502</td>\n",
       "    </tr>\n",
       "    <tr>\n",
       "      <th>4</th>\n",
       "      <td>1-2</td>\n",
       "      <td>[0.1, 0.9]</td>\n",
       "      <td>387</td>\n",
       "      <td>count</td>\n",
       "      <td>0.742696</td>\n",
       "    </tr>\n",
       "    <tr>\n",
       "      <th>5</th>\n",
       "      <td>1-2</td>\n",
       "      <td>[0.2, 0.8]</td>\n",
       "      <td>95</td>\n",
       "      <td>count</td>\n",
       "      <td>0.778959</td>\n",
       "    </tr>\n",
       "    <tr>\n",
       "      <th>6</th>\n",
       "      <td>2-2</td>\n",
       "      <td>[0.05, 0.95]</td>\n",
       "      <td>35</td>\n",
       "      <td>count</td>\n",
       "      <td>0.719626</td>\n",
       "    </tr>\n",
       "    <tr>\n",
       "      <th>7</th>\n",
       "      <td>2-2</td>\n",
       "      <td>[0.1, 0.9]</td>\n",
       "      <td>16</td>\n",
       "      <td>count</td>\n",
       "      <td>0.811388</td>\n",
       "    </tr>\n",
       "    <tr>\n",
       "      <th>8</th>\n",
       "      <td>2-2</td>\n",
       "      <td>[0.2, 0.8]</td>\n",
       "      <td>12</td>\n",
       "      <td>count</td>\n",
       "      <td>0.974790</td>\n",
       "    </tr>\n",
       "    <tr>\n",
       "      <th>9</th>\n",
       "      <td>1-1</td>\n",
       "      <td>[0.05, 0.95]</td>\n",
       "      <td>1042</td>\n",
       "      <td>tfidf</td>\n",
       "      <td>0.965770</td>\n",
       "    </tr>\n",
       "    <tr>\n",
       "      <th>10</th>\n",
       "      <td>1-1</td>\n",
       "      <td>[0.1, 0.9]</td>\n",
       "      <td>376</td>\n",
       "      <td>tfidf</td>\n",
       "      <td>0.950000</td>\n",
       "    </tr>\n",
       "    <tr>\n",
       "      <th>11</th>\n",
       "      <td>1-1</td>\n",
       "      <td>[0.2, 0.8]</td>\n",
       "      <td>88</td>\n",
       "      <td>tfidf</td>\n",
       "      <td>0.927966</td>\n",
       "    </tr>\n",
       "    <tr>\n",
       "      <th>12</th>\n",
       "      <td>1-2</td>\n",
       "      <td>[0.05, 0.95]</td>\n",
       "      <td>1072</td>\n",
       "      <td>tfidf</td>\n",
       "      <td>0.971081</td>\n",
       "    </tr>\n",
       "    <tr>\n",
       "      <th>13</th>\n",
       "      <td>1-2</td>\n",
       "      <td>[0.1, 0.9]</td>\n",
       "      <td>387</td>\n",
       "      <td>tfidf</td>\n",
       "      <td>0.962264</td>\n",
       "    </tr>\n",
       "    <tr>\n",
       "      <th>14</th>\n",
       "      <td>1-2</td>\n",
       "      <td>[0.2, 0.8]</td>\n",
       "      <td>95</td>\n",
       "      <td>tfidf</td>\n",
       "      <td>0.927515</td>\n",
       "    </tr>\n",
       "    <tr>\n",
       "      <th>15</th>\n",
       "      <td>2-2</td>\n",
       "      <td>[0.05, 0.95]</td>\n",
       "      <td>35</td>\n",
       "      <td>tfidf</td>\n",
       "      <td>0.962733</td>\n",
       "    </tr>\n",
       "    <tr>\n",
       "      <th>16</th>\n",
       "      <td>2-2</td>\n",
       "      <td>[0.1, 0.9]</td>\n",
       "      <td>16</td>\n",
       "      <td>tfidf</td>\n",
       "      <td>0.983193</td>\n",
       "    </tr>\n",
       "    <tr>\n",
       "      <th>17</th>\n",
       "      <td>2-2</td>\n",
       "      <td>[0.2, 0.8]</td>\n",
       "      <td>12</td>\n",
       "      <td>tfidf</td>\n",
       "      <td>0.971698</td>\n",
       "    </tr>\n",
       "  </tbody>\n",
       "</table>\n",
       "</div>"
      ],
      "text/plain": [
       "   grams           dfs  num_features   type  99_percent_threshold\n",
       "0    1-1  [0.05, 0.95]          1042  count              0.758607\n",
       "1    1-1    [0.1, 0.9]           376  count              0.798339\n",
       "2    1-1    [0.2, 0.8]            88  count              0.787027\n",
       "3    1-2  [0.05, 0.95]          1072  count              0.755502\n",
       "4    1-2    [0.1, 0.9]           387  count              0.742696\n",
       "5    1-2    [0.2, 0.8]            95  count              0.778959\n",
       "6    2-2  [0.05, 0.95]            35  count              0.719626\n",
       "7    2-2    [0.1, 0.9]            16  count              0.811388\n",
       "8    2-2    [0.2, 0.8]            12  count              0.974790\n",
       "9    1-1  [0.05, 0.95]          1042  tfidf              0.965770\n",
       "10   1-1    [0.1, 0.9]           376  tfidf              0.950000\n",
       "11   1-1    [0.2, 0.8]            88  tfidf              0.927966\n",
       "12   1-2  [0.05, 0.95]          1072  tfidf              0.971081\n",
       "13   1-2    [0.1, 0.9]           387  tfidf              0.962264\n",
       "14   1-2    [0.2, 0.8]            95  tfidf              0.927515\n",
       "15   2-2  [0.05, 0.95]            35  tfidf              0.962733\n",
       "16   2-2    [0.1, 0.9]            16  tfidf              0.983193\n",
       "17   2-2    [0.2, 0.8]            12  tfidf              0.971698"
      ]
     },
     "execution_count": 113,
     "metadata": {},
     "output_type": "execute_result"
    }
   ],
   "source": [
    "final_set[['grams','dfs','num_features','type','99_percent_threshold']]"
   ]
  },
  {
   "cell_type": "code",
   "execution_count": 114,
   "metadata": {},
   "outputs": [
    {
     "data": {
      "text/plain": [
       "<matplotlib.legend.Legend at 0x1e9de94e10>"
      ]
     },
     "execution_count": 114,
     "metadata": {},
     "output_type": "execute_result"
    },
    {
     "data": {
      "image/png": "[encoded data removed]",
      "text/plain": [
       "<Figure size 432x288 with 1 Axes>"
      ]
     },
     "metadata": {
      "needs_background": "light"
     },
     "output_type": "display_data"
    }
   ],
   "source": [
    "plt.plot(final_set[final_set['type']=='count']['num_features'],final_set[final_set['type']=='count']['99_percent_threshold'], 'ro')\n",
    "plt.plot(final_set[final_set['type']=='tfidf']['num_features'],final_set[final_set['type']=='tfidf']['99_percent_threshold'], 'bs')\n",
    "plt.ylabel('Precision')\n",
    "plt.xlabel('# of Features')\n",
    "plt.title('Precision vs. # of Features')\n",
    "plt.legend(['Bag of Words', 'TfIDF'])"
   ]
  },
  {
   "cell_type": "markdown",
   "metadata": {},
   "source": [
    "The results are fascinating. It appears that when testing on a previously unseen dataset, the TFIDF representations all perform better than the count representation (the opposite was true when performing 20-Fold CV). This means that TFIDF is a superior representation when it comes to creating a generalizable model (bag of words performed well on the original dataset but did not generalize at all!). \n",
    "\n",
    "From the TFIDF representations, it appears that they all performed quite well at higher probability threshold. Luckily, there appears to be a clearly superior model in this set. Model 16 had the highest precision and used only 16 features (tfidf unigrams with .05,.95 df range. Precision: 0.983)!\n",
    "\n",
    "Using this model we will see if we can push the precision to 100% using different threshold settings and see how many predictions we are making when pushing this threshold. "
   ]
  },
  {
   "cell_type": "code",
   "execution_count": 115,
   "metadata": {},
   "outputs": [
    {
     "data": {
      "text/html": [
       "<div>\n",
       "<style scoped>\n",
       "    .dataframe tbody tr th:only-of-type {\n",
       "        vertical-align: middle;\n",
       "    }\n",
       "\n",
       "    .dataframe tbody tr th {\n",
       "        vertical-align: top;\n",
       "    }\n",
       "\n",
       "    .dataframe thead th {\n",
       "        text-align: right;\n",
       "    }\n",
       "</style>\n",
       "<table border=\"1\" class=\"dataframe\">\n",
       "  <thead>\n",
       "    <tr style=\"text-align: right;\">\n",
       "      <th></th>\n",
       "      <th>50% Threshold</th>\n",
       "      <th>90% Threshold</th>\n",
       "      <th>99% Threshold</th>\n",
       "      <th>999% Threshold</th>\n",
       "      <th>9999% Threshold</th>\n",
       "    </tr>\n",
       "  </thead>\n",
       "  <tbody>\n",
       "    <tr>\n",
       "      <th>pred_pos</th>\n",
       "      <td>5720.00000</td>\n",
       "      <td>1270.00000</td>\n",
       "      <td>119.000000</td>\n",
       "      <td>61.000000</td>\n",
       "      <td>35.000000</td>\n",
       "    </tr>\n",
       "    <tr>\n",
       "      <th>true_pos</th>\n",
       "      <td>2943.00000</td>\n",
       "      <td>816.00000</td>\n",
       "      <td>117.000000</td>\n",
       "      <td>60.000000</td>\n",
       "      <td>34.000000</td>\n",
       "    </tr>\n",
       "    <tr>\n",
       "      <th>precision</th>\n",
       "      <td>0.51451</td>\n",
       "      <td>0.64252</td>\n",
       "      <td>0.983193</td>\n",
       "      <td>0.983607</td>\n",
       "      <td>0.971429</td>\n",
       "    </tr>\n",
       "  </tbody>\n",
       "</table>\n",
       "</div>"
      ],
      "text/plain": [
       "           50% Threshold  90% Threshold  99% Threshold  999% Threshold  \\\n",
       "pred_pos      5720.00000     1270.00000     119.000000       61.000000   \n",
       "true_pos      2943.00000      816.00000     117.000000       60.000000   \n",
       "precision        0.51451        0.64252       0.983193        0.983607   \n",
       "\n",
       "           9999% Threshold  \n",
       "pred_pos         35.000000  \n",
       "true_pos         34.000000  \n",
       "precision         0.971429  "
      ]
     },
     "execution_count": 115,
     "metadata": {},
     "output_type": "execute_result"
    }
   ],
   "source": [
    "model_16_thresholds = pd.DataFrame({\"50% Threshold\":precision_50per.iloc[16],\n",
    "               \"90% Threshold\":precision_90per.iloc[16],\n",
    "               \"99% Threshold\":precision_99per.iloc[16],\n",
    "               \"999% Threshold\":precision_999per.iloc[16],\n",
    "               \"9999% Threshold\":precision_9999per.iloc[16]})\n",
    "\n",
    "model_16_thresholds"
   ]
  },
  {
   "cell_type": "code",
   "execution_count": 117,
   "metadata": {},
   "outputs": [
    {
     "data": {
      "text/plain": [
       "Text(0.5, 1.0, 'Precision vs. Threshold %')"
      ]
     },
     "execution_count": 117,
     "metadata": {},
     "output_type": "execute_result"
    },
    {
     "data": {
      "image/png": "[encoded data removed]",
      "text/plain": [
       "<Figure size 432x288 with 1 Axes>"
      ]
     },
     "metadata": {
      "needs_background": "light"
     },
     "output_type": "display_data"
    }
   ],
   "source": [
    "threshold_plotter = pd.DataFrame({\"Threshold %\": ['0.5', '.9', '.99', '.999','.9999'],\n",
    "                                 \"Precision\": model_16_thresholds.iloc[2],\n",
    "                                 \"True Positives\": model_16_thresholds.iloc[1]})\n",
    "plt.plot(threshold_plotter[\"Threshold %\"], threshold_plotter[\"Precision\"], \"bo\")\n",
    "plt.ylabel('Precision')\n",
    "plt.xlabel('Threshold %')\n",
    "plt.title('Precision vs. Threshold %')"
   ]
  },
  {
   "cell_type": "code",
   "execution_count": 118,
   "metadata": {},
   "outputs": [
    {
     "data": {
      "text/plain": [
       "Text(0.5, 1.0, '# Predictions vs. Threshold %')"
      ]
     },
     "execution_count": 118,
     "metadata": {},
     "output_type": "execute_result"
    },
    {
     "data": {
      "image/png": "[encoded data removed]",
      "text/plain": [
       "<Figure size 432x288 with 1 Axes>"
      ]
     },
     "metadata": {
      "needs_background": "light"
     },
     "output_type": "display_data"
    }
   ],
   "source": [
    "plt.plot(threshold_plotter[\"Threshold %\"], threshold_plotter[\"True Positives\"], \"go\")\n",
    "plt.ylabel('# Predictions')\n",
    "plt.xlabel('Threshold %')\n",
    "plt.title('# Predictions vs. Threshold %')"
   ]
  },
  {
   "cell_type": "markdown",
   "metadata": {},
   "source": [
    "It looks like using the selected logistic regression model makes it possible for us to achieve near perfect precision! However, we are capped at ~98%. With a 99% threshold we predicted 587 instances to be unreliable, of which 573 were actually unreliable (14 errors, 97.6% precision). As we increased our threshold to 99.9%, we predicted 212 instances to be unreliable, of which 209 were actually unreliable (3 errors, 98.5% Precision). Finally at a threshold of 99.99% , we predicted 111 instances to be unreliable of which 110 were actually unreliable (1 error, 99% precision). \n",
    "\n",
    "It appears that our increases in threshold had only a marginal increase on our precision, but we made half as many predictions with each increase (our recall decreases). It makes sense to use the 99% threshold in this case since our precision would not increase with a higher threshold, but our recall decreases. \n",
    "\n",
    "Overall, these results seem promising, however, we should not trust a model just because it scores well on our evaluation metrics. When possible, it is important to interpret exactly what the model is doing to see if it makes sense. "
   ]
  },
  {
   "cell_type": "markdown",
   "metadata": {},
   "source": [
    "### Model Interpretation and Error Analysis"
   ]
  },
  {
   "cell_type": "markdown",
   "metadata": {},
   "source": [
    "To better understand our model, lets take a look at the coefficients assigned to each feature. The highest values will give us insight into which features are most predictive of unreliable news according to our model. "
   ]
  },
  {
   "cell_type": "code",
   "execution_count": 119,
   "metadata": {},
   "outputs": [
    {
     "data": {
      "text/plain": [
       "LogisticRegression(C=1.0, class_weight=None, dual=False, fit_intercept=True,\n",
       "          intercept_scaling=1, max_iter=100, multi_class='warn',\n",
       "          n_jobs=None, penalty='l2', random_state=None, solver='liblinear',\n",
       "          tol=0.0001, verbose=0, warm_start=False)"
      ]
     },
     "execution_count": 119,
     "metadata": {},
     "output_type": "execute_result"
    }
   ],
   "source": [
    "log_reg.fit(feature_set.features[16], train_y)"
   ]
  },
  {
   "cell_type": "code",
   "execution_count": 120,
   "metadata": {},
   "outputs": [
    {
     "name": "stdout",
     "output_type": "stream",
     "text": [
      "                  Features      Coef\n",
      "0             donald trump -0.936496\n",
      "1          hillary clinton  1.725978\n",
      "2                 mr trump -3.107447\n",
      "3                 new york -1.142217\n",
      "4   title_ title_breitbart -5.280127\n",
      "5         title_ title_the -0.944890\n",
      "6     title_new title_york -4.103978\n",
      "7      title_the title_new -3.491277\n",
      "8   title_york title_times -4.193521\n",
      "9            united states -0.759603\n",
      "10             white house -1.236835\n",
      "11                URLcount  1.906152\n",
      "12                  Length  0.000012\n",
      "13                Polarity  0.896071\n",
      "14            Subjectivity  1.653019\n",
      "15             Readability  0.024927\n"
     ]
    }
   ],
   "source": [
    "words = np.asarray(feature_set.vectorizers[16].get_feature_names())\n",
    "others = np.asarray(['URLcount', 'Length', 'Polarity', 'Subjectivity', 'Readability'])\n",
    "coefs = log_reg.coef_[0]\n",
    "df = pd.DataFrame({'Features': np.concatenate([words,others]),\n",
    "                  'Coef': coefs})\n",
    "print(df)"
   ]
  },
  {
   "cell_type": "markdown",
   "metadata": {},
   "source": [
    "These results are extremely dissapointing. Positive coefficients mean that the presence of the corresponding feature increases the probability that the instance is unreliable according to the model. This means that this model is simply looking for the appearance of \"Hillary Clinton,\" urls, and a high subjectivity score in order to identify fake news. Additionally, ALL of the vocabulary selected as features does not seem like vocabulary that could be useful in identifying unreliable vs reliable news in the modern day. \n",
    "\n",
    "Before drawing a final conclusion, lets look at another model that also performed well but used more features to see if the same problem persists (model 12):"
   ]
  },
  {
   "cell_type": "code",
   "execution_count": 125,
   "metadata": {},
   "outputs": [],
   "source": [
    "log_reg.fit(feature_set.features[12], train_y)\n",
    "words = np.asarray(feature_set.vectorizers[12].get_feature_names())\n",
    "others = np.asarray(['URLcount', 'Length', 'Polarity', 'Subjectivity', 'Readability'])\n",
    "coefs = log_reg.coef_[0]\n",
    "\n",
    "df = pd.DataFrame({'Features': np.concatenate([words,others]),\n",
    "                  'Coef': coefs})\n",
    "reliable_words = np.asarray(df.sort_values(by = 'Coef', ascending = True).Features[0:100])\n",
    "unreliable_words = np.asarray(df.sort_values(by = 'Coef', ascending = False).Features[0:100])                           "
   ]
  },
  {
   "cell_type": "code",
   "execution_count": 126,
   "metadata": {},
   "outputs": [
    {
     "data": {
      "text/plain": [
       "array(['title_breitbart', 'title_ title_breitbart', 'said', 'breitbart',\n",
       "       'mr', 'twitter', 'follow', 'title_york', 'title_new title_york',\n",
       "       'title_york title_times', 'title_the title_new', 'title_times',\n",
       "       'president donald', 'ms', '2017', 'title_ title_the', 'title_new',\n",
       "       'breitbart news', 'president trump', 'president', 'sunday',\n",
       "       'title_', 'march', 'islamic', 'mrs', 'percent', 'administration',\n",
       "       'friday', 'game', 'january', 'series', 'attack', 'saturday',\n",
       "       'wrote', 'immigration', 'week', 'statement', 'texas', 'added',\n",
       "       'senate', 'mr trump', 'speech', 'including', 'team', 'monday',\n",
       "       'democrats', 'new york', 'trump administration', 'york',\n",
       "       'executive', 'february', 'april', 'officials', 'thursday', 'book',\n",
       "       'continued', 'united', 'night', 'weekend', 'border', 'new',\n",
       "       'director', 'like', 'think', 'june', 'london', 'house',\n",
       "       'university', 'reported', 'won', 'committee', 'tuesday', 'union',\n",
       "       'planned', 'reporter', 'decision', 'attacks', 'social media',\n",
       "       'conservative', 'asked', 'republicans', 'company', 'european',\n",
       "       'told', 'young', 'played', 'times', 'set', 'senior', 'host', 'dr',\n",
       "       'summer', 'million', 'women', 'tax', 'cnn', 'social', 'play',\n",
       "       'york times', 'later'], dtype=object)"
      ]
     },
     "execution_count": 126,
     "metadata": {},
     "output_type": "execute_result"
    }
   ],
   "source": [
    "reliable_words\n",
    "#top 100 features by +coef"
   ]
  },
  {
   "cell_type": "code",
   "execution_count": 127,
   "metadata": {},
   "outputs": [
    {
     "data": {
      "text/plain": [
       "array(['2016', 'november', 'october', 'anti', 'hillary', 'share',\n",
       "       'URLcount', 'al', 'source', 'old', 'clinton', 'election', '11',\n",
       "       'article', 'fbi', 'comments', 'related', 'comment', 'war', 'today',\n",
       "       'world', '26', '10', 'com', 'voting', 'title_of', '16',\n",
       "       'title_and', 'image', 'right', 'title_is', 'hillary clinton',\n",
       "       'obama', 'title_a', 'man', '27', 'title_by', 'video', 'title_on',\n",
       "       'email', 'fact', 'massive', 'standing', 'emails', 'trump',\n",
       "       'russia', 'western', 'access', 'sources', 'support', 'body',\n",
       "       'post', 'breaking', 'power', 'mind', 'actually', 'secret',\n",
       "       'natural', 'truth', 'god', 'title_to', 'title_in', 'mainstream',\n",
       "       '28', 'real', 'bush', 'know', 'just', 'donald', 'high', 'elected',\n",
       "       'completely', 'putin', 'america', 'corporate', 'class',\n",
       "       'title_hillary', 'nominee', 'need', 'based', 'elections', 'money',\n",
       "       'free', 'control', 'continues', 'september', 'supporters', 'cause',\n",
       "       'vote', 'site', 'following', 'posted', 'millions', 'believe', '14',\n",
       "       'population', 'republican', 'food', 'government', 'check'],\n",
       "      dtype=object)"
      ]
     },
     "execution_count": 127,
     "metadata": {},
     "output_type": "execute_result"
    }
   ],
   "source": [
    "unreliable_words\n",
    "#top 100 features by -coef"
   ]
  },
  {
   "cell_type": "markdown",
   "metadata": {},
   "source": [
    "The results are not much more promising in these model. The words seen here \"make sense\" in a way, but show that this model is also significantly flawed. Without context, the words identified by the model are not outright predictors of unreliable news (they may have been in 2016). Some words, such as \"truth\" and \"sources\" might make sense in general context, while the rest of the words seem to be too specifically related to the 2016 elections and political scandals. This shows why our model did not generalize too well to the external data source. Additionally, it shows why we can still get high precision by setting a high threshold. If we set the threshold to 99%, then the articles that are predicted to be unreliable will likely contain many of the unreliable words found in our training corpus. "
   ]
  },
  {
   "cell_type": "markdown",
   "metadata": {},
   "source": [
    "### Conclusion"
   ]
  },
  {
   "cell_type": "markdown",
   "metadata": {},
   "source": [
    "Although we were able to create a model that identifies \"fake news\" with high precision, the model ultimately does not make sense as it was too reliant on the specific data provided. \n",
    "\n",
    "The training data was primarily made up of news related to 2016 political issues. This makes sense because it was due to the 2016 election that the issue of fake news became \"popular.\" Although this project did not create a model that \"makes sense\",  it was useful in demonstrating how a bad model can produce good results. It is important to understand what our models are doing in addition to looking at evaluation metrics before we send a model off to production. \n",
    "\n",
    "While our model would almost certainly not generalize to modern data, there is hope in that perhaps our model could still work if we trained it with a larger and and more comprehensive data source, as it would be forced to extract words that identify fake news across a larger variety of topics from different time periods."
   ]
  }
 ],
 "metadata": {
  "kernelspec": {
   "display_name": "Python (INLS613)",
   "language": "python",
   "name": "inls613"
  },
  "language_info": {
   "codemirror_mode": {
    "name": "ipython",
    "version": 3
   },
   "file_extension": ".py",
   "mimetype": "text/x-python",
   "name": "python",
   "nbconvert_exporter": "python",
   "pygments_lexer": "ipython3",
   "version": "3.7.1"
  }
 },
 "nbformat": 4,
 "nbformat_minor": 2
}
