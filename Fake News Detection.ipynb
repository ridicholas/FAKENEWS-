{
 "cells": [
  {
   "cell_type": "markdown",
   "metadata": {},
   "source": [
    "# INLS 613 - Fake News Detection"
   ]
  },
  {
   "cell_type": "markdown",
   "metadata": {},
   "source": [
    "Import libraries"
   ]
  },
  {
   "cell_type": "code",
   "execution_count": 1,
   "metadata": {},
   "outputs": [],
   "source": [
    "import pandas as pd\n",
    "import numpy as np\n",
    "import scipy"
   ]
  },
  {
   "cell_type": "markdown",
   "metadata": {},
   "source": [
    "## Dataset 1 - Train1.csv Exploration"
   ]
  },
  {
   "cell_type": "code",
   "execution_count": 2,
   "metadata": {},
   "outputs": [],
   "source": [
    "\n",
    "data = pd.read_csv(\"train1.csv\",encoding='utf_8') \n"
   ]
  },
  {
   "cell_type": "markdown",
   "metadata": {},
   "source": [
    "\n",
    "\n",
    "The data features are as follows:\n",
    "- ID\n",
    "- Title\n",
    "- Author\n",
    "- Text \n",
    "- Label (1 = \"Unreliable\", 0 = \"Reliable\")\n",
    "\n",
    "We will only be using Title and Text as features to try and learn the concept of reliable vs unreliable news. \n",
    "\n",
    "Below is a sample set of the first 10 instances of data as an example: "
   ]
  },
  {
   "cell_type": "code",
   "execution_count": 3,
   "metadata": {},
   "outputs": [
    {
     "data": {
      "text/html": [
       "<div>\n",
       "<style scoped>\n",
       "    .dataframe tbody tr th:only-of-type {\n",
       "        vertical-align: middle;\n",
       "    }\n",
       "\n",
       "    .dataframe tbody tr th {\n",
       "        vertical-align: top;\n",
       "    }\n",
       "\n",
       "    .dataframe thead th {\n",
       "        text-align: right;\n",
       "    }\n",
       "</style>\n",
       "<table border=\"1\" class=\"dataframe\">\n",
       "  <thead>\n",
       "    <tr style=\"text-align: right;\">\n",
       "      <th></th>\n",
       "      <th>id</th>\n",
       "      <th>title</th>\n",
       "      <th>author</th>\n",
       "      <th>text</th>\n",
       "      <th>label</th>\n",
       "    </tr>\n",
       "  </thead>\n",
       "  <tbody>\n",
       "    <tr>\n",
       "      <th>0</th>\n",
       "      <td>0</td>\n",
       "      <td>House Dem Aide: We Didn’t Even See Comey’s Let...</td>\n",
       "      <td>Darrell Lucus</td>\n",
       "      <td>House Dem Aide: We Didn’t Even See Comey’s Let...</td>\n",
       "      <td>1</td>\n",
       "    </tr>\n",
       "    <tr>\n",
       "      <th>1</th>\n",
       "      <td>1</td>\n",
       "      <td>FLYNN: Hillary Clinton, Big Woman on Campus - ...</td>\n",
       "      <td>Daniel J. Flynn</td>\n",
       "      <td>Ever get the feeling your life circles the rou...</td>\n",
       "      <td>0</td>\n",
       "    </tr>\n",
       "    <tr>\n",
       "      <th>2</th>\n",
       "      <td>2</td>\n",
       "      <td>Why the Truth Might Get You Fired</td>\n",
       "      <td>Consortiumnews.com</td>\n",
       "      <td>Why the Truth Might Get You Fired October 29, ...</td>\n",
       "      <td>1</td>\n",
       "    </tr>\n",
       "    <tr>\n",
       "      <th>3</th>\n",
       "      <td>3</td>\n",
       "      <td>15 Civilians Killed In Single US Airstrike Hav...</td>\n",
       "      <td>Jessica Purkiss</td>\n",
       "      <td>Videos 15 Civilians Killed In Single US Airstr...</td>\n",
       "      <td>1</td>\n",
       "    </tr>\n",
       "    <tr>\n",
       "      <th>4</th>\n",
       "      <td>4</td>\n",
       "      <td>Iranian woman jailed for fictional unpublished...</td>\n",
       "      <td>Howard Portnoy</td>\n",
       "      <td>Print \\nAn Iranian woman has been sentenced to...</td>\n",
       "      <td>1</td>\n",
       "    </tr>\n",
       "    <tr>\n",
       "      <th>5</th>\n",
       "      <td>5</td>\n",
       "      <td>Jackie Mason: Hollywood Would Love Trump if He...</td>\n",
       "      <td>Daniel Nussbaum</td>\n",
       "      <td>In these trying times, Jackie Mason is the Voi...</td>\n",
       "      <td>0</td>\n",
       "    </tr>\n",
       "    <tr>\n",
       "      <th>6</th>\n",
       "      <td>6</td>\n",
       "      <td>Life: Life Of Luxury: Elton John’s 6 Favorite ...</td>\n",
       "      <td>NaN</td>\n",
       "      <td>Ever wonder how Britain’s most iconic pop pian...</td>\n",
       "      <td>1</td>\n",
       "    </tr>\n",
       "    <tr>\n",
       "      <th>7</th>\n",
       "      <td>7</td>\n",
       "      <td>Benoît Hamon Wins French Socialist Party’s Pre...</td>\n",
       "      <td>Alissa J. Rubin</td>\n",
       "      <td>PARIS  —   France chose an idealistic, traditi...</td>\n",
       "      <td>0</td>\n",
       "    </tr>\n",
       "    <tr>\n",
       "      <th>8</th>\n",
       "      <td>8</td>\n",
       "      <td>Excerpts From a Draft Script for Donald Trump’...</td>\n",
       "      <td>NaN</td>\n",
       "      <td>Donald J. Trump is scheduled to make a highly ...</td>\n",
       "      <td>0</td>\n",
       "    </tr>\n",
       "    <tr>\n",
       "      <th>9</th>\n",
       "      <td>9</td>\n",
       "      <td>A Back-Channel Plan for Ukraine and Russia, Co...</td>\n",
       "      <td>Megan Twohey and Scott Shane</td>\n",
       "      <td>A week before Michael T. Flynn resigned as nat...</td>\n",
       "      <td>0</td>\n",
       "    </tr>\n",
       "  </tbody>\n",
       "</table>\n",
       "</div>"
      ],
      "text/plain": [
       "   id                                              title  \\\n",
       "0   0  House Dem Aide: We Didn’t Even See Comey’s Let...   \n",
       "1   1  FLYNN: Hillary Clinton, Big Woman on Campus - ...   \n",
       "2   2                  Why the Truth Might Get You Fired   \n",
       "3   3  15 Civilians Killed In Single US Airstrike Hav...   \n",
       "4   4  Iranian woman jailed for fictional unpublished...   \n",
       "5   5  Jackie Mason: Hollywood Would Love Trump if He...   \n",
       "6   6  Life: Life Of Luxury: Elton John’s 6 Favorite ...   \n",
       "7   7  Benoît Hamon Wins French Socialist Party’s Pre...   \n",
       "8   8  Excerpts From a Draft Script for Donald Trump’...   \n",
       "9   9  A Back-Channel Plan for Ukraine and Russia, Co...   \n",
       "\n",
       "                         author  \\\n",
       "0                 Darrell Lucus   \n",
       "1               Daniel J. Flynn   \n",
       "2            Consortiumnews.com   \n",
       "3               Jessica Purkiss   \n",
       "4                Howard Portnoy   \n",
       "5               Daniel Nussbaum   \n",
       "6                           NaN   \n",
       "7               Alissa J. Rubin   \n",
       "8                           NaN   \n",
       "9  Megan Twohey and Scott Shane   \n",
       "\n",
       "                                                text  label  \n",
       "0  House Dem Aide: We Didn’t Even See Comey’s Let...      1  \n",
       "1  Ever get the feeling your life circles the rou...      0  \n",
       "2  Why the Truth Might Get You Fired October 29, ...      1  \n",
       "3  Videos 15 Civilians Killed In Single US Airstr...      1  \n",
       "4  Print \\nAn Iranian woman has been sentenced to...      1  \n",
       "5  In these trying times, Jackie Mason is the Voi...      0  \n",
       "6  Ever wonder how Britain’s most iconic pop pian...      1  \n",
       "7  PARIS  —   France chose an idealistic, traditi...      0  \n",
       "8  Donald J. Trump is scheduled to make a highly ...      0  \n",
       "9  A week before Michael T. Flynn resigned as nat...      0  "
      ]
     },
     "execution_count": 3,
     "metadata": {},
     "output_type": "execute_result"
    }
   ],
   "source": [
    "data.head(10)"
   ]
  },
  {
   "cell_type": "code",
   "execution_count": 4,
   "metadata": {},
   "outputs": [
    {
     "data": {
      "text/plain": [
       "(20800, 5)"
      ]
     },
     "execution_count": 4,
     "metadata": {},
     "output_type": "execute_result"
    }
   ],
   "source": [
    "data.shape"
   ]
  },
  {
   "cell_type": "code",
   "execution_count": 5,
   "metadata": {},
   "outputs": [
    {
     "data": {
      "text/plain": [
       "array([1, 0])"
      ]
     },
     "execution_count": 5,
     "metadata": {},
     "output_type": "execute_result"
    }
   ],
   "source": [
    "data['label'].unique()"
   ]
  },
  {
   "cell_type": "code",
   "execution_count": 6,
   "metadata": {
    "scrolled": true
   },
   "outputs": [
    {
     "data": {
      "text/plain": [
       "1    10413\n",
       "0    10387\n",
       "Name: label, dtype: int64"
      ]
     },
     "execution_count": 6,
     "metadata": {},
     "output_type": "execute_result"
    }
   ],
   "source": [
    "data['label'].value_counts()"
   ]
  },
  {
   "cell_type": "markdown",
   "metadata": {},
   "source": [
    "Replacing 1's and 0's with \"Unreliable\" and \"Reliable\" for clarity:"
   ]
  },
  {
   "cell_type": "code",
   "execution_count": 7,
   "metadata": {
    "scrolled": false
   },
   "outputs": [
    {
     "data": {
      "text/html": [
       "<div>\n",
       "<style scoped>\n",
       "    .dataframe tbody tr th:only-of-type {\n",
       "        vertical-align: middle;\n",
       "    }\n",
       "\n",
       "    .dataframe tbody tr th {\n",
       "        vertical-align: top;\n",
       "    }\n",
       "\n",
       "    .dataframe thead th {\n",
       "        text-align: right;\n",
       "    }\n",
       "</style>\n",
       "<table border=\"1\" class=\"dataframe\">\n",
       "  <thead>\n",
       "    <tr style=\"text-align: right;\">\n",
       "      <th></th>\n",
       "      <th>id</th>\n",
       "      <th>title</th>\n",
       "      <th>author</th>\n",
       "      <th>text</th>\n",
       "      <th>label</th>\n",
       "    </tr>\n",
       "  </thead>\n",
       "  <tbody>\n",
       "    <tr>\n",
       "      <th>0</th>\n",
       "      <td>0</td>\n",
       "      <td>House Dem Aide: We Didn’t Even See Comey’s Let...</td>\n",
       "      <td>Darrell Lucus</td>\n",
       "      <td>House Dem Aide: We Didn’t Even See Comey’s Let...</td>\n",
       "      <td>Unreliable</td>\n",
       "    </tr>\n",
       "    <tr>\n",
       "      <th>1</th>\n",
       "      <td>1</td>\n",
       "      <td>FLYNN: Hillary Clinton, Big Woman on Campus - ...</td>\n",
       "      <td>Daniel J. Flynn</td>\n",
       "      <td>Ever get the feeling your life circles the rou...</td>\n",
       "      <td>Reliable</td>\n",
       "    </tr>\n",
       "    <tr>\n",
       "      <th>2</th>\n",
       "      <td>2</td>\n",
       "      <td>Why the Truth Might Get You Fired</td>\n",
       "      <td>Consortiumnews.com</td>\n",
       "      <td>Why the Truth Might Get You Fired October 29, ...</td>\n",
       "      <td>Unreliable</td>\n",
       "    </tr>\n",
       "    <tr>\n",
       "      <th>3</th>\n",
       "      <td>3</td>\n",
       "      <td>15 Civilians Killed In Single US Airstrike Hav...</td>\n",
       "      <td>Jessica Purkiss</td>\n",
       "      <td>Videos 15 Civilians Killed In Single US Airstr...</td>\n",
       "      <td>Unreliable</td>\n",
       "    </tr>\n",
       "    <tr>\n",
       "      <th>4</th>\n",
       "      <td>4</td>\n",
       "      <td>Iranian woman jailed for fictional unpublished...</td>\n",
       "      <td>Howard Portnoy</td>\n",
       "      <td>Print \\nAn Iranian woman has been sentenced to...</td>\n",
       "      <td>Unreliable</td>\n",
       "    </tr>\n",
       "    <tr>\n",
       "      <th>5</th>\n",
       "      <td>5</td>\n",
       "      <td>Jackie Mason: Hollywood Would Love Trump if He...</td>\n",
       "      <td>Daniel Nussbaum</td>\n",
       "      <td>In these trying times, Jackie Mason is the Voi...</td>\n",
       "      <td>Reliable</td>\n",
       "    </tr>\n",
       "    <tr>\n",
       "      <th>6</th>\n",
       "      <td>6</td>\n",
       "      <td>Life: Life Of Luxury: Elton John’s 6 Favorite ...</td>\n",
       "      <td>NaN</td>\n",
       "      <td>Ever wonder how Britain’s most iconic pop pian...</td>\n",
       "      <td>Unreliable</td>\n",
       "    </tr>\n",
       "    <tr>\n",
       "      <th>7</th>\n",
       "      <td>7</td>\n",
       "      <td>Benoît Hamon Wins French Socialist Party’s Pre...</td>\n",
       "      <td>Alissa J. Rubin</td>\n",
       "      <td>PARIS  —   France chose an idealistic, traditi...</td>\n",
       "      <td>Reliable</td>\n",
       "    </tr>\n",
       "    <tr>\n",
       "      <th>8</th>\n",
       "      <td>8</td>\n",
       "      <td>Excerpts From a Draft Script for Donald Trump’...</td>\n",
       "      <td>NaN</td>\n",
       "      <td>Donald J. Trump is scheduled to make a highly ...</td>\n",
       "      <td>Reliable</td>\n",
       "    </tr>\n",
       "    <tr>\n",
       "      <th>9</th>\n",
       "      <td>9</td>\n",
       "      <td>A Back-Channel Plan for Ukraine and Russia, Co...</td>\n",
       "      <td>Megan Twohey and Scott Shane</td>\n",
       "      <td>A week before Michael T. Flynn resigned as nat...</td>\n",
       "      <td>Reliable</td>\n",
       "    </tr>\n",
       "  </tbody>\n",
       "</table>\n",
       "</div>"
      ],
      "text/plain": [
       "   id                                              title  \\\n",
       "0   0  House Dem Aide: We Didn’t Even See Comey’s Let...   \n",
       "1   1  FLYNN: Hillary Clinton, Big Woman on Campus - ...   \n",
       "2   2                  Why the Truth Might Get You Fired   \n",
       "3   3  15 Civilians Killed In Single US Airstrike Hav...   \n",
       "4   4  Iranian woman jailed for fictional unpublished...   \n",
       "5   5  Jackie Mason: Hollywood Would Love Trump if He...   \n",
       "6   6  Life: Life Of Luxury: Elton John’s 6 Favorite ...   \n",
       "7   7  Benoît Hamon Wins French Socialist Party’s Pre...   \n",
       "8   8  Excerpts From a Draft Script for Donald Trump’...   \n",
       "9   9  A Back-Channel Plan for Ukraine and Russia, Co...   \n",
       "\n",
       "                         author  \\\n",
       "0                 Darrell Lucus   \n",
       "1               Daniel J. Flynn   \n",
       "2            Consortiumnews.com   \n",
       "3               Jessica Purkiss   \n",
       "4                Howard Portnoy   \n",
       "5               Daniel Nussbaum   \n",
       "6                           NaN   \n",
       "7               Alissa J. Rubin   \n",
       "8                           NaN   \n",
       "9  Megan Twohey and Scott Shane   \n",
       "\n",
       "                                                text       label  \n",
       "0  House Dem Aide: We Didn’t Even See Comey’s Let...  Unreliable  \n",
       "1  Ever get the feeling your life circles the rou...    Reliable  \n",
       "2  Why the Truth Might Get You Fired October 29, ...  Unreliable  \n",
       "3  Videos 15 Civilians Killed In Single US Airstr...  Unreliable  \n",
       "4  Print \\nAn Iranian woman has been sentenced to...  Unreliable  \n",
       "5  In these trying times, Jackie Mason is the Voi...    Reliable  \n",
       "6  Ever wonder how Britain’s most iconic pop pian...  Unreliable  \n",
       "7  PARIS  —   France chose an idealistic, traditi...    Reliable  \n",
       "8  Donald J. Trump is scheduled to make a highly ...    Reliable  \n",
       "9  A week before Michael T. Flynn resigned as nat...    Reliable  "
      ]
     },
     "execution_count": 7,
     "metadata": {},
     "output_type": "execute_result"
    }
   ],
   "source": [
    "data['label'] = data['label'].replace(1, 'Unreliable')\n",
    "data['label'] = data['label'].replace(0, 'Reliable')\n",
    "data.head(10)"
   ]
  },
  {
   "cell_type": "code",
   "execution_count": 57,
   "metadata": {},
   "outputs": [
    {
     "data": {
      "text/plain": [
       "0    House Dem Aide: We Didn’t Even See Comey’s Let...\n",
       "1    Ever get the feeling your life circles the rou...\n",
       "2    Why the Truth Might Get You Fired October 29, ...\n",
       "3    Videos 15 Civilians Killed In Single US Airstr...\n",
       "4    Print \\nAn Iranian woman has been sentenced to...\n",
       "Name: text, dtype: object"
      ]
     },
     "execution_count": 57,
     "metadata": {},
     "output_type": "execute_result"
    }
   ],
   "source": [
    "data['text'].head()"
   ]
  },
  {
   "cell_type": "code",
   "execution_count": 8,
   "metadata": {},
   "outputs": [
    {
     "data": {
      "text/plain": [
       "Unreliable    10413\n",
       "Reliable      10387\n",
       "Name: label, dtype: int64"
      ]
     },
     "execution_count": 8,
     "metadata": {},
     "output_type": "execute_result"
    }
   ],
   "source": [
    "data['label'].value_counts()"
   ]
  },
  {
   "cell_type": "markdown",
   "metadata": {},
   "source": [
    "The dataset seems to have been read in appropriately and contains a near 50% split of labels, we can now begin the ML process. "
   ]
  },
  {
   "cell_type": "markdown",
   "metadata": {},
   "source": [
    "## Dataset 1 - Train1.csv - Machine Readable Conversion"
   ]
  },
  {
   "cell_type": "code",
   "execution_count": 9,
   "metadata": {},
   "outputs": [],
   "source": [
    "from sklearn import preprocessing ### Importing a preprocessor to convert the labels in the target class."
   ]
  },
  {
   "cell_type": "code",
   "execution_count": 10,
   "metadata": {},
   "outputs": [],
   "source": [
    "train_class_y = ['Unreliable','Reliable']"
   ]
  },
  {
   "cell_type": "code",
   "execution_count": 11,
   "metadata": {},
   "outputs": [],
   "source": [
    "le = preprocessing.LabelEncoder() ## Label encoder does the trick. "
   ]
  },
  {
   "cell_type": "code",
   "execution_count": 12,
   "metadata": {},
   "outputs": [
    {
     "data": {
      "text/plain": [
       "LabelEncoder()"
      ]
     },
     "execution_count": 12,
     "metadata": {},
     "output_type": "execute_result"
    }
   ],
   "source": [
    "le.fit(train_class_y) ## We are fitting the categories now. "
   ]
  },
  {
   "cell_type": "code",
   "execution_count": 13,
   "metadata": {},
   "outputs": [],
   "source": [
    "train_y = le.transform(data['label'])"
   ]
  },
  {
   "cell_type": "code",
   "execution_count": 14,
   "metadata": {},
   "outputs": [
    {
     "data": {
      "text/plain": [
       "array([1, 0, 1, ..., 0, 1, 1])"
      ]
     },
     "execution_count": 14,
     "metadata": {},
     "output_type": "execute_result"
    }
   ],
   "source": [
    "train_y ## These are out labels now. "
   ]
  },
  {
   "cell_type": "code",
   "execution_count": 15,
   "metadata": {},
   "outputs": [
    {
     "data": {
      "text/plain": [
       "array([1, 0, 0])"
      ]
     },
     "execution_count": 15,
     "metadata": {},
     "output_type": "execute_result"
    }
   ],
   "source": [
    "le.transform(['Unreliable','Reliable','Reliable']) ### Just to check"
   ]
  },
  {
   "cell_type": "code",
   "execution_count": 16,
   "metadata": {},
   "outputs": [
    {
     "name": "stderr",
     "output_type": "stream",
     "text": [
      "/anaconda3/lib/python3.6/site-packages/sklearn/preprocessing/label.py:151: DeprecationWarning: The truth value of an empty array is ambiguous. Returning False, but in future this will result in an error. Use `array.size > 0` to check that an array is not empty.\n",
      "  if diff:\n"
     ]
    },
    {
     "data": {
      "text/plain": [
       "array(['Reliable', 'Unreliable', 'Unreliable'], dtype='<U10')"
      ]
     },
     "execution_count": 16,
     "metadata": {},
     "output_type": "execute_result"
    }
   ],
   "source": [
    "le.inverse_transform([0,1,1]) ### Doing an inverse of the transformation"
   ]
  },
  {
   "cell_type": "markdown",
   "metadata": {},
   "source": [
    "## Selecting Features Using TF.IDF"
   ]
  },
  {
   "cell_type": "code",
   "execution_count": 43,
   "metadata": {},
   "outputs": [],
   "source": [
    "train_text = data['text']\n",
    "train_title = data['title']\n",
    "shape = [train_text.shape, train_title.shape]"
   ]
  },
  {
   "cell_type": "code",
   "execution_count": 44,
   "metadata": {},
   "outputs": [],
   "source": [
    "from sklearn.feature_extraction.text import TfidfVectorizer ## Importing the library that will help us do this. "
   ]
  },
  {
   "cell_type": "code",
   "execution_count": 66,
   "metadata": {},
   "outputs": [],
   "source": [
    "vectorizer = TfidfVectorizer(min_df=1,stop_words='english',max_features=5000, ngram_range = (1,3)) ## Ask yourself, why min_df =1? We are using english stopwords. \n",
    "####max_features=3000 "
   ]
  },
  {
   "cell_type": "code",
   "execution_count": 67,
   "metadata": {},
   "outputs": [],
   "source": [
    "train_text_tfidf = vectorizer.fit_transform(train_text.values.astype('U'))\n",
    "#train_title_tfidf = vectorizer.fit_transform(train_title.values.astype('U'))"
   ]
  },
  {
   "cell_type": "code",
   "execution_count": 70,
   "metadata": {},
   "outputs": [
    {
     "name": "stdout",
     "output_type": "stream",
     "text": [
      "0        House Dem Aide: We Didn’t Even See Comey’s Let...\n",
      "1        Ever get the feeling your life circles the rou...\n",
      "2        Why the Truth Might Get You Fired October 29, ...\n",
      "3        Videos 15 Civilians Killed In Single US Airstr...\n",
      "4        Print \\nAn Iranian woman has been sentenced to...\n",
      "5        In these trying times, Jackie Mason is the Voi...\n",
      "6        Ever wonder how Britain’s most iconic pop pian...\n",
      "7        PARIS  —   France chose an idealistic, traditi...\n",
      "8        Donald J. Trump is scheduled to make a highly ...\n",
      "9        A week before Michael T. Flynn resigned as nat...\n",
      "10       Organizing for Action, the activist group that...\n",
      "11       The BBC produced spoof on the “Real Housewives...\n",
      "12       The mystery surrounding The Third Reich and Na...\n",
      "13       Clinton Campaign Demands FBI Affirm Trump's Ru...\n",
      "14       Yes, There Are Paid Government Trolls On Socia...\n",
      "15       Guillermo Barros Schelotto was not the first A...\n",
      "16       The scandal engulfing Wells Fargo toppled its ...\n",
      "17       A Caddo Nation tribal leader has just been fre...\n",
      "18       FBI Closes In On Hillary! Posted on Home » Hea...\n",
      "19       Wednesday after   Donald Trump’s press confere...\n",
      "20       Email \\nSince Donald Trump entered the electio...\n",
      "21       Screenwriter Ryan Murphy, who has produced the...\n",
      "22       Sunday on MSNBC’s “AM Joy,” actor and director...\n",
      "23       Massachusetts Cop’s Wife Busted for Pinning Fa...\n",
      "24       Orders for abortion pills by women in seven La...\n",
      "25       Email \\nIn an historic move the United Nations...\n",
      "26       JERUSALEM  —   Islamic State sympathizers and ...\n",
      "27       Humiliated Hillary Tries To Hide What Camera C...\n",
      "28       Andrea Tantaros, a former Fox News host, charg...\n",
      "29       Hillary Clinton sat in the hideaway study off ...\n",
      "                               ...                        \n",
      "20770    Home › POLITICS | US NEWS › HUMA ABEDIN SWORE ...\n",
      "20771    DYN's Statement on Last Week's Botnet Attack h...\n",
      "20772    Kinda reminds me of when Carter gave away the ...\n",
      "20773    Australia to hunt down anti-vax nurses and pro...\n",
      "20774    Aided by a politically correct culture of “tol...\n",
      "20775    ‹ › Arnaldo Rodgers is a trained and educated ...\n",
      "20776    Donald Trump was rushed from a rally stage by ...\n",
      "20777    Breitbart October 26, 2016 \\nAn editor of Aust...\n",
      "20778    There’s not much to say about the July jobs nu...\n",
      "20779    In many parts of the world, Christians gatheri...\n",
      "20780    Early on Oct. 6, Erin   was awakened by the so...\n",
      "20781    By Brandon Turbeville When the DEA announced t...\n",
      "20782    Home » Headlines » World News » The Fix Is In:...\n",
      "20783    Good morning.  Here’s what you need to know: •...\n",
      "20784      Finian Cunningham has written extensively on...\n",
      "20785    The first sentence of Congress’ Obamacare repe...\n",
      "20786    #FROMTHEFRONT #MAPS 22.11.2016 - 1,361 views 5...\n",
      "20787    Former Deputy Attorney General Sally Yates dec...\n",
      "20788    Google Pinterest Digg Linkedin Reddit Stumbleu...\n",
      "20789    Senate Majority Leader Mitch McConnell (R, KY)...\n",
      "20790    U. S Ambassador to the United Nations Nikki Ha...\n",
      "20791    Lawyer Who Kept Hillary Campaign Chief Out of ...\n",
      "20792    Two suicide bombers attacked a bus station in ...\n",
      "20793    Share This \\nAlthough the vandal who thought i...\n",
      "20794    Donald Trump took to Twitter Friday to praise ...\n",
      "20795    Rapper T. I. unloaded on black celebrities who...\n",
      "20796    When the Green Bay Packers lost to the Washing...\n",
      "20797    The Macy’s of today grew from the union of sev...\n",
      "20798    NATO, Russia To Hold Parallel Exercises In Bal...\n",
      "20799      David Swanson is an author, activist, journa...\n",
      "Name: text, Length: 20800, dtype: object\n"
     ]
    }
   ],
   "source": [
    "print(train_text)"
   ]
  },
  {
   "cell_type": "code",
   "execution_count": 68,
   "metadata": {},
   "outputs": [
    {
     "name": "stdout",
     "output_type": "stream",
     "text": [
      "['00', '000', '000 people', '10', '10 000', '10 percent', '10 years', '100', '100 000', '11', '12', '125', '13', '14', '15', '15 years', '150', '16', '17', '18', '19', '1960s', '1970s', '1980', '1980s', '1990', '1990s', '1991', '1992', '1994', '1995', '1996', '1998', '1999', '20', '20 percent', '20 years', '200', '2000', '2001', '2002', '2003', '2004', '2005', '2006', '2007', '2008', '2009', '2010', '2011', '2012', '2013', '2014', '2015', '2016', '2016 election', '2016 presidential', '2017', '2018', '2020', '20th', '21', '21st', '22', '23', '24', '25', '250', '26', '26 2016', '27', '27 2016', '28', '28 2016', '29', '29 2016', '30', '30 years', '300', '31', '32', '33', '34', '35', '36', '37', '38', '39', '40', '400', '41', '42', '43', '44', '45', '46', '47', '48', '49', '50', '50 000', '500', '51', '52', '53', '54', '55', '56', '58', '60', '600', '65', '70', '700', '75', '80', '800', '85', '8th', '90', '95', '99', '_____', 'aaron', 'abandoned', 'abc', 'abe', 'abedin', 'ability', 'able', 'abortion', 'abroad', 'absence', 'absolute', 'absolutely', 'abu', 'abuse', 'abuses', 'academic', 'academy', 'accept', 'acceptable', 'acceptance', 'accepted', 'accepting', 'access', 'access pipeline', 'accident', 'accompanied', 'according', 'according report', 'account', 'accountability', 'accountable', 'accounts', 'accurate', 'accusations', 'accused', 'accusing', 'achieve', 'achieved', 'acknowledge', 'acknowledged', 'acquired', 'act', 'acted', 'acting', 'action', 'actions', 'active', 'actively', 'activist', 'activists', 'activities', 'activity', 'actor', 'actors', 'actress', 'acts', 'actual', 'actually', 'ad', 'adam', 'adams', 'add', 'added', 'adding', 'addition', 'additional', 'address', 'addressed', 'addressing', 'adds', 'administration', 'admiral', 'admit', 'admitted', 'adopted', 'ads', 'adult', 'adults', 'advance', 'advanced', 'advantage', 'advertisement', 'advertising', 'advice', 'advised', 'adviser', 'advisers', 'advisor', 'advisory', 'advocacy', 'advocate', 'advocates', 'affair', 'affairs', 'affect', 'affected', 'afford', 'affordable', 'affordable care', 'affordable care act', 'afghan', 'afghanistan', 'afraid', 'africa', 'african', 'aftermath', 'afternoon', 'afterward', 'age', 'agencies', 'agency', 'agenda', 'agent', 'agents', 'ages', 'aggression', 'aggressive', 'ago', 'agree', 'agreed', 'agreement', 'agreements', 'agriculture', 'ahead', 'aid', 'aide', 'aides', 'ailes', 'aim', 'aimed', 'air', 'air force', 'aircraft', 'airlines', 'airport', 'airstrikes', 'al', 'al qaeda', 'alabama', 'album', 'alcohol', 'aleppo', 'alert', 'alex', 'alexander', 'ali', 'alien', 'aliens', 'alive', 'allegations', 'alleged', 'allegedly', 'allen', 'alliance', 'allies', 'allow', 'allowed', 'allowing', 'allows', 'ally', 'alongside', 'alternative', 'amazing', 'amazon', 'ambassador', 'ambitious', 'amendment', 'america', 'america great', 'american', 'american people', 'americans', 'amid', 'amnesty', 'amounts', 'amy', 'analysis', 'analyst', 'analysts', 'ancient', 'anderson', 'andrew', 'angeles', 'anger', 'angry', 'animal', 'animals', 'ann', 'anniversary', 'announce', 'announced', 'announcement', 'announcing', 'annual', 'anonymity', 'anonymous', 'answer', 'answered', 'answers', 'anthony', 'anthony weiner', 'anti', 'anxiety', 'anybody', 'anymore', 'ap', 'apart', 'apartment', 'apologize', 'app', 'apparent', 'apparently', 'appeal', 'appeals', 'appear', 'appearance', 'appeared', 'appearing', 'appears', 'apple', 'application', 'applications', 'applied', 'apply', 'appointed', 'appointment', 'appreciate', 'approach', 'approached', 'appropriate', 'approval', 'approve', 'approved', 'approximately', 'apps', 'april', 'arab', 'arabia', 'arabs', 'area', 'areas', 'aren', 'argue', 'argued', 'argues', 'arguing', 'argument', 'arguments', 'arizona', 'arkansas', 'arm', 'armed', 'arms', 'army', 'array', 'arrest', 'arrested', 'arrests', 'arrival', 'arrive', 'arrived', 'arriving', 'art', 'article', 'articles', 'artificial', 'artist', 'artists', 'arts', 'asia', 'asian', 'aside', 'ask', 'asked', 'asking', 'asks', 'aspect', 'aspects', 'assad', 'assange', 'assassination', 'assault', 'assembly', 'assessment', 'asset', 'assets', 'assigned', 'assist', 'assistance', 'assistant', 'associate', 'associated', 'associated press', 'associates', 'association', 'assume', 'assumed', 'assured', 'asylum', 'athletes', 'atlanta', 'atlantic', 'atmosphere', 'attack', 'attacked', 'attacking', 'attacks', 'attempt', 'attempted', 'attempting', 'attempts', 'attend', 'attended', 'attending', 'attention', 'attitude', 'attorney', 'attorney general', 'attorneys', 'audience', 'audiences', 'audio', 'august', 'austin', 'australia', 'australian', 'author', 'authorities', 'authority', 'authorized', 'authors', 'automatically', 'available', 'avenue', 'average', 'avoid', 'avoided', 'award', 'awarded', 'awards', 'aware', 'awareness', 'away', 'babies', 'baby', 'backed', 'background', 'backing', 'backlash', 'bad', 'badly', 'bag', 'baker', 'balance', 'ball', 'ballot', 'ballots', 'baltimore', 'ban', 'band', 'bank', 'bankers', 'banking', 'banks', 'banned', 'bannon', 'bar', 'barack', 'barack obama', 'barely', 'barred', 'bars', 'base', 'baseball', 'based', 'bases', 'bashar', 'basic', 'basically', 'basis', 'basketball', 'bathroom', 'battle', 'battles', 'bay', 'bbc', 'beach', 'bear', 'bears', 'beat', 'beaten', 'beating', 'beautiful', 'beauty', 'bed', 'beer', 'began', 'begin', 'beginning', 'begins', 'begun', 'behalf', 'behavior', 'beijing', 'beings', 'belief', 'beliefs', 'believe', 'believed', 'believes', 'bell', 'ben', 'beneath', 'benefit', 'benefits', 'benghazi', 'benjamin', 'berkeley', 'berlin', 'bernie', 'bernie sanders', 'best', 'bet', 'better', 'bias', 'bible', 'bid', 'biden', 'big', 'bigger', 'biggest', 'billion', 'billionaire', 'billions', 'billions dollars', 'bills', 'bin', 'bipartisan', 'birth', 'birthday', 'bit', 'bitter', 'black', 'black lives', 'black lives matter', 'black people', 'blacks', 'blame', 'blamed', 'blasio', 'blind', 'bloc', 'block', 'blocked', 'blocking', 'blocks', 'blog', 'blood', 'bloody', 'bloomberg', 'blow', 'blue', 'board', 'boat', 'bob', 'bodies', 'body', 'bold', 'bolton', 'bomb', 'bombing', 'bombs', 'bond', 'bonds', 'book', 'books', 'boost', 'border', 'border patrol', 'borders', 'born', 'boss', 'boston', 'bought', 'bound', 'bowl', 'box', 'boy', 'boys', 'brady', 'brain', 'brain force', 'branch', 'brand', 'brands', 'brazil', 'brazilian', 'break', 'breaking', 'breaking news', 'breaks', 'breast', 'breath', 'breitbart', 'breitbart com', 'breitbart news', 'breitbart news daily', 'breitbart texas', 'brexit', 'brian', 'bridge', 'brief', 'briefed', 'briefing', 'briefing posted', 'briefly', 'bright', 'bring', 'bringing', 'brings', 'britain', 'british', 'broad', 'broadcast', 'broader', 'broadway', 'broke', 'broken', 'brooklyn', 'brother', 'brotherhood', 'brothers', 'brought', 'brown', 'bruce', 'brussels', 'brutal', 'bubble', 'budget', 'build', 'building', 'buildings', 'built', 'bullets', 'bunch', 'bundy', 'burden', 'bureau', 'buried', 'burn', 'burned', 'burning', 'bus', 'bush', 'business', 'businesses', 'businessman', 'busy', 'buy', 'buying', 'cabinet', 'cable', 'calif', 'california', 'called', 'calling', 'calls', 'calm', 'came', 'camera', 'cameras', 'camp', 'campaign', 'campaign manager', 'campaign trail', 'campaigning', 'campaigns', 'camps', 'campus', 'canada', 'canadian', 'canceled', 'cancer', 'candidacy', 'candidate', 'candidates', 'cannabis', 'capable', 'capacity', 'capital', 'capitalism', 'capitol', 'capitol hill', 'captain', 'capture', 'captured', 'car', 'carbon', 'card', 'cards', 'care', 'care act', 'career', 'careful', 'carefully', 'carolina', 'carried', 'carrier', 'carry', 'carrying', 'cars', 'cartel', 'carter', 'case', 'cases', 'cash', 'cast', 'castro', 'casualties', 'catch', 'category', 'catholic', 'caucus', 'caught', 'cause', 'caused', 'causes', 'causing', 'cbs', 'cdc', 'celebrate', 'celebrated', 'celebration', 'celebrities', 'celebrity', 'cell', 'cellphone', 'cells', 'cent', 'center', 'centers', 'central', 'central bank', 'centuries', 'century', 'ceo', 'ceremony', 'certain', 'certainly', 'chain', 'chair', 'chairman', 'challenge', 'challenged', 'challenges', 'challenging', 'chamber', 'champion', 'championship', 'chance', 'chancellor', 'chances', 'change', 'changed', 'changes', 'changing', 'channel', 'chaos', 'chapter', 'character', 'characters', 'charge', 'charged', 'charges', 'charity', 'charles', 'charlie', 'charlotte', 'charter', 'chase', 'cheap', 'check', 'checks', 'chelsea', 'chemical', 'chemical weapons', 'chemicals', 'chicago', 'chicken', 'chief', 'chief executive', 'chief staff', 'child', 'childhood', 'children', 'china', 'china sea', 'chinese', 'choice', 'choices', 'choose', 'choosing', 'chose', 'chosen', 'chris', 'christ', 'christian', 'christians', 'christie', 'christmas', 'chuck', 'church', 'churches', 'cia', 'circle', 'circuit', 'circumstances', 'cited', 'cities', 'citing', 'citizen', 'citizens', 'citizenship', 'city', 'civil', 'civil rights', 'civil war', 'civilian', 'civilians', 'civilization', 'claim', 'claimed', 'claiming', 'claims', 'clark', 'class', 'classes', 'classic', 'classified', 'classified information', 'clean', 'clear', 'cleared', 'clearly', 'cleveland', 'click', 'client', 'clients', 'climate', 'climate change', 'clinton', 'clinton campaign', 'clinton email', 'clinton emails', 'clinton foundation', 'clinton said', 'clintons', 'clock', 'close', 'closed', 'closely', 'closer', 'closest', 'closing', 'clothes', 'clothing', 'cloud', 'club', 'cnn', 'coach', 'coal', 'coalition', 'coast', 'code', 'coffee', 'cohen', 'cold', 'cold war', 'collapse', 'collapsed', 'colleague', 'colleagues', 'collect', 'collected', 'collection', 'collective', 'college', 'collins', 'collusion', 'color', 'colorado', 'columbia', 'column', 'columnist', 'com', 'combat', 'combination', 'combined', 'come', 'comedy', 'comes', 'comey', 'comfort', 'comfortable', 'coming', 'command', 'commander', 'comment', 'commentary', 'comments', 'commerce', 'commercial', 'commission', 'commissioner', 'commit', 'commitment', 'committed', 'committee', 'common', 'communication', 'communications', 'communist', 'communities', 'community', 'como', 'companies', 'company', 'compared', 'comparison', 'compensation', 'compete', 'competing', 'competition', 'competitive', 'complained', 'complaint', 'complaints', 'complete', 'completed', 'completely', 'complex', 'complicated', 'comprehensive', 'compromise', 'computer', 'computers', 'concept', 'concern', 'concerned', 'concerning', 'concerns', 'concert', 'concluded', 'conclusion', 'concrete', 'condemned', 'condition', 'conditions', 'conduct', 'conducted', 'conducting', 'conference', 'confidence', 'confident', 'confirm', 'confirmation', 'confirmed', 'conflict', 'conflicts', 'confront', 'confrontation', 'confused', 'confusion', 'congress', 'congressional', 'congressman', 'connect', 'connected', 'connecticut', 'connection', 'connections', 'consciousness', 'consensus', 'consent', 'consequences', 'conservative', 'conservatives', 'consider', 'considerable', 'consideration', 'considered', 'considering', 'consistent', 'consistently', 'conspiracy', 'constant', 'constantly', 'constitution', 'constitutional', 'construction', 'consulting', 'consumer', 'consumers', 'contact', 'contacted', 'contacts', 'contain', 'contained', 'contains', 'contemporary', 'content', 'contentious', 'contest', 'context', 'continue', 'continued', 'continues', 'continuing', 'contract', 'contracts', 'contrary', 'contrast', 'contribute', 'contributed', 'contributions', 'contributor', 'control', 'controlled', 'controls', 'controversial', 'controversy', 'convention', 'conventional', 'conversation', 'conversations', 'convicted', 'conviction', 'convince', 'convinced', 'conway', 'cook', 'cooking', 'cool', 'cooper', 'cooperation', 'cop', 'copies', 'cops', 'copy', 'copyright', 'core', 'corner', 'corporate', 'corporation', 'corporations', 'corps', 'correct', 'corrupt', 'corruption', 'cost', 'costs', 'couldn', 'council', 'counsel', 'count', 'counted', 'counter', 'counties', 'countless', 'countries', 'country', 'counts', 'county', 'coup', 'couple', 'courage', 'course', 'court', 'courtesy', 'courts', 'cover', 'coverage', 'covered', 'covering', 'crash', 'crazy', 'create', 'created', 'creates', 'creating', 'creation', 'creative', 'credibility', 'credible', 'credit', 'crew', 'crime', 'crimea', 'crimes', 'criminal', 'criminals', 'crisis', 'critic', 'critical', 'criticism', 'criticized', 'criticizing', 'critics', 'cross', 'crossed', 'crossing', 'crowd', 'crowds', 'crucial', 'cruise', 'cruz', 'crying', 'cuba', 'cuban', 'cubs', 'cultural', 'culture', 'cup', 'currency', 'current', 'currently', 'custody', 'customer', 'customers', 'customs', 'cut', 'cuts', 'cutting', 'cyber', 'cycle', 'da', 'dad', 'daesh', 'daily', 'dakota', 'dakota access', 'dakota access pipeline', 'dallas', 'damage', 'damaged', 'damaging', 'dan', 'dance', 'danger', 'dangerous', 'daniel', 'dark', 'das', 'data', 'database', 'date', 'dating', 'daughter', 'daughters', 'dave', 'david', 'davis', 'day', 'days', 'days later', 'dc', 'dead', 'deadly', 'deal', 'dealing', 'deals', 'dean', 'dear', 'death', 'deaths', 'debate', 'debates', 'debt', 'decade', 'decades', 'december', 'decide', 'decided', 'decision', 'decisions', 'declaration', 'declare', 'declared', 'declaring', 'decline', 'declined', 'declined comment', 'dedicated', 'deemed', 'deep', 'deep state', 'deeper', 'deeply', 'defeat', 'defeated', 'defend', 'defendants', 'defended', 'defending', 'defense', 'defensive', 'deficit', 'defined', 'definitely', 'definition', 'degree', 'degrees', 'del', 'delay', 'delegates', 'deleted', 'deliberately', 'deliver', 'delivered', 'demand', 'demanded', 'demanding', 'demands', 'democracy', 'democrat', 'democratic', 'democratic national', 'democratic national committee', 'democratic party', 'democratic presidential', 'democrats', 'demographic', 'demonstrate', 'demonstrated', 'den', 'denied', 'denounced', 'deny', 'department', 'department homeland', 'department homeland security', 'department justice', 'departments', 'departure', 'depending', 'depends', 'deployed', 'deployment', 'deportation', 'deported', 'depression', 'deputy', 'der', 'des', 'described', 'describes', 'describing', 'description', 'deserve', 'design', 'designed', 'desire', 'desk', 'desperate', 'despite', 'destroy', 'destroyed', 'destroying', 'destruction', 'detailed', 'details', 'detained', 'detention', 'determination', 'determine', 'determined', 'detroit', 'devastating', 'develop', 'developed', 'developing', 'development', 'developments', 'device', 'devices', 'devos', 'devoted', 'dialogue', 'did', 'did know', 'didn', 'didn know', 'didn want', 'die', 'died', 'diego', 'diet', 'difference', 'differences', 'different', 'differently', 'difficult', 'digital', 'dinner', 'diplomacy', 'diplomatic', 'diplomats', 'direct', 'directed', 'direction', 'directly', 'director', 'director james', 'director james comey', 'directors', 'dirty', 'disagree', 'disappointed', 'disaster', 'disclose', 'disclosed', 'disclosure', 'discover', 'discovered', 'discovery', 'discrimination', 'discuss', 'discussed', 'discussing', 'discussion', 'discussions', 'disease', 'diseases', 'dismissed', 'disney', 'disorder', 'displaced', 'display', 'dispute', 'distance', 'distribution', 'district', 'districts', 'disturbing', 'diverse', 'diversity', 'divide', 'divided', 'division', 'divorce', 'dna', 'dnc', 'doctor', 'doctors', 'document', 'documentary', 'documented', 'documents', 'does', 'does mean', 'doesn', 'dog', 'dogs', 'doing', 'doj', 'dollar', 'dollars', 'domestic', 'dominated', 'don', 'don know', 'don like', 'don need', 'don think', 'don want', 'donald', 'donald trump', 'donate', 'donated', 'donations', 'donor', 'donors', 'door', 'doors', 'doping', 'double', 'doubt', 'doubts', 'downtown', 'dozen', 'dozens', 'dr', 'draft', 'drama', 'dramatic', 'draw', 'drawing', 'drawn', 'dream', 'dreams', 'dress', 'dressed', 'drew', 'drink', 'drinking', 'drive', 'driven', 'driver', 'drivers', 'driving', 'drone', 'drones', 'drop', 'dropped', 'drove', 'drug', 'drugs', 'dry', 'du', 'duke', 'dump', 'dutch', 'duterte', 'duty', 'dying', 'dylan', 'eager', 'earlier', 'earlier year', 'early', 'earn', 'earned', 'earth', 'earthquake', 'ease', 'easier', 'easily', 'east', 'eastern', 'easy', 'eat', 'eating', 'economic', 'economic growth', 'economics', 'economist', 'economists', 'economy', 'ed', 'edge', 'editor', 'editorial', 'editors', 'educated', 'education', 'educational', 'edward', 'effect', 'effective', 'effectively', 'effects', 'effort', 'efforts', 'egypt', 'egyptian', 'el', 'elect', 'elected', 'elected president', 'election', 'election day', 'elections', 'electoral', 'electoral college', 'electorate', 'electric', 'electricity', 'electronic', 'elements', 'eliminate', 'elite', 'elites', 'elizabeth', 'em', 'email', 'email server', 'emails', 'embassy', 'embrace', 'embraced', 'emerge', 'emerged', 'emergency', 'emerging', 'emissions', 'emotional', 'emotions', 'emphasis', 'emphasized', 'empire', 'employed', 'employee', 'employees', 'employers', 'employment', 'en', 'en el', 'encounter', 'encourage', 'encouraged', 'encouraging', 'end', 'ended', 'ending', 'endless', 'endorsed', 'endorsement', 'ends', 'enemies', 'enemy', 'energy', 'enforce', 'enforcement', 'enforcement officials', 'engage', 'engaged', 'engagement', 'engaging', 'engineer', 'engineering', 'engineers', 'england', 'english', 'enjoy', 'enjoyed', 'enormous', 'ensure', 'enter', 'entered', 'entering', 'enterprise', 'entertainment', 'entire', 'entirely', 'entitled', 'entry', 'environment', 'environmental', 'epidemic', 'episode', 'episodes', 'equal', 'equality', 'equally', 'equipment', 'equity', 'equivalent', 'era', 'erdogan', 'eric', 'error', 'es', 'escape', 'especially', 'espn', 'essential', 'essentially', 'est', 'establish', 'established', 'establishment', 'estate', 'estimate', 'estimated', 'estimates', 'et', 'ethics', 'ethnic', 'eu', 'europe', 'european', 'european union', 'europeans', 'eve', 'evening', 'event', 'events', 'eventually', 'everybody', 'evidence', 'evil', 'ex', 'exact', 'exactly', 'example', 'examples', 'excellent', 'exception', 'exchange', 'exchanges', 'excited', 'exciting', 'exclusive', 'exclusively', 'excuse', 'executed', 'executive', 'executive director', 'executive order', 'executives', 'exercise', 'exist', 'existence', 'existing', 'exists', 'exit', 'expand', 'expanded', 'expanding', 'expansion', 'expect', 'expectations', 'expected', 'expense', 'expensive', 'experience', 'experienced', 'experiences', 'experiment', 'expert', 'experts', 'explain', 'explained', 'explaining', 'explains', 'explanation', 'explicitly', 'explosion', 'explosive', 'expose', 'exposed', 'exposure', 'express', 'expressed', 'expressing', 'expression', 'extend', 'extended', 'extensive', 'extent', 'extra', 'extraordinary', 'extreme', 'extremely', 'extremist', 'extremists', 'eye', 'eyes', 'face', 'facebook', 'facebook page', 'facebook twitter', 'faced', 'faces', 'facilities', 'facility', 'facing', 'fact', 'factor', 'factors', 'factory', 'facts', 'fail', 'failed', 'failing', 'failure', 'fair', 'fairly', 'faith', 'fake', 'fake news', 'fall', 'fallen', 'falling', 'falls', 'false', 'fame', 'familiar', 'families', 'family', 'family members', 'famous', 'fan', 'fans', 'far', 'fargo', 'farm', 'farmers', 'fascist', 'fashion', 'fast', 'faster', 'fat', 'fatal', 'fate', 'father', 'fault', 'favor', 'favored', 'favorite', 'fbi', 'fbi director', 'fbi director james', 'fear', 'feared', 'fears', 'feature', 'featured', 'features', 'featuring', 'feb', 'february', 'fed', 'federal', 'federal government', 'federal law', 'federal reserve', 'federation', 'feed', 'feel', 'feel like', 'feeling', 'feelings', 'feels', 'fees', 'feet', 'fell', 'fellow', 'felony', 'felt', 'felt like', 'female', 'feminist', 'festival', 'fewer', 'fiction', 'field', 'fields', 'fierce', 'fifth', 'fight', 'fighter', 'fighters', 'fighting', 'figure', 'figures', 'file', 'filed', 'files', 'filing', 'filled', 'film', 'films', 'final', 'finally', 'finance', 'financial', 'financial crisis', 'financing', 'finding', 'findings', 'finds', 'fine', 'finger', 'finish', 'finished', 'firearms', 'fired', 'fires', 'firing', 'firm', 'firms', 'fiscal', 'fish', 'fisher', 'fit', 'fix', 'fixed', 'fla', 'flag', 'flat', 'fled', 'fleeing', 'fleet', 'flight', 'flights', 'flood', 'floor', 'florida', 'flow', 'flowers', 'fly', 'fly zone', 'flying', 'flynn', 'focus', 'focused', 'focusing', 'folks', 'follow', 'follow twitter', 'followed', 'followers', 'following', 'follows', 'food', 'foods', 'foot', 'footage', 'football', 'force', 'forced', 'forces', 'forcing', 'ford', 'foreign', 'foreign minister', 'foreign policy', 'foreigners', 'forest', 'forever', 'forget', 'forgotten', 'form', 'formal', 'formally', 'formed', 'forms', 'fort', 'forth', 'fortune', 'forum', 'forward', 'foster', 'fought', 'foundation', 'founded', 'founder', 'founding', 'fourth', 'fox', 'fox news', 'frame', 'france', 'francis', 'francisco', 'frank', 'frankly', 'fraud', 'free', 'free speech', 'free trade', 'freedom', 'french', 'frequent', 'frequently', 'fresh', 'friday', 'friend', 'friendly', 'friends', 'frustrated', 'frustration', 'fuel', 'fully', 'fun', 'function', 'fund', 'fundamental', 'funded', 'funding', 'funds', 'funeral', 'funny', 'furthermore', 'future', 'gain', 'gained', 'gains', 'game', 'games', 'gang', 'gap', 'garden', 'gary', 'gas', 'gates', 'gather', 'gathered', 'gathering', 'gave', 'gay', 'gaza', 'gen', 'gender', 'general', 'general election', 'generally', 'generate', 'generated', 'generation', 'generations', 'genetic', 'genocide', 'genuine', 'george', 'george bush', 'george soros', 'georgia', 'german', 'germany', 'gets', 'getting', 'giant', 'giants', 'gift', 'gingrich', 'girl', 'girls', 'given', 'gives', 'giving', 'glass', 'global', 'global warming', 'globalist', 'globe', 'goal', 'goals', 'god', 'goes', 'going', 'gold', 'golden', 'goldman', 'goldman sachs', 'golf', 'gone', 'gonna', 'good', 'good news', 'goods', 'google', 'gop', 'gore', 'gorsuch', 'got', 'gotten', 'gov', 'governing', 'government', 'government officials', 'governments', 'governor', 'grade', 'graduate', 'graduated', 'graham', 'grand', 'grant', 'granted', 'grants', 'grave', 'gray', 'great', 'greater', 'greatest', 'greatly', 'greece', 'greek', 'green', 'grew', 'gross', 'ground', 'grounds', 'group', 'groups', 'grow', 'growing', 'grown', 'growth', 'guarantee', 'guard', 'guardian', 'guards', 'guess', 'guest', 'guests', 'guide', 'guidelines', 'guilty', 'gulf', 'gun', 'gunman', 'guns', 'guy', 'guys', 'ha', 'hacked', 'hackers', 'hacking', 'hadn', 'hair', 'haiti', 'half', 'hall', 'halloween', 'halt', 'hamas', 'hamilton', 'hampshire', 'hand', 'handed', 'handful', 'handle', 'handling', 'hands', 'happen', 'happened', 'happening', 'happens', 'happy', 'harassment', 'hard', 'harder', 'hardly', 'harm', 'harris', 'harry', 'harsh', 'harvard', 'hasn', 'hat', 'hate', 'hatred', 'haven', 'having', 'hawkins', 'hbo', 'head', 'headed', 'heading', 'headline', 'headlines', 'headquarters', 'heads', 'healing', 'health', 'health care', 'health insurance', 'healthcare', 'healthy', 'hear', 'heard', 'hearing', 'hearings', 'heart', 'hearts', 'heat', 'heaven', 'heavily', 'heavy', 'hedge', 'held', 'hell', 'help', 'helped', 'helping', 'helps', 'henry', 'heritage', 'hero', 'hey', 'hidden', 'hide', 'hiding', 'high', 'high school', 'higher', 'highest', 'highlighted', 'highly', 'highway', 'hill', 'hillary', 'hillary clinton', 'hillary clinton campaign', 'hire', 'hired', 'hiring', 'hispanic', 'historian', 'historic', 'historical', 'historically', 'history', 'hit', 'hitler', 'hits', 'hitting', 'hold', 'holder', 'holding', 'holds', 'hole', 'holiday', 'hollywood', 'holocaust', 'holy', 'home', 'homeland', 'homeland security', 'homeless', 'homes', 'honest', 'hong', 'hong kong', 'honor', 'hope', 'hoped', 'hopefully', 'hopes', 'hoping', 'horrible', 'horror', 'hospital', 'hospitals', 'host', 'hosted', 'hostile', 'hosts', 'hot', 'hotel', 'hour', 'hours', 'house', 'household', 'houses', 'housing', 'houston', 'howard', 'html', 'http', 'http www', 'https', 'hudson', 'huge', 'huma', 'huma abedin', 'human', 'human rights', 'humanitarian', 'humanity', 'humans', 'hundreds', 'hundreds thousands', 'hurricane', 'hurt', 'husband', 'hussein', 'ice', 'id', 'idea', 'ideas', 'identified', 'identify', 'identity', 'ideological', 'ideology', 'ignore', 'ignored', 'ii', 'iii', 'ill', 'illegal', 'illegal aliens', 'illegal immigrants', 'illegally', 'illinois', 'illness', 'image', 'images', 'imagine', 'immediate', 'immediately', 'immigrant', 'immigrants', 'immigration', 'immune', 'impact', 'impeachment', 'imperial', 'implications', 'importance', 'important', 'impose', 'imposed', 'impossible', 'improve', 'improved', 'improving', 'inauguration', 'incident', 'incidents', 'include', 'included', 'includes', 'including', 'income', 'incoming', 'increase', 'increased', 'increases', 'increasing', 'increasingly', 'incredible', 'incredibly', 'independence', 'independent', 'index', 'india', 'indian', 'indiana', 'indians', 'indicate', 'indicated', 'indicates', 'indication', 'indictment', 'indigenous', 'individual', 'individuals', 'industrial', 'industries', 'industry', 'inequality', 'inevitable', 'inflation', 'influence', 'influential', 'information', 'informed', 'infowars', 'infrastructure', 'initial', 'initially', 'initiative', 'injured', 'injuries', 'injury', 'inmates', 'inner', 'innocent', 'inquiry', 'inside', 'insider', 'insisted', 'inspired', 'instagram', 'instance', 'instead', 'institute', 'institution', 'institutions', 'insurance', 'insurers', 'integrity', 'intellectual', 'intelligence', 'intelligence agencies', 'intended', 'intends', 'intense', 'intent', 'intention', 'intentions', 'interested', 'interesting', 'interests', 'interference', 'interior', 'internal', 'international', 'internet', 'intervention', 'interview', 'interviewed', 'interviews', 'introduced', 'invasion', 'invest', 'invested', 'investigate', 'investigated', 'investigating', 'investigation', 'investigation hillary', 'investigations', 'investigative', 'investigators', 'investment', 'investments', 'investor', 'investors', 'invited', 'involve', 'involved', 'involvement', 'involves', 'involving', 'iowa', 'iphone', 'iran', 'iranian', 'iraq', 'iraqi', 'ireland', 'irish', 'iron', 'isil', 'isis', 'islam', 'islamic', 'islamic state', 'islamist', 'island', 'islands', 'isn', 'isolated', 'israel', 'israeli', 'israelis', 'issue', 'issued', 'issues', 'italian', 'italy', 'items', 'ivanka', 'jack', 'jackson', 'jail', 'james', 'james comey', 'jan', 'january', 'japan', 'japanese', 'jared', 'jason', 'jay', 'jeff', 'jeff sessions', 'jennifer', 'jersey', 'jerusalem', 'jesus', 'jet', 'jets', 'jewish', 'jews', 'jihadists', 'jim', 'jimmy', 'job', 'jobs', 'joe', 'joel', 'john', 'john kerry', 'john mccain', 'john podesta', 'johnson', 'join', 'joined', 'joining', 'joint', 'joke', 'jon', 'jonathan', 'jones', 'jordan', 'joseph', 'journal', 'journalism', 'journalist', 'journalists', 'journey', 'joy', 'jr', 'judge', 'judge gorsuch', 'judges', 'judgment', 'judicial', 'judiciary', 'julian', 'julian assange', 'july', 'jump', 'jumped', 'june', 'jury', 'just', 'just days', 'just like', 'justice', 'justice department', 'justices', 'justify', 'justin', 'kadzik', 'kaepernick', 'kaine', 'kansas', 'keeping', 'keeps', 'kelly', 'kennedy', 'kentucky', 'kenya', 'kept', 'kerry', 'kevin', 'key', 'khan', 'kicked', 'kid', 'kids', 'kill', 'killed', 'killer', 'killing', 'killings', 'kim', 'kind', 'kinds', 'king', 'kingdom', 'kitchen', 'klein', 'knew', 'know', 'knowing', 'knowledge', 'known', 'knows', 'kong', 'korea', 'korean', 'kremlin', 'kurdish', 'kushner', 'la', 'lab', 'label', 'labor', 'labour', 'lack', 'lady', 'laid', 'lake', 'land', 'landed', 'lands', 'landscape', 'lane', 'language', 'laptop', 'large', 'largely', 'larger', 'largest', 'las', 'las vegas', 'late', 'later', 'latest', 'latin', 'laugh', 'launch', 'launched', 'law', 'law enforcement', 'law enforcement officials', 'law school', 'lawmakers', 'laws', 'lawsuit', 'lawsuits', 'lawyer', 'lawyers', 'lay', 'le', 'le pen', 'lead', 'leader', 'leaders', 'leadership', 'leading', 'leads', 'league', 'leak', 'leaked', 'leaks', 'learn', 'learned', 'learning', 'leave', 'leaves', 'leaving', 'lebanon', 'led', 'lee', 'left', 'leftist', 'leg', 'legacy', 'legal', 'legally', 'legislation', 'legislative', 'legislature', 'legitimate', 'legs', 'les', 'lesser', 'lesson', 'lessons', 'let', 'let know', 'letter', 'letters', 'letting', 'level', 'levels', 'lewis', 'liberal', 'liberals', 'liberation', 'libertarian', 'liberties', 'liberty', 'library', 'libya', 'license', 'lie', 'lied', 'lies', 'life', 'lifestyle', 'lifetime', 'lift', 'light', 'lights', 'like', 'like mr', 'liked', 'likely', 'likes', 'limit', 'limited', 'limits', 'lincoln', 'line', 'lines', 'link', 'linked', 'links', 'list', 'listed', 'listen', 'listening', 'lists', 'literally', 'little', 'little bit', 'live', 'lived', 'lives', 'lives matter', 'living', 'll', 'lo', 'loan', 'loans', 'lobby', 'lobbying', 'lobbyists', 'local', 'located', 'location', 'locations', 'lock', 'locked', 'logic', 'london', 'long', 'long term', 'long time', 'longer', 'longstanding', 'longtime', 'look', 'look like', 'looked', 'looking', 'looks', 'looks like', 'lord', 'loretta', 'los', 'los angeles', 'lose', 'loses', 'losing', 'loss', 'losses', 'lost', 'lot', 'lot people', 'lots', 'loud', 'louis', 'louisiana', 'love', 'loved', 'loves', 'low', 'lower', 'loyal', 'loyalty', 'luck', 'lunch', 'luxury', 'lying', 'lynch', 'machine', 'machines', 'mad', 'magazine', 'magic', 'maher', 'mail', 'main', 'mainly', 'mainstream', 'mainstream media', 'maintain', 'maintained', 'maintaining', 'major', 'majority', 'make', 'make america', 'make sure', 'makers', 'makes', 'making', 'male', 'man', 'manage', 'managed', 'management', 'manager', 'managers', 'managing', 'mandate', 'manhattan', 'manner', 'manufacturing', 'map', 'march', 'margin', 'marijuana', 'marine', 'mark', 'marked', 'market', 'marketing', 'markets', 'marks', 'marriage', 'married', 'martin', 'mary', 'maryland', 'mass', 'massachusetts', 'massacre', 'masses', 'massive', 'master', 'masters', 'match', 'mate', 'material', 'materials', 'math', 'matt', 'matter', 'matters', 'matthew', 'mattis', 'maximum', 'maybe', 'mayor', 'mccain', 'mcconnell', 'mean', 'meaning', 'means', 'meant', 'measure', 'measures', 'meat', 'medal', 'media', 'media outlets', 'medicaid', 'medical', 'medicare', 'medicine', 'mediterranean', 'meet', 'meeting', 'meetings', 'melania', 'member', 'members', 'members congress', 'membership', 'memo', 'memorial', 'memory', 'men', 'men women', 'mental', 'mention', 'mentioned', 'mere', 'merely', 'merkel', 'mess', 'message', 'messages', 'met', 'metal', 'method', 'methods', 'mexican', 'mexico', 'miami', 'michael', 'michelle', 'michigan', 'mid', 'middle', 'middle class', 'middle east', 'migrant', 'migrants', 'migration', 'mike', 'mike pence', 'mile', 'miles', 'militant', 'militants', 'military', 'militia', 'milk', 'miller', 'million', 'million people', 'millions', 'millions dollars', 'millions people', 'mills', 'milo', 'mind', 'minds', 'minimum', 'mining', 'minister', 'ministry', 'minnesota', 'minor', 'minorities', 'minority', 'minute', 'minutes', 'miss', 'missed', 'missile', 'missiles', 'missing', 'mission', 'missouri', 'mistake', 'mistakes', 'mit', 'mitt', 'mitt romney', 'mix', 'mixed', 'mobile', 'model', 'models', 'moderate', 'modern', 'modest', 'mom', 'moment', 'moments', 'momentum', 'monday', 'monetary', 'money', 'monitor', 'monitoring', 'month', 'monthly', 'months', 'months ago', 'mood', 'moon', 'moore', 'moral', 'morning', 'moscow', 'mosque', 'mosul', 'mother', 'mothers', 'motion', 'motivated', 'mount', 'mountain', 'mountains', 'mouth', 'moved', 'movement', 'movements', 'moves', 'movie', 'movies', 'moving', 'mr', 'mr ailes', 'mr assad', 'mr bannon', 'mr christie', 'mr comey', 'mr erdogan', 'mr johnson', 'mr kushner', 'mr obama', 'mr pence', 'mr putin', 'mr ryan', 'mr sanders', 'mr trump', 'mr trump campaign', 'mr trump said', 'mrs', 'mrs clinton', 'ms', 'msnbc', 'muhammad', 'multiple', 'murder', 'murdered', 'murders', 'murray', 'museum', 'music', 'musical', 'musk', 'muslim', 'muslims', 'mutual', 'mystery', 'named', 'names', 'narrative', 'narrow', 'nasa', 'nation', 'national', 'national committee', 'national convention', 'national security', 'national security adviser', 'nationalism', 'nationalist', 'nations', 'nationwide', 'native', 'nato', 'natural', 'naturally', 'nature', 'naval', 'navy', 'nazi', 'nbc', 'near', 'nearby', 'nearly', 'necessarily', 'necessary', 'neck', 'need', 'needed', 'needs', 'negative', 'negotiate', 'negotiating', 'negotiations', 'neighbor', 'neighborhood', 'neighborhoods', 'neighbors', 'neil', 'neo', 'net', 'netanyahu', 'netflix', 'netherlands', 'network', 'networks', 'neutral', 'nevada', 'new', 'new hampshire', 'new jersey', 'new president', 'new world', 'new york', 'new york city', 'new york times', 'newly', 'news', 'news conference', 'news daily', 'news media', 'newsletter', 'newspaper', 'newspapers', 'nfl', 'nice', 'night', 'nixon', 'nobel', 'noise', 'nominated', 'nomination', 'nominee', 'nominees', 'non', 'nonetheless', 'nonprofit', 'normal', 'normally', 'north', 'north carolina', 'north dakota', 'north korea', 'north korean', 'northern', 'notable', 'notably', 'note', 'noted', 'notes', 'notice', 'noticed', 'noting', 'notion', 'nov', 'novel', 'november', 'november 2016', 'nsa', 'nuclear', 'nuclear war', 'nuclear weapons', 'number', 'numbers', 'numerous', 'nusra', 'nytimes', 'nytimes com', 'oakland', 'oath', 'obama', 'obama administration', 'obama said', 'obamacare', 'object', 'objective', 'objects', 'observed', 'obtain', 'obtained', 'obvious', 'obviously', 'occasionally', 'occupation', 'occupied', 'occur', 'occurred', 'ocean', 'oct', 'october', 'october 26', 'october 26 2016', 'october 27', 'october 27 2016', 'october 28', 'october 28 2016', 'odd', 'odds', 'offense', 'offensive', 'offer', 'offered', 'offering', 'offers', 'office', 'officer', 'officers', 'offices', 'official', 'official said', 'officially', 'officials', 'officials said', 'oh', 'ohio', 'oil', 'ok', 'okay', 'oklahoma', 'old', 'older', 'oldest', 'oligarchy', 'olympic', 'olympics', 'ones', 'ongoing', 'online', 'open', 'opened', 'opening', 'openly', 'opens', 'operate', 'operating', 'operation', 'operations', 'opinion', 'opinions', 'opponent', 'opponents', 'opportunities', 'opportunity', 'oppose', 'opposed', 'opposing', 'opposite', 'opposition', 'option', 'options', 'orange', 'order', 'ordered', 'orders', 'ordinary', 'oregon', 'org', 'organic', 'organization', 'organizations', 'organized', 'organizing', 'origin', 'original', 'originally', 'orlando', 'oscar', 'ought', 'outcome', 'outlet', 'outlets', 'outrage', 'outright', 'outside', 'oval', 'oval office', 'overall', 'overcome', 'overseas', 'oversight', 'overthrow', 'overwhelming', 'owned', 'owner', 'owners', 'owns', 'pace', 'pacific', 'package', 'packed', 'page', 'pages', 'paid', 'pain', 'painful', 'paint', 'painted', 'painting', 'pair', 'pakistan', 'palestine', 'palestinian', 'palestinians', 'palm', 'panel', 'panic', 'paper', 'papers', 'para', 'parade', 'parent', 'parenthood', 'parents', 'paris', 'park', 'parliament', 'parliamentary', 'partial', 'participants', 'participate', 'participation', 'particular', 'particularly', 'parties', 'partisan', 'partly', 'partner', 'partners', 'partnership', 'parts', 'party', 'pass', 'passage', 'passed', 'passengers', 'passing', 'past', 'past years', 'path', 'patient', 'patients', 'patrick', 'patriot', 'patriots', 'patrol', 'pattern', 'patterns', 'paul', 'paul ryan', 'pay', 'paying', 'payment', 'payments', 'pays', 'peace', 'peaceful', 'peak', 'pen', 'penalty', 'pence', 'pending', 'pennsylvania', 'pentagon', 'people', 'people don', 'people like', 'people said', 'people want', 'peoples', 'perceived', 'percent', 'percentage', 'perception', 'perfect', 'perfectly', 'perform', 'performance', 'performed', 'performing', 'period', 'permanent', 'permission', 'permit', 'person', 'personal', 'personality', 'personally', 'personnel', 'perspective', 'persuade', 'peter', 'petition', 'pharmaceutical', 'phase', 'phenomenon', 'philadelphia', 'philippines', 'philosophy', 'phoenix', 'phone', 'phones', 'photo', 'photograph', 'photographs', 'photos', 'phrase', 'physical', 'physically', 'pic', 'pic twitter', 'pic twitter com', 'pick', 'picked', 'picking', 'picture', 'pictures', 'piece', 'pieces', 'pilot', 'pipeline', 'place', 'placed', 'places', 'plain', 'plan', 'plane', 'planes', 'planet', 'planned', 'planned parenthood', 'planning', 'plans', 'plant', 'plants', 'plastic', 'platform', 'play', 'played', 'player', 'players', 'playing', 'plays', 'pleaded', 'pledge', 'pledged', 'plenty', 'plot', 'plus', 'pm', 'podcast', 'podesta', 'point', 'pointed', 'pointing', 'points', 'poland', 'police', 'police department', 'police officer', 'police officers', 'police said', 'policies', 'policy', 'political', 'politically', 'politician', 'politicians', 'politico', 'politics', 'poll', 'polling', 'polls', 'pollution', 'pool', 'poor', 'pop', 'pope', 'popular', 'popular vote', 'popularity', 'population', 'populations', 'populist', 'por', 'port', 'portion', 'pose', 'posed', 'position', 'positions', 'positive', 'possession', 'possibility', 'possible', 'possibly', 'post', 'posted', 'posting', 'posts', 'pot', 'potential', 'potentially', 'pounds', 'pour', 'poverty', 'power', 'powerful', 'powers', 'practice', 'practices', 'praise', 'praised', 'pray', 'prayer', 'pre', 'precious', 'precisely', 'predicted', 'prefer', 'preferred', 'pregnancy', 'pregnant', 'premiums', 'prepare', 'prepared', 'preparing', 'presence', 'present', 'presented', 'preserve', 'presidency', 'president', 'president barack', 'president barack obama', 'president clinton', 'president donald', 'president donald trump', 'president elect', 'president george', 'president george bush', 'president obama', 'president said', 'president trump', 'president united', 'president united states', 'president vladimir', 'president vladimir putin', 'presidential', 'presidential campaign', 'presidential candidate', 'presidential election', 'presidential nominee', 'presidential race', 'presidents', 'press', 'press conference', 'press secretary', 'pressed', 'pressing', 'pressure', 'pretty', 'prevent', 'preventing', 'previous', 'previously', 'price', 'prices', 'pride', 'priebus', 'primaries', 'primarily', 'primary', 'prime', 'prime minister', 'prince', 'principal', 'principle', 'principles', 'print', 'prior', 'priorities', 'priority', 'prison', 'prisoners', 'prisons', 'privacy', 'private', 'private email', 'private email server', 'privately', 'privilege', 'prize', 'pro', 'probably', 'probe', 'problem', 'problems', 'procedures', 'process', 'produce', 'produced', 'producer', 'producers', 'producing', 'product', 'production', 'products', 'professional', 'professionals', 'professor', 'profile', 'profit', 'profits', 'profound', 'program', 'programs', 'progress', 'progressive', 'progressives', 'prohibited', 'project', 'projects', 'prominent', 'promise', 'promised', 'promises', 'promising', 'promote', 'promoted', 'promoting', 'prompted', 'proof', 'propaganda', 'proper', 'properly', 'properties', 'property', 'proposal', 'proposals', 'proposed', 'prosecution', 'prosecutor', 'prosecutors', 'prospect', 'prospects', 'protect', 'protected', 'protecting', 'protection', 'protections', 'protectors', 'protest', 'protesters', 'protesting', 'protests', 'proud', 'prove', 'proved', 'proven', 'provide', 'provided', 'providers', 'provides', 'providing', 'province', 'pruitt', 'psychological', 'public', 'public health', 'publication', 'publicly', 'publish', 'published', 'publishing', 'puerto', 'pull', 'pulled', 'pulling', 'punishment', 'purchase', 'pure', 'purpose', 'purposes', 'pursue', 'pursuing', 'push', 'pushed', 'pushing', 'putin', 'puts', 'putting', 'qaeda', 'qatar', 'qualified', 'quality', 'quarter', 'que', 'queen', 'question', 'questioned', 'questioning', 'questions', 'quick', 'quickly', 'quiet', 'quietly', 'quit', 'quite', 'quo', 'quote', 'quoted', 'race', 'races', 'racial', 'racism', 'racist', 'radar', 'radiation', 'radical', 'radio', 'rain', 'raise', 'raised', 'raises', 'raising', 'rallies', 'rally', 'ran', 'random', 'range', 'ranking', 'ranks', 'rape', 'raped', 'rapid', 'rapidly', 'raqqa', 'rare', 'rarely', 'rate', 'rates', 'rating', 'ratings', 'raw', 'reach', 'reached', 'reaching', 'reaction', 'read', 'reader', 'readers', 'reading', 'reads', 'ready', 'reagan', 'real', 'real estate', 'reality', 'realize', 'realized', 'really', 'reason', 'reasonable', 'reasons', 'rebel', 'rebels', 'recall', 'recalled', 'receive', 'received', 'receiving', 'recent', 'recent years', 'recently', 'recession', 'recipe', 'recognition', 'recognize', 'recognized', 'recommend', 'recommendations', 'recommended', 'record', 'recorded', 'recording', 'records', 'recovery', 'red', 'reduce', 'reduced', 'reducing', 'reduction', 'refer', 'reference', 'referendum', 'referred', 'referring', 'reflect', 'reflected', 'reflects', 'reform', 'reforms', 'refuge', 'refugee', 'refugees', 'refuse', 'refused', 'refusing', 'regard', 'regarding', 'regardless', 'regime', 'regime change', 'region', 'regional', 'regions', 'register', 'registered', 'registration', 'regular', 'regularly', 'regulation', 'regulations', 'regulators', 'regulatory', 'reid', 'reilly', 'reject', 'rejected', 'related', 'relations', 'relationship', 'relationships', 'relative', 'relatively', 'relatives', 'release', 'released', 'releasing', 'relevant', 'reliable', 'relief', 'religion', 'religious', 'reluctant', 'rely', 'remain', 'remained', 'remaining', 'remains', 'remarkable', 'remarks', 'remember', 'reminded', 'reminder', 'remote', 'removal', 'remove', 'removed', 'removing', 'renewed', 'rent', 'rep', 'repeal', 'repeat', 'repeated', 'repeatedly', 'replace', 'replaced', 'replacement', 'replacing', 'replied', 'reply', 'report', 'reported', 'reportedly', 'reporter', 'reporters', 'reporting', 'reports', 'represent', 'representative', 'representatives', 'represented', 'representing', 'represents', 'republic', 'republican', 'republican national', 'republican nominee', 'republican party', 'republican presidential', 'republicans', 'reputation', 'request', 'requested', 'requests', 'require', 'required', 'requirements', 'requires', 'requiring', 'rescue', 'research', 'researcher', 'researchers', 'reserve', 'reserved', 'residence', 'resident', 'residents', 'resignation', 'resigned', 'resist', 'resistance', 'resolution', 'resolve', 'resort', 'resources', 'respect', 'respected', 'respond', 'responded', 'responding', 'response', 'responses', 'responsibility', 'responsible', 'rest', 'restaurant', 'restaurants', 'restore', 'restrictions', 'result', 'resulted', 'resulting', 'results', 'retail', 'retired', 'retirement', 'return', 'returned', 'returning', 'returns', 'reuters', 'rev', 'reveal', 'revealed', 'revealing', 'reveals', 'revelation', 'revelations', 'revenue', 'reverse', 'review', 'reviewed', 'revolution', 'revolutionary', 'rhetoric', 'rice', 'rich', 'richard', 'rick', 'rid', 'ride', 'ridiculous', 'rifle', 'rigged', 'right', 'right wing', 'rights', 'ring', 'rio', 'riot', 'rise', 'rising', 'risk', 'risks', 'rival', 'rivals', 'river', 'road', 'roads', 'robert', 'roberts', 'rock', 'rocket', 'roger', 'role', 'roles', 'roll', 'rolling', 'roman', 'rome', 'romney', 'ron', 'ronald', 'ronald reagan', 'roof', 'room', 'rooms', 'roosevelt', 'root', 'roots', 'rose', 'ross', 'roughly', 'round', 'rounds', 'route', 'routine', 'routinely', 'row', 'royal', 'rt', 'rubio', 'rule', 'rule law', 'ruled', 'rules', 'ruling', 'rumors', 'run', 'running', 'runs', 'rural', 'rush', 'rushed', 'russia', 'russia china', 'russian', 'russian government', 'russian president', 'russians', 'ryan', 'sachs', 'sacred', 'sad', 'safe', 'safety', 'said', 'said adding', 'said did', 'said don', 'said dr', 'said friday', 'said going', 'said interview', 'said just', 'said like', 'said mr', 'said mr trump', 'said ms', 'said people', 'said president', 'said said', 'said statement', 'said think', 'said time', 'said trump', 'sale', 'sales', 'salt', 'sam', 'samsung', 'san', 'san diego', 'san francisco', 'sanctions', 'sanctuary', 'sand', 'sanders', 'santa', 'sarah', 'sat', 'saturday', 'saturday night', 'saudi', 'saudi arabia', 'saudis', 'save', 'saved', 'saving', 'savings', 'saw', 'say', 'saying', 'says', 'scale', 'scandal', 'scandals', 'scared', 'scenario', 'scene', 'scenes', 'schedule', 'scheduled', 'scheme', 'scholars', 'school', 'schools', 'schumer', 'science', 'scientific', 'scientist', 'scientists', 'score', 'scores', 'scott', 'screen', 'screening', 'scrutiny', 'se', 'sea', 'sean', 'search', 'searching', 'season', 'seat', 'seats', 'seattle', 'second', 'second amendment', 'seconds', 'secret', 'secret service', 'secretary', 'secretary state', 'secrets', 'section', 'sector', 'secure', 'security', 'security adviser', 'security council', 'security forces', 'seeing', 'seek', 'seeking', 'seeks', 'seemingly', 'seen', 'sees', 'segment', 'seized', 'select', 'selected', 'selection', 'self', 'sell', 'selling', 'sen', 'senate', 'senator', 'senators', 'send', 'sending', 'senior', 'sense', 'sensitive', 'sent', 'sentence', 'sentenced', 'sentiment', 'separate', 'sept', 'september', 'series', 'seriously', 'serve', 'served', 'server', 'serves', 'service', 'services', 'serving', 'session', 'sessions', 'set', 'sets', 'setting', 'settle', 'settled', 'settlement', 'settlements', 'seven', 'severe', 'sex', 'sexual', 'sexual assault', 'sexually', 'shadow', 'shall', 'shame', 'shape', 'share', 'shared', 'shares', 'sharing', 'sharp', 'sharply', 'shelter', 'sheriff', 'shift', 'shifted', 'shifting', 'ship', 'ships', 'shirt', 'shock', 'shocked', 'shocking', 'shoes', 'shoot', 'shooting', 'shootings', 'shop', 'shopping', 'short', 'shortly', 'shot', 'shots', 'shouldn', 'showed', 'showing', 'shown', 'shows', 'shut', 'sick', 'sides', 'siege', 'sight', 'sign', 'signal', 'signals', 'signature', 'signed', 'significant', 'significantly', 'signing', 'signs', 'silence', 'silent', 'silicon', 'silicon valley', 'silver', 'similar', 'similarly', 'simple', 'simply', 'sin', 'singer', 'singing', 'single', 'sioux', 'siriusxm', 'sister', 'sit', 'site', 'sites', 'sitting', 'situation', 'situations', 'size', 'skeptical', 'skills', 'skin', 'sky', 'slave', 'slavery', 'sleep', 'sleeping', 'slightly', 'slow', 'slowly', 'small', 'smaller', 'smart', 'smile', 'smith', 'smoke', 'smoking', 'snap', 'snapchat', 'snow', 'snowden', 'soccer', 'social', 'social media', 'social security', 'socialist', 'society', 'soft', 'software', 'soil', 'solar', 'sold', 'soldier', 'soldiers', 'solid', 'solution', 'solutions', 'solve', 'somalia', 'somebody', 'somewhat', 'son', 'song', 'songs', 'sons', 'soon', 'sophisticated', 'soros', 'sorry', 'sort', 'sorts', 'sought', 'soul', 'sound', 'sounds', 'source', 'sources', 'south', 'south carolina', 'south china', 'south china sea', 'south korea', 'southern', 'sovereign', 'sovereignty', 'soviet', 'soviet union', 'space', 'spain', 'span', 'spanish', 'speak', 'speaker', 'speaker paul', 'speaker paul ryan', 'speaking', 'speaks', 'special', 'species', 'specific', 'specifically', 'spectrum', 'speculation', 'speech', 'speeches', 'speed', 'spend', 'spending', 'spent', 'spicer', 'spirit', 'spiritual', 'split', 'spoke', 'spoken', 'spokesman', 'spokeswoman', 'sponsored', 'sponsors', 'sport', 'sports', 'spot', 'spread', 'spreading', 'spring', 'spy', 'square', 'st', 'stability', 'stable', 'stadium', 'staff', 'staff members', 'stage', 'stake', 'stance', 'stand', 'standard', 'standards', 'standing', 'standing rock', 'stands', 'stanford', 'star', 'stars', 'start', 'started', 'starting', 'starts', 'state', 'state department', 'stated', 'statement', 'statements', 'states', 'stating', 'station', 'stations', 'statistics', 'status', 'status quo', 'stay', 'stayed', 'staying', 'steady', 'steal', 'steel', 'stein', 'step', 'stephen', 'stepped', 'steps', 'steve', 'steven', 'stick', 'stock', 'stocks', 'stolen', 'stone', 'stood', 'stop', 'stopped', 'stopping', 'stops', 'storage', 'store', 'stores', 'stories', 'storm', 'story', 'straight', 'strange', 'strategic', 'strategist', 'strategy', 'stream', 'street', 'street journal', 'streets', 'strength', 'strengthen', 'stress', 'stressed', 'stretch', 'strike', 'strikes', 'striking', 'string', 'strip', 'strong', 'stronger', 'strongly', 'struck', 'structure', 'struggle', 'struggled', 'struggles', 'struggling', 'stuck', 'student', 'students', 'studied', 'studies', 'studio', 'study', 'studying', 'stuff', 'stunning', 'stupid', 'style', 'su', 'subject', 'subjects', 'submitted', 'subscribe', 'subsequent', 'subsidies', 'substance', 'substantial', 'subway', 'succeed', 'success', 'successful', 'successfully', 'successor', 'sudan', 'sudden', 'suddenly', 'sued', 'suffer', 'suffered', 'suffering', 'sufficient', 'sugar', 'suggest', 'suggested', 'suggesting', 'suggests', 'suicide', 'suit', 'summer', 'summit', 'sun', 'sunday', 'sunni', 'super', 'supplies', 'supply', 'support', 'supported', 'supporter', 'supporters', 'supporting', 'supports', 'supposed', 'supposedly', 'supreme', 'supreme court', 'sure', 'surely', 'surface', 'surge', 'surgery', 'surprise', 'surprised', 'surprising', 'surrounded', 'surrounding', 'surveillance', 'survey', 'survival', 'survive', 'survived', 'susan', 'suspect', 'suspected', 'suspects', 'suspended', 'suspicious', 'sustainable', 'sustained', 'sweden', 'swedish', 'sweeping', 'sweet', 'swift', 'swimming', 'swing', 'switch', 'symbol', 'symptoms', 'syria', 'syrian', 'syrian government', 'syrians', 'systems', 'table', 'tactics', 'taiwan', 'taken', 'takes', 'taking', 'talent', 'taliban', 'talk', 'talked', 'talking', 'talks', 'tank', 'tanks', 'tape', 'target', 'targeted', 'targeting', 'targets', 'task', 'taste', 'taught', 'tax', 'taxes', 'taxpayer', 'taxpayers', 'taylor', 'tea', 'teach', 'teacher', 'teachers', 'teaching', 'team', 'teams', 'tears', 'tech', 'technical', 'techniques', 'technologies', 'technology', 'ted', 'ted cruz', 'teenager', 'telephone', 'television', 'tell', 'telling', 'tells', 'temperatures', 'temple', 'temporarily', 'temporary', 'tend', 'tennessee', 'tennis', 'tens', 'tens thousands', 'tension', 'tensions', 'tenure', 'term', 'terminal', 'terms', 'terrible', 'territory', 'terror', 'terrorism', 'terrorist', 'terrorist attacks', 'terrorists', 'tesla', 'test', 'tested', 'testified', 'testimony', 'testing', 'tests', 'texas', 'text', 'thank', 'thanks', 'thanksgiving', 'theater', 'theft', 'theme', 'theories', 'theory', 'thing', 'things', 'things like', 'think', 'thinking', 'thinks', 'thomas', 'thompson', 'thought', 'thoughts', 'thousand', 'thousands', 'threat', 'threaten', 'threatened', 'threatening', 'threatens', 'threats', 'threw', 'throw', 'throwing', 'thrown', 'thursday', 'ticket', 'tickets', 'tie', 'tied', 'ties', 'tight', 'tillerson', 'tim', 'time', 'time mr', 'times', 'timing', 'tiny', 'tip', 'tired', 'title', 'titled', 'today', 'todd', 'told', 'told breitbart', 'told reporters', 'toll', 'tom', 'tomorrow', 'tone', 'tonight', 'tony', 'took', 'took place', 'tool', 'tools', 'topic', 'topics', 'torture', 'total', 'totally', 'touch', 'tough', 'tour', 'tourists', 'tournament', 'tower', 'town', 'towns', 'toxic', 'tpp', 'track', 'tracking', 'tracks', 'trade', 'trading', 'tradition', 'traditional', 'traffic', 'trafficking', 'tragedy', 'trail', 'train', 'trained', 'training', 'trans', 'transfer', 'transgender', 'transition', 'transition team', 'transparency', 'transportation', 'travel', 'traveled', 'travelers', 'traveling', 'treasury', 'treat', 'treated', 'treating', 'treatment', 'treaty', 'tree', 'trees', 'tremendous', 'trend', 'trial', 'trials', 'tribal', 'tribe', 'tried', 'tries', 'trillion', 'trip', 'trips', 'troops', 'trouble', 'troubled', 'troubling', 'truck', 'trucks', 'true', 'truly', 'trump', 'trump administration', 'trump campaign', 'trump election', 'trump hillary', 'trump mr', 'trump presidency', 'trump president', 'trump said', 'trump supporters', 'trump tower', 'trump victory', 'trump win', 'trump won', 'trust', 'trusted', 'truth', 'try', 'trying', 'tuesday', 'tuesday night', 'turkey', 'turkish', 'turn', 'turned', 'turning', 'turnout', 'turns', 'tv', 'tweet', 'tweeted', 'tweets', 'twice', 'twitter', 'twitter com', 'type', 'types', 'typical', 'typically', 'uber', 'ugly', 'uk', 'ukraine', 'ukrainian', 'ultimate', 'ultimately', 'una', 'unable', 'uncertainty', 'uncle', 'unclear', 'und', 'underground', 'undermine', 'understand', 'understanding', 'understood', 'underway', 'undocumented', 'unemployment', 'unexpected', 'unfair', 'unfortunately', 'union', 'unions', 'unique', 'unit', 'united', 'united nations', 'united states', 'units', 'unity', 'universal', 'universe', 'universities', 'university', 'unknown', 'unless', 'unlike', 'unlikely', 'unprecedented', 'unusual', 'upcoming', 'update', 'updated', 'upper', 'upset', 'urban', 'urged', 'urging', 'usa', 'use', 'used', 'useful', 'user', 'users', 'uses', 'using', 'usual', 'usually', 'utah', 'va', 'vacation', 'vaccine', 'vaccines', 'valley', 'valuable', 'value', 'values', 'van', 'variety', 'various', 'vast', 'vast majority', 'vatican', 've', 've got', 've seen', 'vegas', 'vehicle', 'vehicles', 'venezuela', 'venture', 'veritas', 'vermont', 'version', 'versus', 'veteran', 'veterans', 'vice', 'vice president', 'victim', 'victims', 'victory', 'video', 'videos', 'vietnam', 'view', 'viewed', 'viewers', 'views', 'village', 'villages', 'violated', 'violation', 'violations', 'violence', 'violent', 'viral', 'virginia', 'virtually', 'virus', 'visa', 'visas', 'visible', 'vision', 'visit', 'visited', 'visiting', 'visitors', 'visits', 'vital', 'vitamin', 'vladimir', 'vladimir putin', 'voice', 'voices', 'volkswagen', 'volume', 'volunteers', 'von', 'vote', 'voted', 'voter', 'voter fraud', 'voters', 'votes', 'voting', 'voting machines', 'vowed', 'vs', 'vulnerable', 'wage', 'wages', 'wait', 'waiting', 'wake', 'walk', 'walked', 'walker', 'walking', 'wall', 'wall street', 'wall street journal', 'walls', 'want', 'wanted', 'wanting', 'wants', 'war', 'war ii', 'war russia', 'war syria', 'warfare', 'warm', 'warming', 'warned', 'warner', 'warning', 'warrant', 'warren', 'warriors', 'wars', 'washington', 'washington post', 'wasn', 'waste', 'watch', 'watched', 'watching', 'water', 'water protectors', 'waters', 'wave', 'waves', 'way', 'ways', 'weak', 'wealth', 'wealthy', 'weapon', 'weapons', 'wear', 'wearing', 'weather', 'web', 'website', 'websites', 'wedding', 'wednesday', 'week', 'weekdays', 'weekend', 'weekly', 'weeks', 'weeks ago', 'weight', 'weiner', 'welcome', 'welcomed', 'welfare', 'wells', 'wells fargo', 'went', 'weren', 'west', 'west bank', 'western', 'white', 'white house', 'whites', 'wide', 'widely', 'widespread', 'wife', 'wikileaks', 'wild', 'wildlife', 'william', 'williams', 'willing', 'willingness', 'wilson', 'win', 'wind', 'window', 'windows', 'wine', 'wing', 'winner', 'winning', 'wins', 'winter', 'wisconsin', 'wisdom', 'wish', 'withdraw', 'witness', 'witnessed', 'witnesses', 'woman', 'women', 'won', 'wonder', 'wondered', 'wonderful', 'wondering', 'wood', 'word', 'words', 'wore', 'work', 'worked', 'worker', 'workers', 'working', 'working class', 'works', 'world', 'world order', 'world war', 'world war ii', 'worldwide', 'worried', 'worry', 'worse', 'worst', 'worth', 'wouldn', 'wounded', 'write', 'writer', 'writers', 'writes', 'writing', 'written', 'wrong', 'wrote', 'www', 'xi', 'yahoo', 'yards', 'yeah', 'year', 'year ago', 'year old', 'years', 'years ago', 'years later', 'years old', 'yellow', 'yemen', 'yes', 'yesterday', 'yiannopoulos', 'york', 'york city', 'york times', 'young', 'young people', 'younger', 'youth', 'youtube', 'zero', 'zika', 'zone', 'zones', 'zu', 'для', 'за', 'из', 'как', 'мы', 'на', 'не', 'но', 'по', 'сша', 'то', 'что', 'это']\n"
     ]
    }
   ],
   "source": [
    "print(vectorizer.get_feature_names())"
   ]
  },
  {
   "cell_type": "code",
   "execution_count": 74,
   "metadata": {},
   "outputs": [
    {
     "data": {
      "text/plain": [
       "(20800, 5000)"
      ]
     },
     "execution_count": 74,
     "metadata": {},
     "output_type": "execute_result"
    }
   ],
   "source": [
    "train_text_tfidf.shape"
   ]
  },
  {
   "cell_type": "code",
   "execution_count": 85,
   "metadata": {},
   "outputs": [
    {
     "name": "stdout",
     "output_type": "stream",
     "text": [
      "  (0, 2168)\t0.12940988721898655\n",
      "  (0, 248)\t0.20275661587045457\n",
      "  (0, 1313)\t0.18368632604293986\n",
      "  (0, 924)\t0.38172355987380774\n",
      "  (0, 2564)\t0.24280589565725202\n",
      "  (0, 2382)\t0.22159533126240064\n",
      "  (0, 4659)\t0.08612427622065416\n",
      "  (0, 3048)\t0.053067725710507004\n",
      "  (0, 76)\t0.05525700898032327\n",
      "  (0, 54)\t0.03829911233377042\n",
      "  (0, 4338)\t0.045622762252464706\n",
      "  (0, 292)\t0.019402119335482526\n",
      "  (0, 4729)\t0.09927652576724967\n",
      "  (0, 2213)\t0.03386503666050077\n",
      "  (0, 1101)\t0.09608642425926019\n",
      "  (0, 2786)\t0.03116586777118279\n",
      "  (0, 455)\t0.03207182350933723\n",
      "  (0, 1114)\t0.042392583324262205\n",
      "  (0, 2578)\t0.043082028357412955\n",
      "  (0, 1409)\t0.03515617999117226\n",
      "  (0, 4945)\t0.1440900976382808\n",
      "  (0, 3242)\t0.08072307444851475\n",
      "  (0, 4937)\t0.0574730396422326\n",
      "  (0, 4869)\t0.021831449461733245\n",
      "  (0, 1733)\t0.1983668987898422\n",
      "  :\t:\n",
      "  (20799, 2307)\t0.03290927627637119\n",
      "  (20799, 4859)\t0.062462064021677234\n",
      "  (20799, 79)\t0.02719898937613141\n",
      "  (20799, 1283)\t0.08054758947236221\n",
      "  (20799, 4560)\t0.28842165526045843\n",
      "  (20799, 4618)\t0.06776344720179032\n",
      "  (20799, 2830)\t0.028256409653634955\n",
      "  (20799, 4778)\t0.028719169928164204\n",
      "  (20799, 1327)\t0.03666845509647829\n",
      "  (20799, 4124)\t0.03224440983592336\n",
      "  (20799, 2194)\t0.03746877320725659\n",
      "  (20799, 2184)\t0.03192814994110696\n",
      "  (20799, 2171)\t0.09162203748293059\n",
      "  (20799, 1107)\t0.034416801873747634\n",
      "  (20799, 1517)\t0.03753719397970933\n",
      "  (20799, 1570)\t0.08753378849060874\n",
      "  (20799, 2734)\t0.0274928107348648\n",
      "  (20799, 2276)\t0.029702376611472507\n",
      "  (20799, 2997)\t0.03344202848069301\n",
      "  (20799, 42)\t0.030984300522368967\n",
      "  (20799, 2449)\t0.03184050424539484\n",
      "  (20799, 4445)\t0.03474644830928361\n",
      "  (20799, 2725)\t0.03165450474968768\n",
      "  (20799, 1150)\t0.034883057571267806\n",
      "  (20799, 2224)\t0.03746877320725659\n"
     ]
    }
   ],
   "source": [
    "print(train_text_tfidf)"
   ]
  },
  {
   "cell_type": "code",
   "execution_count": 80,
   "metadata": {},
   "outputs": [],
   "source": [
    "train_text_tfidf_array = train_text_tfidf.toarray()"
   ]
  },
  {
   "cell_type": "code",
   "execution_count": 87,
   "metadata": {},
   "outputs": [
    {
     "data": {
      "text/plain": [
       "array([0., 0., 0., ..., 0., 0., 0.])"
      ]
     },
     "execution_count": 87,
     "metadata": {},
     "output_type": "execute_result"
    }
   ],
   "source": [
    "train_text_tfidf_array[2]"
   ]
  },
  {
   "cell_type": "code",
   "execution_count": 84,
   "metadata": {},
   "outputs": [
    {
     "data": {
      "text/plain": [
       "[array(['2012', '2016', '25', '28', '28 2016', '30', 'according', 'acting',\n",
       "        'actually', 'advance', 'agency', 'aide', 'american', 'announcing',\n",
       "        'answer', 'anthony', 'anthony weiner', 'apparently', 'appear',\n",
       "        'attempt', 'available', 'basic', 'boss', 'briefly', 'buy',\n",
       "        'carolina', 'case', 'chairman', 'christian', 'classified',\n",
       "        'classified information', 'click', 'clinton', 'clinton email',\n",
       "        'colleagues', 'college', 'comey', 'committee', 'connect',\n",
       "        'contained', 'control', 'cook', 'course', 'courtesy', 'creative',\n",
       "        'daily', 'dan', 'democratic', 'democrats', 'desire', 'development',\n",
       "        'didn', 'didn know', 'director', 'director james',\n",
       "        'director james comey', 'discovered', 'district', 'does', 'doesn',\n",
       "        'doing', 'don', 'don know', 'doubt', 'email', 'email server',\n",
       "        'emails', 'entire', 'example', 'existence', 'explosive',\n",
       "        'facebook', 'fact', 'facts', 'far', 'fbi', 'fbi director',\n",
       "        'fbi director james', 'follow', 'follow twitter', 'gave', 'given',\n",
       "        'giving', 'good', 'gop', 'got', 'government', 'graduate',\n",
       "        'granted', 'heads', 'hear', 'hillary', 'hillary clinton', 'hot',\n",
       "        'house', 'image', 'increased', 'index', 'information', 'informed',\n",
       "        'instead', 'intelligence', 'investigation', 'investigations',\n",
       "        'james', 'james comey', 'jason', 'journalist', 'judiciary', 'just',\n",
       "        'know', 'leadership', 'learned', 'let', 'letter', 'liberal',\n",
       "        'license', 'light', 'lights', 'like', 'likely', 'little', 'long',\n",
       "        'look', 'look like', 'looking', 'looks', 'looks like', 'machine',\n",
       "        'major', 'make', 'makes', 'marriage', 'matter', 'mean', 'member',\n",
       "        'members', 'michael', 'mitt', 'mitt romney', 'models', 'nation',\n",
       "        'north', 'north carolina', 'notice', 'october', 'october 28',\n",
       "        'october 28 2016', 'old', 'order', 'oversight', 'partisan',\n",
       "        'percent', 'person', 'planned', 'political', 'politically',\n",
       "        'possibly', 'potentially', 'provided', 'public', 'ranking',\n",
       "        'realized', 'receive', 'recently', 'reform', 'related', 'relevant',\n",
       "        'religious', 'republican', 'republicans', 'responsibility',\n",
       "        'resulting', 'right', 'romney', 'saying', 'scared', 'school',\n",
       "        'second', 'senior', 'sent', 'server', 'set', 'silence', 'stand',\n",
       "        'standards', 'subscribe', 'suggest', 'suggests', 'support',\n",
       "        'survived', 'talk', 'teenager', 'tells', 'term', 'theater',\n",
       "        'things', 'thought', 'time', 'told', 'tone', 'turn', 'turning',\n",
       "        'turns', 'tweet', 'tweeted', 'twitter', 'university', 'utah', 've',\n",
       "        've got', 'vote', 'voting', 'vowed', 'way', 'week', 'weiner',\n",
       "        'went', 'wins', 'work', 'world', 'worst', 'worth', 'year', 'years'],\n",
       "       dtype='<U29')]"
      ]
     },
     "execution_count": 84,
     "metadata": {},
     "output_type": "execute_result"
    }
   ],
   "source": [
    "vectorizer.inverse_transform(train_text_tfidf_array[0]) ## just to check what all features are there. "
   ]
  },
  {
   "cell_type": "code",
   "execution_count": 90,
   "metadata": {},
   "outputs": [
    {
     "name": "stdout",
     "output_type": "stream",
     "text": [
      "House Dem Aide: We Didn’t Even See Comey’s Letter Until Jason Chaffetz Tweeted It By Darrell Lucus on October 30, 2016 Subscribe Jason Chaffetz on the stump in American Fork, Utah ( image courtesy Michael Jolley, available under a Creative Commons-BY license) \n",
      "With apologies to Keith Olbermann, there is no doubt who the Worst Person in The World is this week–FBI Director James Comey. But according to a House Democratic aide, it looks like we also know who the second-worst person is as well. It turns out that when Comey sent his now-infamous letter announcing that the FBI was looking into emails that may be related to Hillary Clinton’s email server, the ranking Democrats on the relevant committees didn’t hear about it from Comey. They found out via a tweet from one of the Republican committee chairmen. \n",
      "As we now know, Comey notified the Republican chairmen and Democratic ranking members of the House Intelligence, Judiciary, and Oversight committees that his agency was reviewing emails it had recently discovered in order to see if they contained classified information. Not long after this letter went out, Oversight Committee Chairman Jason Chaffetz set the political world ablaze with this tweet. FBI Dir just informed me, \"The FBI has learned of the existence of emails that appear to be pertinent to the investigation.\" Case reopened \n",
      "— Jason Chaffetz (@jasoninthehouse) October 28, 2016 \n",
      "Of course, we now know that this was not the case . Comey was actually saying that it was reviewing the emails in light of “an unrelated case”–which we now know to be Anthony Weiner’s sexting with a teenager. But apparently such little things as facts didn’t matter to Chaffetz. The Utah Republican had already vowed to initiate a raft of investigations if Hillary wins–at least two years’ worth, and possibly an entire term’s worth of them. Apparently Chaffetz thought the FBI was already doing his work for him–resulting in a tweet that briefly roiled the nation before cooler heads realized it was a dud. \n",
      "But according to a senior House Democratic aide, misreading that letter may have been the least of Chaffetz’ sins. That aide told Shareblue that his boss and other Democrats didn’t even know about Comey’s letter at the time–and only found out when they checked Twitter. “Democratic Ranking Members on the relevant committees didn’t receive Comey’s letter until after the Republican Chairmen. In fact, the Democratic Ranking Members didn’ receive it until after the Chairman of the Oversight and Government Reform Committee, Jason Chaffetz, tweeted it out and made it public.” \n",
      "So let’s see if we’ve got this right. The FBI director tells Chaffetz and other GOP committee chairmen about a major development in a potentially politically explosive investigation, and neither Chaffetz nor his other colleagues had the courtesy to let their Democratic counterparts know about it. Instead, according to this aide, he made them find out about it on Twitter. \n",
      "There has already been talk on Daily Kos that Comey himself provided advance notice of this letter to Chaffetz and other Republicans, giving them time to turn on the spin machine. That may make for good theater, but there is nothing so far that even suggests this is the case. After all, there is nothing so far that suggests that Comey was anything other than grossly incompetent and tone-deaf. \n",
      "What it does suggest, however, is that Chaffetz is acting in a way that makes Dan Burton and Darrell Issa look like models of responsibility and bipartisanship. He didn’t even have the decency to notify ranking member Elijah Cummings about something this explosive. If that doesn’t trample on basic standards of fairness, I don’t know what does. \n",
      "Granted, it’s not likely that Chaffetz will have to answer for this. He sits in a ridiculously Republican district anchored in Provo and Orem; it has a Cook Partisan Voting Index of R+25, and gave Mitt Romney a punishing 78 percent of the vote in 2012. Moreover, the Republican House leadership has given its full support to Chaffetz’ planned fishing expedition. But that doesn’t mean we can’t turn the hot lights on him. After all, he is a textbook example of what the House has become under Republican control. And he is also the Second Worst Person in the World. About Darrell Lucus \n",
      "Darrell is a 30-something graduate of the University of North Carolina who considers himself a journalist of the old school. An attempt to turn him into a member of the religious right in college only succeeded in turning him into the religious right's worst nightmare--a charismatic Christian who is an unapologetic liberal. His desire to stand up for those who have been scared into silence only increased when he survived an abusive three-year marriage. You may know him on Daily Kos as Christian Dem in NC . Follow him on Twitter @DarrellLucus or connect with him on Facebook . Click here to buy Darrell a Mello Yello. Connect\n"
     ]
    }
   ],
   "source": [
    "print(train_text[0])"
   ]
  },
  {
   "cell_type": "markdown",
   "metadata": {},
   "source": [
    "## Naive Bayes!"
   ]
  },
  {
   "cell_type": "code",
   "execution_count": 91,
   "metadata": {},
   "outputs": [],
   "source": [
    "from sklearn.naive_bayes import MultinomialNB"
   ]
  },
  {
   "cell_type": "code",
   "execution_count": 92,
   "metadata": {},
   "outputs": [],
   "source": [
    "mnb = MultinomialNB(alpha=1.0) # alpha is smoothing, setting to 1 is laplace smoothing"
   ]
  },
  {
   "cell_type": "code",
   "execution_count": null,
   "metadata": {},
   "outputs": [],
   "source": []
  }
 ],
 "metadata": {
  "kernelspec": {
   "display_name": "Python 3",
   "language": "python",
   "name": "python3"
  },
  "language_info": {
   "codemirror_mode": {
    "name": "ipython",
    "version": 3
   },
   "file_extension": ".py",
   "mimetype": "text/x-python",
   "name": "python",
   "nbconvert_exporter": "python",
   "pygments_lexer": "ipython3",
   "version": "3.6.5"
  }
 },
 "nbformat": 4,
 "nbformat_minor": 2
}
